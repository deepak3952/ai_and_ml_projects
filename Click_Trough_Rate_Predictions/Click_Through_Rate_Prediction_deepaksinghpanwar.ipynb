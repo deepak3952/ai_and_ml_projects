{
 "cells": [
  {
   "cell_type": "markdown",
   "id": "b7b34966",
   "metadata": {},
   "source": [
    "# Import required libraries"
   ]
  },
  {
   "cell_type": "code",
   "execution_count": 1,
   "id": "ff64cada",
   "metadata": {},
   "outputs": [],
   "source": [
    "# Importing the required libraries\n",
    "import pandas as pd\n",
    "import numpy as np\n",
    "import matplotlib.pyplot as plt\n",
    "%matplotlib inline\n",
    "from sklearn.model_selection import train_test_split\n",
    "from sklearn.preprocessing import StandardScaler\n",
    "from sklearn.tree import DecisionTreeClassifier\n",
    "from sklearn.metrics import classification_report, confusion_matrix\n",
    "from sklearn import metrics\n",
    "from sklearn.tree import DecisionTreeClassifier, export_graphviz\n",
    "from sklearn import tree\n",
    "from IPython.display import SVG\n",
    "from graphviz import Source\n",
    "from IPython.display import display\n",
    "from sklearn.decomposition import PCA\n",
    "from sklearn.cluster import KMeans\n",
    "import seaborn as sns\n",
    "import warnings\n",
    "warnings.filterwarnings('ignore')"
   ]
  },
  {
   "cell_type": "markdown",
   "id": "ab178051",
   "metadata": {},
   "source": [
    "# Load the data"
   ]
  },
  {
   "cell_type": "code",
   "execution_count": 2,
   "id": "50905c80",
   "metadata": {},
   "outputs": [],
   "source": [
    "# Reading the csv file and putting it into 'df' object.\n",
    "df = pd.read_csv('data.csv')"
   ]
  },
  {
   "cell_type": "code",
   "execution_count": 3,
   "id": "83c426c4",
   "metadata": {},
   "outputs": [
    {
     "data": {
      "text/html": [
       "<div>\n",
       "<style scoped>\n",
       "    .dataframe tbody tr th:only-of-type {\n",
       "        vertical-align: middle;\n",
       "    }\n",
       "\n",
       "    .dataframe tbody tr th {\n",
       "        vertical-align: top;\n",
       "    }\n",
       "\n",
       "    .dataframe thead th {\n",
       "        text-align: right;\n",
       "    }\n",
       "</style>\n",
       "<table border=\"1\" class=\"dataframe\">\n",
       "  <thead>\n",
       "    <tr style=\"text-align: right;\">\n",
       "      <th></th>\n",
       "      <th>click</th>\n",
       "      <th>C1</th>\n",
       "      <th>banner_pos</th>\n",
       "      <th>site_id</th>\n",
       "      <th>site_domain</th>\n",
       "      <th>site_category</th>\n",
       "      <th>app_id</th>\n",
       "      <th>app_domain</th>\n",
       "      <th>app_category</th>\n",
       "      <th>device_id</th>\n",
       "      <th>...</th>\n",
       "      <th>C17</th>\n",
       "      <th>C18</th>\n",
       "      <th>C19</th>\n",
       "      <th>C20</th>\n",
       "      <th>C21</th>\n",
       "      <th>month</th>\n",
       "      <th>dayofweek</th>\n",
       "      <th>day</th>\n",
       "      <th>hour</th>\n",
       "      <th>y</th>\n",
       "    </tr>\n",
       "  </thead>\n",
       "  <tbody>\n",
       "    <tr>\n",
       "      <th>0</th>\n",
       "      <td>False</td>\n",
       "      <td>1005</td>\n",
       "      <td>1</td>\n",
       "      <td>856e6d3f</td>\n",
       "      <td>58a89a43</td>\n",
       "      <td>f028772b</td>\n",
       "      <td>ecad2386</td>\n",
       "      <td>7801e8d9</td>\n",
       "      <td>07d7df22</td>\n",
       "      <td>a99f214a</td>\n",
       "      <td>...</td>\n",
       "      <td>2528</td>\n",
       "      <td>0</td>\n",
       "      <td>39</td>\n",
       "      <td>100075</td>\n",
       "      <td>221</td>\n",
       "      <td>10</td>\n",
       "      <td>1</td>\n",
       "      <td>28</td>\n",
       "      <td>14</td>\n",
       "      <td>0</td>\n",
       "    </tr>\n",
       "    <tr>\n",
       "      <th>1</th>\n",
       "      <td>True</td>\n",
       "      <td>1005</td>\n",
       "      <td>1</td>\n",
       "      <td>e151e245</td>\n",
       "      <td>7e091613</td>\n",
       "      <td>f028772b</td>\n",
       "      <td>ecad2386</td>\n",
       "      <td>7801e8d9</td>\n",
       "      <td>07d7df22</td>\n",
       "      <td>a99f214a</td>\n",
       "      <td>...</td>\n",
       "      <td>1934</td>\n",
       "      <td>2</td>\n",
       "      <td>39</td>\n",
       "      <td>-1</td>\n",
       "      <td>16</td>\n",
       "      <td>10</td>\n",
       "      <td>2</td>\n",
       "      <td>22</td>\n",
       "      <td>19</td>\n",
       "      <td>1</td>\n",
       "    </tr>\n",
       "    <tr>\n",
       "      <th>2</th>\n",
       "      <td>False</td>\n",
       "      <td>1005</td>\n",
       "      <td>0</td>\n",
       "      <td>e3c09f3a</td>\n",
       "      <td>d262cf1e</td>\n",
       "      <td>28905ebd</td>\n",
       "      <td>ecad2386</td>\n",
       "      <td>7801e8d9</td>\n",
       "      <td>07d7df22</td>\n",
       "      <td>a99f214a</td>\n",
       "      <td>...</td>\n",
       "      <td>2552</td>\n",
       "      <td>3</td>\n",
       "      <td>167</td>\n",
       "      <td>100202</td>\n",
       "      <td>23</td>\n",
       "      <td>10</td>\n",
       "      <td>3</td>\n",
       "      <td>23</td>\n",
       "      <td>18</td>\n",
       "      <td>0</td>\n",
       "    </tr>\n",
       "    <tr>\n",
       "      <th>3</th>\n",
       "      <td>False</td>\n",
       "      <td>1002</td>\n",
       "      <td>0</td>\n",
       "      <td>0da94452</td>\n",
       "      <td>248e439f</td>\n",
       "      <td>50e219e0</td>\n",
       "      <td>ecad2386</td>\n",
       "      <td>7801e8d9</td>\n",
       "      <td>07d7df22</td>\n",
       "      <td>0fa578fd</td>\n",
       "      <td>...</td>\n",
       "      <td>2478</td>\n",
       "      <td>3</td>\n",
       "      <td>167</td>\n",
       "      <td>100074</td>\n",
       "      <td>23</td>\n",
       "      <td>10</td>\n",
       "      <td>2</td>\n",
       "      <td>22</td>\n",
       "      <td>19</td>\n",
       "      <td>0</td>\n",
       "    </tr>\n",
       "    <tr>\n",
       "      <th>4</th>\n",
       "      <td>True</td>\n",
       "      <td>1005</td>\n",
       "      <td>0</td>\n",
       "      <td>1fbe01fe</td>\n",
       "      <td>f3845767</td>\n",
       "      <td>28905ebd</td>\n",
       "      <td>ecad2386</td>\n",
       "      <td>7801e8d9</td>\n",
       "      <td>07d7df22</td>\n",
       "      <td>a99f214a</td>\n",
       "      <td>...</td>\n",
       "      <td>1722</td>\n",
       "      <td>0</td>\n",
       "      <td>35</td>\n",
       "      <td>-1</td>\n",
       "      <td>79</td>\n",
       "      <td>10</td>\n",
       "      <td>1</td>\n",
       "      <td>21</td>\n",
       "      <td>8</td>\n",
       "      <td>1</td>\n",
       "    </tr>\n",
       "  </tbody>\n",
       "</table>\n",
       "<p>5 rows × 27 columns</p>\n",
       "</div>"
      ],
      "text/plain": [
       "   click    C1  banner_pos   site_id site_domain site_category    app_id  \\\n",
       "0  False  1005           1  856e6d3f    58a89a43      f028772b  ecad2386   \n",
       "1   True  1005           1  e151e245    7e091613      f028772b  ecad2386   \n",
       "2  False  1005           0  e3c09f3a    d262cf1e      28905ebd  ecad2386   \n",
       "3  False  1002           0  0da94452    248e439f      50e219e0  ecad2386   \n",
       "4   True  1005           0  1fbe01fe    f3845767      28905ebd  ecad2386   \n",
       "\n",
       "  app_domain app_category device_id  ...   C17 C18  C19     C20  C21  month  \\\n",
       "0   7801e8d9     07d7df22  a99f214a  ...  2528   0   39  100075  221     10   \n",
       "1   7801e8d9     07d7df22  a99f214a  ...  1934   2   39      -1   16     10   \n",
       "2   7801e8d9     07d7df22  a99f214a  ...  2552   3  167  100202   23     10   \n",
       "3   7801e8d9     07d7df22  0fa578fd  ...  2478   3  167  100074   23     10   \n",
       "4   7801e8d9     07d7df22  a99f214a  ...  1722   0   35      -1   79     10   \n",
       "\n",
       "   dayofweek  day  hour  y  \n",
       "0          1   28    14  0  \n",
       "1          2   22    19  1  \n",
       "2          3   23    18  0  \n",
       "3          2   22    19  0  \n",
       "4          1   21     8  1  \n",
       "\n",
       "[5 rows x 27 columns]"
      ]
     },
     "execution_count": 3,
     "metadata": {},
     "output_type": "execute_result"
    }
   ],
   "source": [
    "# View the data\n",
    "df.head()"
   ]
  },
  {
   "cell_type": "code",
   "execution_count": 4,
   "id": "2ac985b2",
   "metadata": {},
   "outputs": [
    {
     "name": "stdout",
     "output_type": "stream",
     "text": [
      "<class 'pandas.core.frame.DataFrame'>\n",
      "RangeIndex: 99999 entries, 0 to 99998\n",
      "Data columns (total 27 columns):\n",
      " #   Column            Non-Null Count  Dtype \n",
      "---  ------            --------------  ----- \n",
      " 0   click             99999 non-null  bool  \n",
      " 1   C1                99999 non-null  int64 \n",
      " 2   banner_pos        99999 non-null  int64 \n",
      " 3   site_id           99999 non-null  object\n",
      " 4   site_domain       99999 non-null  object\n",
      " 5   site_category     99999 non-null  object\n",
      " 6   app_id            99999 non-null  object\n",
      " 7   app_domain        99999 non-null  object\n",
      " 8   app_category      99999 non-null  object\n",
      " 9   device_id         99999 non-null  object\n",
      " 10  device_ip         99999 non-null  object\n",
      " 11  device_model      99999 non-null  object\n",
      " 12  device_type       99999 non-null  int64 \n",
      " 13  device_conn_type  99999 non-null  int64 \n",
      " 14  C14               99999 non-null  int64 \n",
      " 15  C15               99999 non-null  int64 \n",
      " 16  C16               99999 non-null  int64 \n",
      " 17  C17               99999 non-null  int64 \n",
      " 18  C18               99999 non-null  int64 \n",
      " 19  C19               99999 non-null  int64 \n",
      " 20  C20               99999 non-null  int64 \n",
      " 21  C21               99999 non-null  int64 \n",
      " 22  month             99999 non-null  int64 \n",
      " 23  dayofweek         99999 non-null  int64 \n",
      " 24  day               99999 non-null  int64 \n",
      " 25  hour              99999 non-null  int64 \n",
      " 26  y                 99999 non-null  int64 \n",
      "dtypes: bool(1), int64(17), object(9)\n",
      "memory usage: 19.9+ MB\n"
     ]
    }
   ],
   "source": [
    "df.info()"
   ]
  },
  {
   "cell_type": "code",
   "execution_count": 5,
   "id": "a83f5f13",
   "metadata": {},
   "outputs": [
    {
     "data": {
      "text/html": [
       "<div>\n",
       "<style scoped>\n",
       "    .dataframe tbody tr th:only-of-type {\n",
       "        vertical-align: middle;\n",
       "    }\n",
       "\n",
       "    .dataframe tbody tr th {\n",
       "        vertical-align: top;\n",
       "    }\n",
       "\n",
       "    .dataframe thead th {\n",
       "        text-align: right;\n",
       "    }\n",
       "</style>\n",
       "<table border=\"1\" class=\"dataframe\">\n",
       "  <thead>\n",
       "    <tr style=\"text-align: right;\">\n",
       "      <th></th>\n",
       "      <th>C1</th>\n",
       "      <th>banner_pos</th>\n",
       "      <th>device_type</th>\n",
       "      <th>device_conn_type</th>\n",
       "      <th>C14</th>\n",
       "      <th>C15</th>\n",
       "      <th>C16</th>\n",
       "      <th>C17</th>\n",
       "      <th>C18</th>\n",
       "      <th>C19</th>\n",
       "      <th>C20</th>\n",
       "      <th>C21</th>\n",
       "      <th>month</th>\n",
       "      <th>dayofweek</th>\n",
       "      <th>day</th>\n",
       "      <th>hour</th>\n",
       "      <th>y</th>\n",
       "    </tr>\n",
       "  </thead>\n",
       "  <tbody>\n",
       "    <tr>\n",
       "      <th>count</th>\n",
       "      <td>99999.000000</td>\n",
       "      <td>99999.000000</td>\n",
       "      <td>99999.00000</td>\n",
       "      <td>99999.000000</td>\n",
       "      <td>99999.000000</td>\n",
       "      <td>99999.000000</td>\n",
       "      <td>99999.000000</td>\n",
       "      <td>99999.000000</td>\n",
       "      <td>99999.000000</td>\n",
       "      <td>99999.000000</td>\n",
       "      <td>99999.000000</td>\n",
       "      <td>99999.000000</td>\n",
       "      <td>99999.0</td>\n",
       "      <td>99999.000000</td>\n",
       "      <td>99999.000000</td>\n",
       "      <td>99999.000000</td>\n",
       "      <td>99999.000000</td>\n",
       "    </tr>\n",
       "    <tr>\n",
       "      <th>mean</th>\n",
       "      <td>1004.967550</td>\n",
       "      <td>0.289943</td>\n",
       "      <td>1.01639</td>\n",
       "      <td>0.329453</td>\n",
       "      <td>18857.231732</td>\n",
       "      <td>318.834548</td>\n",
       "      <td>60.278743</td>\n",
       "      <td>2114.613036</td>\n",
       "      <td>1.439904</td>\n",
       "      <td>227.234932</td>\n",
       "      <td>53292.001950</td>\n",
       "      <td>83.163542</td>\n",
       "      <td>10.0</td>\n",
       "      <td>2.592836</td>\n",
       "      <td>25.485755</td>\n",
       "      <td>11.300673</td>\n",
       "      <td>0.169802</td>\n",
       "    </tr>\n",
       "    <tr>\n",
       "      <th>std</th>\n",
       "      <td>1.091916</td>\n",
       "      <td>0.505707</td>\n",
       "      <td>0.53110</td>\n",
       "      <td>0.854673</td>\n",
       "      <td>4944.919482</td>\n",
       "      <td>21.510752</td>\n",
       "      <td>47.713436</td>\n",
       "      <td>607.469442</td>\n",
       "      <td>1.326824</td>\n",
       "      <td>351.472366</td>\n",
       "      <td>49952.340367</td>\n",
       "      <td>70.161076</td>\n",
       "      <td>0.0</td>\n",
       "      <td>1.723003</td>\n",
       "      <td>2.968520</td>\n",
       "      <td>5.938725</td>\n",
       "      <td>0.375460</td>\n",
       "    </tr>\n",
       "    <tr>\n",
       "      <th>min</th>\n",
       "      <td>1001.000000</td>\n",
       "      <td>0.000000</td>\n",
       "      <td>0.00000</td>\n",
       "      <td>0.000000</td>\n",
       "      <td>375.000000</td>\n",
       "      <td>120.000000</td>\n",
       "      <td>20.000000</td>\n",
       "      <td>112.000000</td>\n",
       "      <td>0.000000</td>\n",
       "      <td>33.000000</td>\n",
       "      <td>-1.000000</td>\n",
       "      <td>1.000000</td>\n",
       "      <td>10.0</td>\n",
       "      <td>0.000000</td>\n",
       "      <td>21.000000</td>\n",
       "      <td>0.000000</td>\n",
       "      <td>0.000000</td>\n",
       "    </tr>\n",
       "    <tr>\n",
       "      <th>25%</th>\n",
       "      <td>1005.000000</td>\n",
       "      <td>0.000000</td>\n",
       "      <td>1.00000</td>\n",
       "      <td>0.000000</td>\n",
       "      <td>16920.000000</td>\n",
       "      <td>320.000000</td>\n",
       "      <td>50.000000</td>\n",
       "      <td>1863.000000</td>\n",
       "      <td>0.000000</td>\n",
       "      <td>35.000000</td>\n",
       "      <td>-1.000000</td>\n",
       "      <td>23.000000</td>\n",
       "      <td>10.0</td>\n",
       "      <td>1.000000</td>\n",
       "      <td>23.000000</td>\n",
       "      <td>7.000000</td>\n",
       "      <td>0.000000</td>\n",
       "    </tr>\n",
       "    <tr>\n",
       "      <th>50%</th>\n",
       "      <td>1005.000000</td>\n",
       "      <td>0.000000</td>\n",
       "      <td>1.00000</td>\n",
       "      <td>0.000000</td>\n",
       "      <td>20346.000000</td>\n",
       "      <td>320.000000</td>\n",
       "      <td>50.000000</td>\n",
       "      <td>2323.000000</td>\n",
       "      <td>2.000000</td>\n",
       "      <td>39.000000</td>\n",
       "      <td>100050.000000</td>\n",
       "      <td>61.000000</td>\n",
       "      <td>10.0</td>\n",
       "      <td>2.000000</td>\n",
       "      <td>26.000000</td>\n",
       "      <td>11.000000</td>\n",
       "      <td>0.000000</td>\n",
       "    </tr>\n",
       "    <tr>\n",
       "      <th>75%</th>\n",
       "      <td>1005.000000</td>\n",
       "      <td>1.000000</td>\n",
       "      <td>1.00000</td>\n",
       "      <td>0.000000</td>\n",
       "      <td>21893.000000</td>\n",
       "      <td>320.000000</td>\n",
       "      <td>50.000000</td>\n",
       "      <td>2526.000000</td>\n",
       "      <td>3.000000</td>\n",
       "      <td>171.000000</td>\n",
       "      <td>100093.000000</td>\n",
       "      <td>101.000000</td>\n",
       "      <td>10.0</td>\n",
       "      <td>4.000000</td>\n",
       "      <td>28.000000</td>\n",
       "      <td>16.000000</td>\n",
       "      <td>0.000000</td>\n",
       "    </tr>\n",
       "    <tr>\n",
       "      <th>max</th>\n",
       "      <td>1012.000000</td>\n",
       "      <td>7.000000</td>\n",
       "      <td>5.00000</td>\n",
       "      <td>5.000000</td>\n",
       "      <td>24043.000000</td>\n",
       "      <td>1024.000000</td>\n",
       "      <td>1024.000000</td>\n",
       "      <td>2757.000000</td>\n",
       "      <td>3.000000</td>\n",
       "      <td>1839.000000</td>\n",
       "      <td>100248.000000</td>\n",
       "      <td>255.000000</td>\n",
       "      <td>10.0</td>\n",
       "      <td>6.000000</td>\n",
       "      <td>30.000000</td>\n",
       "      <td>23.000000</td>\n",
       "      <td>1.000000</td>\n",
       "    </tr>\n",
       "  </tbody>\n",
       "</table>\n",
       "</div>"
      ],
      "text/plain": [
       "                 C1    banner_pos  device_type  device_conn_type  \\\n",
       "count  99999.000000  99999.000000  99999.00000      99999.000000   \n",
       "mean    1004.967550      0.289943      1.01639          0.329453   \n",
       "std        1.091916      0.505707      0.53110          0.854673   \n",
       "min     1001.000000      0.000000      0.00000          0.000000   \n",
       "25%     1005.000000      0.000000      1.00000          0.000000   \n",
       "50%     1005.000000      0.000000      1.00000          0.000000   \n",
       "75%     1005.000000      1.000000      1.00000          0.000000   \n",
       "max     1012.000000      7.000000      5.00000          5.000000   \n",
       "\n",
       "                C14           C15           C16           C17           C18  \\\n",
       "count  99999.000000  99999.000000  99999.000000  99999.000000  99999.000000   \n",
       "mean   18857.231732    318.834548     60.278743   2114.613036      1.439904   \n",
       "std     4944.919482     21.510752     47.713436    607.469442      1.326824   \n",
       "min      375.000000    120.000000     20.000000    112.000000      0.000000   \n",
       "25%    16920.000000    320.000000     50.000000   1863.000000      0.000000   \n",
       "50%    20346.000000    320.000000     50.000000   2323.000000      2.000000   \n",
       "75%    21893.000000    320.000000     50.000000   2526.000000      3.000000   \n",
       "max    24043.000000   1024.000000   1024.000000   2757.000000      3.000000   \n",
       "\n",
       "                C19            C20           C21    month     dayofweek  \\\n",
       "count  99999.000000   99999.000000  99999.000000  99999.0  99999.000000   \n",
       "mean     227.234932   53292.001950     83.163542     10.0      2.592836   \n",
       "std      351.472366   49952.340367     70.161076      0.0      1.723003   \n",
       "min       33.000000      -1.000000      1.000000     10.0      0.000000   \n",
       "25%       35.000000      -1.000000     23.000000     10.0      1.000000   \n",
       "50%       39.000000  100050.000000     61.000000     10.0      2.000000   \n",
       "75%      171.000000  100093.000000    101.000000     10.0      4.000000   \n",
       "max     1839.000000  100248.000000    255.000000     10.0      6.000000   \n",
       "\n",
       "                day          hour             y  \n",
       "count  99999.000000  99999.000000  99999.000000  \n",
       "mean      25.485755     11.300673      0.169802  \n",
       "std        2.968520      5.938725      0.375460  \n",
       "min       21.000000      0.000000      0.000000  \n",
       "25%       23.000000      7.000000      0.000000  \n",
       "50%       26.000000     11.000000      0.000000  \n",
       "75%       28.000000     16.000000      0.000000  \n",
       "max       30.000000     23.000000      1.000000  "
      ]
     },
     "execution_count": 5,
     "metadata": {},
     "output_type": "execute_result"
    }
   ],
   "source": [
    "df.describe()"
   ]
  },
  {
   "cell_type": "code",
   "execution_count": 6,
   "id": "41adcd1c",
   "metadata": {},
   "outputs": [
    {
     "data": {
      "text/plain": [
       "click               0\n",
       "C1                  0\n",
       "banner_pos          0\n",
       "site_id             0\n",
       "site_domain         0\n",
       "site_category       0\n",
       "app_id              0\n",
       "app_domain          0\n",
       "app_category        0\n",
       "device_id           0\n",
       "device_ip           0\n",
       "device_model        0\n",
       "device_type         0\n",
       "device_conn_type    0\n",
       "C14                 0\n",
       "C15                 0\n",
       "C16                 0\n",
       "C17                 0\n",
       "C18                 0\n",
       "C19                 0\n",
       "C20                 0\n",
       "C21                 0\n",
       "month               0\n",
       "dayofweek           0\n",
       "day                 0\n",
       "hour                0\n",
       "y                   0\n",
       "dtype: int64"
      ]
     },
     "execution_count": 6,
     "metadata": {},
     "output_type": "execute_result"
    }
   ],
   "source": [
    "df.isnull().sum()"
   ]
  },
  {
   "cell_type": "code",
   "execution_count": 7,
   "id": "1322334a",
   "metadata": {},
   "outputs": [
    {
     "data": {
      "text/html": [
       "<div>\n",
       "<style scoped>\n",
       "    .dataframe tbody tr th:only-of-type {\n",
       "        vertical-align: middle;\n",
       "    }\n",
       "\n",
       "    .dataframe tbody tr th {\n",
       "        vertical-align: top;\n",
       "    }\n",
       "\n",
       "    .dataframe thead th {\n",
       "        text-align: right;\n",
       "    }\n",
       "</style>\n",
       "<table border=\"1\" class=\"dataframe\">\n",
       "  <thead>\n",
       "    <tr style=\"text-align: right;\">\n",
       "      <th></th>\n",
       "      <th>click</th>\n",
       "      <th>C1</th>\n",
       "      <th>banner_pos</th>\n",
       "      <th>site_id</th>\n",
       "      <th>site_domain</th>\n",
       "      <th>site_category</th>\n",
       "      <th>app_id</th>\n",
       "      <th>app_domain</th>\n",
       "      <th>app_category</th>\n",
       "      <th>device_id</th>\n",
       "      <th>...</th>\n",
       "      <th>C17</th>\n",
       "      <th>C18</th>\n",
       "      <th>C19</th>\n",
       "      <th>C20</th>\n",
       "      <th>C21</th>\n",
       "      <th>month</th>\n",
       "      <th>dayofweek</th>\n",
       "      <th>day</th>\n",
       "      <th>hour</th>\n",
       "      <th>y</th>\n",
       "    </tr>\n",
       "  </thead>\n",
       "  <tbody>\n",
       "    <tr>\n",
       "      <th>count</th>\n",
       "      <td>99999</td>\n",
       "      <td>99999.000000</td>\n",
       "      <td>99999.000000</td>\n",
       "      <td>99999</td>\n",
       "      <td>99999</td>\n",
       "      <td>99999</td>\n",
       "      <td>99999</td>\n",
       "      <td>99999</td>\n",
       "      <td>99999</td>\n",
       "      <td>99999</td>\n",
       "      <td>...</td>\n",
       "      <td>99999.000000</td>\n",
       "      <td>99999.000000</td>\n",
       "      <td>99999.000000</td>\n",
       "      <td>99999.000000</td>\n",
       "      <td>99999.000000</td>\n",
       "      <td>99999.0</td>\n",
       "      <td>99999.000000</td>\n",
       "      <td>99999.000000</td>\n",
       "      <td>99999.000000</td>\n",
       "      <td>99999.000000</td>\n",
       "    </tr>\n",
       "    <tr>\n",
       "      <th>unique</th>\n",
       "      <td>2</td>\n",
       "      <td>NaN</td>\n",
       "      <td>NaN</td>\n",
       "      <td>1485</td>\n",
       "      <td>1331</td>\n",
       "      <td>19</td>\n",
       "      <td>1354</td>\n",
       "      <td>96</td>\n",
       "      <td>21</td>\n",
       "      <td>16801</td>\n",
       "      <td>...</td>\n",
       "      <td>NaN</td>\n",
       "      <td>NaN</td>\n",
       "      <td>NaN</td>\n",
       "      <td>NaN</td>\n",
       "      <td>NaN</td>\n",
       "      <td>NaN</td>\n",
       "      <td>NaN</td>\n",
       "      <td>NaN</td>\n",
       "      <td>NaN</td>\n",
       "      <td>NaN</td>\n",
       "    </tr>\n",
       "    <tr>\n",
       "      <th>top</th>\n",
       "      <td>False</td>\n",
       "      <td>NaN</td>\n",
       "      <td>NaN</td>\n",
       "      <td>85f751fd</td>\n",
       "      <td>c4e18dd6</td>\n",
       "      <td>50e219e0</td>\n",
       "      <td>ecad2386</td>\n",
       "      <td>7801e8d9</td>\n",
       "      <td>07d7df22</td>\n",
       "      <td>a99f214a</td>\n",
       "      <td>...</td>\n",
       "      <td>NaN</td>\n",
       "      <td>NaN</td>\n",
       "      <td>NaN</td>\n",
       "      <td>NaN</td>\n",
       "      <td>NaN</td>\n",
       "      <td>NaN</td>\n",
       "      <td>NaN</td>\n",
       "      <td>NaN</td>\n",
       "      <td>NaN</td>\n",
       "      <td>NaN</td>\n",
       "    </tr>\n",
       "    <tr>\n",
       "      <th>freq</th>\n",
       "      <td>83019</td>\n",
       "      <td>NaN</td>\n",
       "      <td>NaN</td>\n",
       "      <td>36022</td>\n",
       "      <td>37362</td>\n",
       "      <td>40839</td>\n",
       "      <td>63977</td>\n",
       "      <td>67464</td>\n",
       "      <td>64769</td>\n",
       "      <td>82579</td>\n",
       "      <td>...</td>\n",
       "      <td>NaN</td>\n",
       "      <td>NaN</td>\n",
       "      <td>NaN</td>\n",
       "      <td>NaN</td>\n",
       "      <td>NaN</td>\n",
       "      <td>NaN</td>\n",
       "      <td>NaN</td>\n",
       "      <td>NaN</td>\n",
       "      <td>NaN</td>\n",
       "      <td>NaN</td>\n",
       "    </tr>\n",
       "    <tr>\n",
       "      <th>mean</th>\n",
       "      <td>NaN</td>\n",
       "      <td>1004.967550</td>\n",
       "      <td>0.289943</td>\n",
       "      <td>NaN</td>\n",
       "      <td>NaN</td>\n",
       "      <td>NaN</td>\n",
       "      <td>NaN</td>\n",
       "      <td>NaN</td>\n",
       "      <td>NaN</td>\n",
       "      <td>NaN</td>\n",
       "      <td>...</td>\n",
       "      <td>2114.613036</td>\n",
       "      <td>1.439904</td>\n",
       "      <td>227.234932</td>\n",
       "      <td>53292.001950</td>\n",
       "      <td>83.163542</td>\n",
       "      <td>10.0</td>\n",
       "      <td>2.592836</td>\n",
       "      <td>25.485755</td>\n",
       "      <td>11.300673</td>\n",
       "      <td>0.169802</td>\n",
       "    </tr>\n",
       "    <tr>\n",
       "      <th>std</th>\n",
       "      <td>NaN</td>\n",
       "      <td>1.091916</td>\n",
       "      <td>0.505707</td>\n",
       "      <td>NaN</td>\n",
       "      <td>NaN</td>\n",
       "      <td>NaN</td>\n",
       "      <td>NaN</td>\n",
       "      <td>NaN</td>\n",
       "      <td>NaN</td>\n",
       "      <td>NaN</td>\n",
       "      <td>...</td>\n",
       "      <td>607.469442</td>\n",
       "      <td>1.326824</td>\n",
       "      <td>351.472366</td>\n",
       "      <td>49952.340367</td>\n",
       "      <td>70.161076</td>\n",
       "      <td>0.0</td>\n",
       "      <td>1.723003</td>\n",
       "      <td>2.968520</td>\n",
       "      <td>5.938725</td>\n",
       "      <td>0.375460</td>\n",
       "    </tr>\n",
       "    <tr>\n",
       "      <th>min</th>\n",
       "      <td>NaN</td>\n",
       "      <td>1001.000000</td>\n",
       "      <td>0.000000</td>\n",
       "      <td>NaN</td>\n",
       "      <td>NaN</td>\n",
       "      <td>NaN</td>\n",
       "      <td>NaN</td>\n",
       "      <td>NaN</td>\n",
       "      <td>NaN</td>\n",
       "      <td>NaN</td>\n",
       "      <td>...</td>\n",
       "      <td>112.000000</td>\n",
       "      <td>0.000000</td>\n",
       "      <td>33.000000</td>\n",
       "      <td>-1.000000</td>\n",
       "      <td>1.000000</td>\n",
       "      <td>10.0</td>\n",
       "      <td>0.000000</td>\n",
       "      <td>21.000000</td>\n",
       "      <td>0.000000</td>\n",
       "      <td>0.000000</td>\n",
       "    </tr>\n",
       "    <tr>\n",
       "      <th>25%</th>\n",
       "      <td>NaN</td>\n",
       "      <td>1005.000000</td>\n",
       "      <td>0.000000</td>\n",
       "      <td>NaN</td>\n",
       "      <td>NaN</td>\n",
       "      <td>NaN</td>\n",
       "      <td>NaN</td>\n",
       "      <td>NaN</td>\n",
       "      <td>NaN</td>\n",
       "      <td>NaN</td>\n",
       "      <td>...</td>\n",
       "      <td>1863.000000</td>\n",
       "      <td>0.000000</td>\n",
       "      <td>35.000000</td>\n",
       "      <td>-1.000000</td>\n",
       "      <td>23.000000</td>\n",
       "      <td>10.0</td>\n",
       "      <td>1.000000</td>\n",
       "      <td>23.000000</td>\n",
       "      <td>7.000000</td>\n",
       "      <td>0.000000</td>\n",
       "    </tr>\n",
       "    <tr>\n",
       "      <th>50%</th>\n",
       "      <td>NaN</td>\n",
       "      <td>1005.000000</td>\n",
       "      <td>0.000000</td>\n",
       "      <td>NaN</td>\n",
       "      <td>NaN</td>\n",
       "      <td>NaN</td>\n",
       "      <td>NaN</td>\n",
       "      <td>NaN</td>\n",
       "      <td>NaN</td>\n",
       "      <td>NaN</td>\n",
       "      <td>...</td>\n",
       "      <td>2323.000000</td>\n",
       "      <td>2.000000</td>\n",
       "      <td>39.000000</td>\n",
       "      <td>100050.000000</td>\n",
       "      <td>61.000000</td>\n",
       "      <td>10.0</td>\n",
       "      <td>2.000000</td>\n",
       "      <td>26.000000</td>\n",
       "      <td>11.000000</td>\n",
       "      <td>0.000000</td>\n",
       "    </tr>\n",
       "    <tr>\n",
       "      <th>75%</th>\n",
       "      <td>NaN</td>\n",
       "      <td>1005.000000</td>\n",
       "      <td>1.000000</td>\n",
       "      <td>NaN</td>\n",
       "      <td>NaN</td>\n",
       "      <td>NaN</td>\n",
       "      <td>NaN</td>\n",
       "      <td>NaN</td>\n",
       "      <td>NaN</td>\n",
       "      <td>NaN</td>\n",
       "      <td>...</td>\n",
       "      <td>2526.000000</td>\n",
       "      <td>3.000000</td>\n",
       "      <td>171.000000</td>\n",
       "      <td>100093.000000</td>\n",
       "      <td>101.000000</td>\n",
       "      <td>10.0</td>\n",
       "      <td>4.000000</td>\n",
       "      <td>28.000000</td>\n",
       "      <td>16.000000</td>\n",
       "      <td>0.000000</td>\n",
       "    </tr>\n",
       "    <tr>\n",
       "      <th>max</th>\n",
       "      <td>NaN</td>\n",
       "      <td>1012.000000</td>\n",
       "      <td>7.000000</td>\n",
       "      <td>NaN</td>\n",
       "      <td>NaN</td>\n",
       "      <td>NaN</td>\n",
       "      <td>NaN</td>\n",
       "      <td>NaN</td>\n",
       "      <td>NaN</td>\n",
       "      <td>NaN</td>\n",
       "      <td>...</td>\n",
       "      <td>2757.000000</td>\n",
       "      <td>3.000000</td>\n",
       "      <td>1839.000000</td>\n",
       "      <td>100248.000000</td>\n",
       "      <td>255.000000</td>\n",
       "      <td>10.0</td>\n",
       "      <td>6.000000</td>\n",
       "      <td>30.000000</td>\n",
       "      <td>23.000000</td>\n",
       "      <td>1.000000</td>\n",
       "    </tr>\n",
       "  </tbody>\n",
       "</table>\n",
       "<p>11 rows × 27 columns</p>\n",
       "</div>"
      ],
      "text/plain": [
       "        click            C1    banner_pos   site_id site_domain site_category  \\\n",
       "count   99999  99999.000000  99999.000000     99999       99999         99999   \n",
       "unique      2           NaN           NaN      1485        1331            19   \n",
       "top     False           NaN           NaN  85f751fd    c4e18dd6      50e219e0   \n",
       "freq    83019           NaN           NaN     36022       37362         40839   \n",
       "mean      NaN   1004.967550      0.289943       NaN         NaN           NaN   \n",
       "std       NaN      1.091916      0.505707       NaN         NaN           NaN   \n",
       "min       NaN   1001.000000      0.000000       NaN         NaN           NaN   \n",
       "25%       NaN   1005.000000      0.000000       NaN         NaN           NaN   \n",
       "50%       NaN   1005.000000      0.000000       NaN         NaN           NaN   \n",
       "75%       NaN   1005.000000      1.000000       NaN         NaN           NaN   \n",
       "max       NaN   1012.000000      7.000000       NaN         NaN           NaN   \n",
       "\n",
       "          app_id app_domain app_category device_id  ...           C17  \\\n",
       "count      99999      99999        99999     99999  ...  99999.000000   \n",
       "unique      1354         96           21     16801  ...           NaN   \n",
       "top     ecad2386   7801e8d9     07d7df22  a99f214a  ...           NaN   \n",
       "freq       63977      67464        64769     82579  ...           NaN   \n",
       "mean         NaN        NaN          NaN       NaN  ...   2114.613036   \n",
       "std          NaN        NaN          NaN       NaN  ...    607.469442   \n",
       "min          NaN        NaN          NaN       NaN  ...    112.000000   \n",
       "25%          NaN        NaN          NaN       NaN  ...   1863.000000   \n",
       "50%          NaN        NaN          NaN       NaN  ...   2323.000000   \n",
       "75%          NaN        NaN          NaN       NaN  ...   2526.000000   \n",
       "max          NaN        NaN          NaN       NaN  ...   2757.000000   \n",
       "\n",
       "                 C18           C19            C20           C21    month  \\\n",
       "count   99999.000000  99999.000000   99999.000000  99999.000000  99999.0   \n",
       "unique           NaN           NaN            NaN           NaN      NaN   \n",
       "top              NaN           NaN            NaN           NaN      NaN   \n",
       "freq             NaN           NaN            NaN           NaN      NaN   \n",
       "mean        1.439904    227.234932   53292.001950     83.163542     10.0   \n",
       "std         1.326824    351.472366   49952.340367     70.161076      0.0   \n",
       "min         0.000000     33.000000      -1.000000      1.000000     10.0   \n",
       "25%         0.000000     35.000000      -1.000000     23.000000     10.0   \n",
       "50%         2.000000     39.000000  100050.000000     61.000000     10.0   \n",
       "75%         3.000000    171.000000  100093.000000    101.000000     10.0   \n",
       "max         3.000000   1839.000000  100248.000000    255.000000     10.0   \n",
       "\n",
       "           dayofweek           day          hour             y  \n",
       "count   99999.000000  99999.000000  99999.000000  99999.000000  \n",
       "unique           NaN           NaN           NaN           NaN  \n",
       "top              NaN           NaN           NaN           NaN  \n",
       "freq             NaN           NaN           NaN           NaN  \n",
       "mean        2.592836     25.485755     11.300673      0.169802  \n",
       "std         1.723003      2.968520      5.938725      0.375460  \n",
       "min         0.000000     21.000000      0.000000      0.000000  \n",
       "25%         1.000000     23.000000      7.000000      0.000000  \n",
       "50%         2.000000     26.000000     11.000000      0.000000  \n",
       "75%         4.000000     28.000000     16.000000      0.000000  \n",
       "max         6.000000     30.000000     23.000000      1.000000  \n",
       "\n",
       "[11 rows x 27 columns]"
      ]
     },
     "execution_count": 7,
     "metadata": {},
     "output_type": "execute_result"
    }
   ],
   "source": [
    "df.describe(include = 'all')"
   ]
  },
  {
   "cell_type": "markdown",
   "id": "39553f05",
   "metadata": {},
   "source": [
    "# Discriptive Analysis Result"
   ]
  },
  {
   "cell_type": "code",
   "execution_count": 8,
   "id": "a535881f",
   "metadata": {},
   "outputs": [
    {
     "name": "stdout",
     "output_type": "stream",
     "text": [
      "0    83019\n",
      "1    16980\n",
      "Name: y, dtype: int64\n",
      "positive sample count : 0.17\n"
     ]
    },
    {
     "data": {
      "image/png": "[encoded data removed]",
      "text/plain": [
       "<Figure size 720x432 with 1 Axes>"
      ]
     },
     "metadata": {
      "needs_background": "light"
     },
     "output_type": "display_data"
    }
   ],
   "source": [
    "df_click = df['y'].value_counts() # y represent the click here\n",
    "print(df_click)\n",
    "pos_proportion = df_click[1]/(df_click[1] + df_click[0])\n",
    "neg_proportion = df_click[0]/(df_click[1] + df_click[0])\n",
    "print('positive sample count : %.2f'%(pos_proportion))\n",
    "\n",
    "#Visualization\n",
    "plt.figure(figsize=(10,6))\n",
    "df_click.plot(kind ='bar', width =0.2, rot =0)\n",
    "plt.title('Positive Sample Distribution', fontsize=16)\n",
    "plt.ylabel('sample count', fontsize=16)\n",
    "\n",
    "for x,y in enumerate(df_click.values):\n",
    "    plt.text(x,y+1000, '%s'%y, ha ='center', fontsize=13)\n",
    "    plt.savefig('./Sample_Distribution')"
   ]
  },
  {
   "cell_type": "code",
   "execution_count": 9,
   "id": "40de52ad",
   "metadata": {},
   "outputs": [
    {
     "name": "stdout",
     "output_type": "stream",
     "text": [
      "       dayofweek  hour\n",
      "0              1    14\n",
      "1              2    19\n",
      "2              3    18\n",
      "3              2    19\n",
      "4              1     8\n",
      "...          ...   ...\n",
      "99994          3    15\n",
      "99995          2     0\n",
      "99996          2    15\n",
      "99997          5     8\n",
      "99998          1     1\n",
      "\n",
      "[99999 rows x 2 columns]\n"
     ]
    }
   ],
   "source": [
    "print(df[['dayofweek','hour']])"
   ]
  },
  {
   "cell_type": "code",
   "execution_count": 10,
   "id": "333457f3",
   "metadata": {},
   "outputs": [
    {
     "name": "stdout",
     "output_type": "stream",
     "text": [
      "     dayofweek_  hour_  click_sum  click_count  click_rate\n",
      "0             0      0         19          140    0.135714\n",
      "1             0      1         43          195    0.220513\n",
      "2             0      2         41          203    0.201970\n",
      "3             0      3         41          277    0.148014\n",
      "4             0      4         68          335    0.202985\n",
      "..          ...    ...        ...          ...         ...\n",
      "163           6     19         44          274    0.160584\n",
      "164           6     20         32          247    0.129555\n",
      "165           6     21         32          204    0.156863\n",
      "166           6     22         25          190    0.131579\n",
      "167           6     23         29          188    0.154255\n",
      "\n",
      "[168 rows x 5 columns]\n"
     ]
    },
    {
     "data": {
      "image/png": "[encoded data removed]",
      "text/plain": [
       "<Figure size 2016x288 with 7 Axes>"
      ]
     },
     "metadata": {
      "needs_background": "light"
     },
     "output_type": "display_data"
    }
   ],
   "source": [
    "data_df = df.groupby(by=[\"dayofweek\",\"hour\"])[[\"click\"]].agg(['sum','count']).reset_index()\n",
    "data_df.columns = [\"_\".join(x) for x in data_df.columns.ravel()]\n",
    "data_df['click_rate']=data_df.click_sum/data_df.click_count\n",
    "print(data_df)\n",
    "g = sns.FacetGrid(data_df, col=\"dayofweek_\", col_wrap=7, height=4)\n",
    "g.map(sns.lineplot, \"hour_\", \"click_rate\")\n",
    "plt.show()"
   ]
  },
  {
   "cell_type": "code",
   "execution_count": 11,
   "id": "4027f979",
   "metadata": {},
   "outputs": [
    {
     "data": {
      "image/png": "[encoded data removed]",
      "text/plain": [
       "<Figure size 432x288 with 1 Axes>"
      ]
     },
     "metadata": {
      "needs_background": "light"
     },
     "output_type": "display_data"
    }
   ],
   "source": [
    "g3 = sns.lineplot(data =data_df, x='hour_', y='click_rate')"
   ]
  },
  {
   "cell_type": "code",
   "execution_count": 12,
   "id": "b97428d7",
   "metadata": {},
   "outputs": [],
   "source": [
    "X = df.drop(['click','y'],axis=1)\n",
    "y = df.y"
   ]
  },
  {
   "cell_type": "code",
   "execution_count": 13,
   "id": "133471ae",
   "metadata": {},
   "outputs": [],
   "source": [
    "X_train,X_test,y_train,y_test = train_test_split(X,y,test_size = 0.3,random_state = 42)"
   ]
  },
  {
   "cell_type": "code",
   "execution_count": 14,
   "id": "a259f14b",
   "metadata": {},
   "outputs": [
    {
     "name": "stdout",
     "output_type": "stream",
     "text": [
      "['C1', 'banner_pos', 'device_type', 'device_conn_type', 'C14', 'C15', 'C16', 'C17', 'C18', 'C19', 'C20', 'C21', 'month', 'dayofweek', 'day', 'hour']\n",
      "['site_id', 'site_domain', 'site_category', 'app_id', 'app_domain', 'app_category', 'device_id', 'device_ip', 'device_model']\n"
     ]
    }
   ],
   "source": [
    "num_cols = X.select_dtypes(include = ['int','float']).columns.tolist()\n",
    "categorical_cols = X.select_dtypes(include = ['object']).columns.tolist()\n",
    "print(num_cols)\n",
    "print(categorical_cols)"
   ]
  },
  {
   "cell_type": "markdown",
   "id": "f1b0f7b4",
   "metadata": {},
   "source": [
    "# Hashing"
   ]
  },
  {
   "cell_type": "code",
   "execution_count": 15,
   "id": "7cbbc98c",
   "metadata": {},
   "outputs": [
    {
     "data": {
      "text/html": [
       "<div>\n",
       "<style scoped>\n",
       "    .dataframe tbody tr th:only-of-type {\n",
       "        vertical-align: middle;\n",
       "    }\n",
       "\n",
       "    .dataframe tbody tr th {\n",
       "        vertical-align: top;\n",
       "    }\n",
       "\n",
       "    .dataframe thead th {\n",
       "        text-align: right;\n",
       "    }\n",
       "</style>\n",
       "<table border=\"1\" class=\"dataframe\">\n",
       "  <thead>\n",
       "    <tr style=\"text-align: right;\">\n",
       "      <th></th>\n",
       "      <th>C1</th>\n",
       "      <th>banner_pos</th>\n",
       "      <th>site_id</th>\n",
       "      <th>site_domain</th>\n",
       "      <th>site_category</th>\n",
       "      <th>app_id</th>\n",
       "      <th>app_domain</th>\n",
       "      <th>app_category</th>\n",
       "      <th>device_id</th>\n",
       "      <th>device_ip</th>\n",
       "      <th>...</th>\n",
       "      <th>C16</th>\n",
       "      <th>C17</th>\n",
       "      <th>C18</th>\n",
       "      <th>C19</th>\n",
       "      <th>C20</th>\n",
       "      <th>C21</th>\n",
       "      <th>month</th>\n",
       "      <th>dayofweek</th>\n",
       "      <th>day</th>\n",
       "      <th>hour</th>\n",
       "    </tr>\n",
       "  </thead>\n",
       "  <tbody>\n",
       "    <tr>\n",
       "      <th>27322</th>\n",
       "      <td>1005</td>\n",
       "      <td>0</td>\n",
       "      <td>1fbe01fe</td>\n",
       "      <td>f3845767</td>\n",
       "      <td>28905ebd</td>\n",
       "      <td>ecad2386</td>\n",
       "      <td>7801e8d9</td>\n",
       "      <td>07d7df22</td>\n",
       "      <td>a99f214a</td>\n",
       "      <td>6781d842</td>\n",
       "      <td>...</td>\n",
       "      <td>50</td>\n",
       "      <td>1722</td>\n",
       "      <td>0</td>\n",
       "      <td>35</td>\n",
       "      <td>-1</td>\n",
       "      <td>79</td>\n",
       "      <td>10</td>\n",
       "      <td>0</td>\n",
       "      <td>27</td>\n",
       "      <td>19</td>\n",
       "    </tr>\n",
       "    <tr>\n",
       "      <th>31187</th>\n",
       "      <td>1005</td>\n",
       "      <td>1</td>\n",
       "      <td>ce3307ec</td>\n",
       "      <td>7e091613</td>\n",
       "      <td>f028772b</td>\n",
       "      <td>ecad2386</td>\n",
       "      <td>7801e8d9</td>\n",
       "      <td>07d7df22</td>\n",
       "      <td>a99f214a</td>\n",
       "      <td>af9205f9</td>\n",
       "      <td>...</td>\n",
       "      <td>50</td>\n",
       "      <td>2707</td>\n",
       "      <td>3</td>\n",
       "      <td>937</td>\n",
       "      <td>100156</td>\n",
       "      <td>61</td>\n",
       "      <td>10</td>\n",
       "      <td>2</td>\n",
       "      <td>29</td>\n",
       "      <td>17</td>\n",
       "    </tr>\n",
       "    <tr>\n",
       "      <th>65409</th>\n",
       "      <td>1005</td>\n",
       "      <td>0</td>\n",
       "      <td>1fbe01fe</td>\n",
       "      <td>f3845767</td>\n",
       "      <td>28905ebd</td>\n",
       "      <td>ecad2386</td>\n",
       "      <td>7801e8d9</td>\n",
       "      <td>07d7df22</td>\n",
       "      <td>a99f214a</td>\n",
       "      <td>ceffea69</td>\n",
       "      <td>...</td>\n",
       "      <td>50</td>\n",
       "      <td>2545</td>\n",
       "      <td>0</td>\n",
       "      <td>167</td>\n",
       "      <td>-1</td>\n",
       "      <td>221</td>\n",
       "      <td>10</td>\n",
       "      <td>1</td>\n",
       "      <td>28</td>\n",
       "      <td>11</td>\n",
       "    </tr>\n",
       "    <tr>\n",
       "      <th>14297</th>\n",
       "      <td>1005</td>\n",
       "      <td>0</td>\n",
       "      <td>85f751fd</td>\n",
       "      <td>c4e18dd6</td>\n",
       "      <td>50e219e0</td>\n",
       "      <td>e2fcccd2</td>\n",
       "      <td>5c5a694b</td>\n",
       "      <td>0f2161f8</td>\n",
       "      <td>a99f214a</td>\n",
       "      <td>88bf6cc1</td>\n",
       "      <td>...</td>\n",
       "      <td>50</td>\n",
       "      <td>2478</td>\n",
       "      <td>3</td>\n",
       "      <td>167</td>\n",
       "      <td>100074</td>\n",
       "      <td>23</td>\n",
       "      <td>10</td>\n",
       "      <td>1</td>\n",
       "      <td>21</td>\n",
       "      <td>17</td>\n",
       "    </tr>\n",
       "    <tr>\n",
       "      <th>15664</th>\n",
       "      <td>1005</td>\n",
       "      <td>0</td>\n",
       "      <td>12fb4121</td>\n",
       "      <td>6b59f079</td>\n",
       "      <td>f028772b</td>\n",
       "      <td>ecad2386</td>\n",
       "      <td>7801e8d9</td>\n",
       "      <td>07d7df22</td>\n",
       "      <td>a99f214a</td>\n",
       "      <td>086ef670</td>\n",
       "      <td>...</td>\n",
       "      <td>50</td>\n",
       "      <td>2683</td>\n",
       "      <td>1</td>\n",
       "      <td>163</td>\n",
       "      <td>-1</td>\n",
       "      <td>212</td>\n",
       "      <td>10</td>\n",
       "      <td>1</td>\n",
       "      <td>28</td>\n",
       "      <td>19</td>\n",
       "    </tr>\n",
       "  </tbody>\n",
       "</table>\n",
       "<p>5 rows × 25 columns</p>\n",
       "</div>"
      ],
      "text/plain": [
       "         C1  banner_pos   site_id site_domain site_category    app_id  \\\n",
       "27322  1005           0  1fbe01fe    f3845767      28905ebd  ecad2386   \n",
       "31187  1005           1  ce3307ec    7e091613      f028772b  ecad2386   \n",
       "65409  1005           0  1fbe01fe    f3845767      28905ebd  ecad2386   \n",
       "14297  1005           0  85f751fd    c4e18dd6      50e219e0  e2fcccd2   \n",
       "15664  1005           0  12fb4121    6b59f079      f028772b  ecad2386   \n",
       "\n",
       "      app_domain app_category device_id device_ip  ... C16   C17  C18  C19  \\\n",
       "27322   7801e8d9     07d7df22  a99f214a  6781d842  ...  50  1722    0   35   \n",
       "31187   7801e8d9     07d7df22  a99f214a  af9205f9  ...  50  2707    3  937   \n",
       "65409   7801e8d9     07d7df22  a99f214a  ceffea69  ...  50  2545    0  167   \n",
       "14297   5c5a694b     0f2161f8  a99f214a  88bf6cc1  ...  50  2478    3  167   \n",
       "15664   7801e8d9     07d7df22  a99f214a  086ef670  ...  50  2683    1  163   \n",
       "\n",
       "          C20  C21  month  dayofweek  day  hour  \n",
       "27322      -1   79     10          0   27    19  \n",
       "31187  100156   61     10          2   29    17  \n",
       "65409      -1  221     10          1   28    11  \n",
       "14297  100074   23     10          1   21    17  \n",
       "15664      -1  212     10          1   28    19  \n",
       "\n",
       "[5 rows x 25 columns]"
      ]
     },
     "execution_count": 15,
     "metadata": {},
     "output_type": "execute_result"
    }
   ],
   "source": [
    "X_train.head()"
   ]
  },
  {
   "cell_type": "code",
   "execution_count": 16,
   "id": "7a9c08bd",
   "metadata": {},
   "outputs": [],
   "source": [
    "for col in categorical_cols:\n",
    "    X_train[col] = X_train[col].apply(lambda x: hash(x))\n",
    "    \n",
    "for col in categorical_cols:\n",
    "    X_test[col] = X_test[col].apply(lambda x:hash(x))"
   ]
  },
  {
   "cell_type": "code",
   "execution_count": 17,
   "id": "dc8af43f",
   "metadata": {
    "scrolled": true
   },
   "outputs": [
    {
     "data": {
      "text/html": [
       "<div>\n",
       "<style scoped>\n",
       "    .dataframe tbody tr th:only-of-type {\n",
       "        vertical-align: middle;\n",
       "    }\n",
       "\n",
       "    .dataframe tbody tr th {\n",
       "        vertical-align: top;\n",
       "    }\n",
       "\n",
       "    .dataframe thead th {\n",
       "        text-align: right;\n",
       "    }\n",
       "</style>\n",
       "<table border=\"1\" class=\"dataframe\">\n",
       "  <thead>\n",
       "    <tr style=\"text-align: right;\">\n",
       "      <th></th>\n",
       "      <th>C1</th>\n",
       "      <th>banner_pos</th>\n",
       "      <th>site_id</th>\n",
       "      <th>site_domain</th>\n",
       "      <th>site_category</th>\n",
       "      <th>app_id</th>\n",
       "      <th>app_domain</th>\n",
       "      <th>app_category</th>\n",
       "      <th>device_id</th>\n",
       "      <th>device_ip</th>\n",
       "      <th>...</th>\n",
       "      <th>C16</th>\n",
       "      <th>C17</th>\n",
       "      <th>C18</th>\n",
       "      <th>C19</th>\n",
       "      <th>C20</th>\n",
       "      <th>C21</th>\n",
       "      <th>month</th>\n",
       "      <th>dayofweek</th>\n",
       "      <th>day</th>\n",
       "      <th>hour</th>\n",
       "    </tr>\n",
       "  </thead>\n",
       "  <tbody>\n",
       "    <tr>\n",
       "      <th>27322</th>\n",
       "      <td>1005</td>\n",
       "      <td>0</td>\n",
       "      <td>-2814053845743343831</td>\n",
       "      <td>-6929715331500194067</td>\n",
       "      <td>-5739924142414539089</td>\n",
       "      <td>-1556651796373363111</td>\n",
       "      <td>-7455903038245905666</td>\n",
       "      <td>2670229662212279639</td>\n",
       "      <td>-2186415483827021020</td>\n",
       "      <td>-7735587214846965533</td>\n",
       "      <td>...</td>\n",
       "      <td>50</td>\n",
       "      <td>1722</td>\n",
       "      <td>0</td>\n",
       "      <td>35</td>\n",
       "      <td>-1</td>\n",
       "      <td>79</td>\n",
       "      <td>10</td>\n",
       "      <td>0</td>\n",
       "      <td>27</td>\n",
       "      <td>19</td>\n",
       "    </tr>\n",
       "    <tr>\n",
       "      <th>31187</th>\n",
       "      <td>1005</td>\n",
       "      <td>1</td>\n",
       "      <td>2048932646292118921</td>\n",
       "      <td>-5565726343947980575</td>\n",
       "      <td>-8035360725303477681</td>\n",
       "      <td>-1556651796373363111</td>\n",
       "      <td>-7455903038245905666</td>\n",
       "      <td>2670229662212279639</td>\n",
       "      <td>-2186415483827021020</td>\n",
       "      <td>2237450068629907611</td>\n",
       "      <td>...</td>\n",
       "      <td>50</td>\n",
       "      <td>2707</td>\n",
       "      <td>3</td>\n",
       "      <td>937</td>\n",
       "      <td>100156</td>\n",
       "      <td>61</td>\n",
       "      <td>10</td>\n",
       "      <td>2</td>\n",
       "      <td>29</td>\n",
       "      <td>17</td>\n",
       "    </tr>\n",
       "    <tr>\n",
       "      <th>65409</th>\n",
       "      <td>1005</td>\n",
       "      <td>0</td>\n",
       "      <td>-2814053845743343831</td>\n",
       "      <td>-6929715331500194067</td>\n",
       "      <td>-5739924142414539089</td>\n",
       "      <td>-1556651796373363111</td>\n",
       "      <td>-7455903038245905666</td>\n",
       "      <td>2670229662212279639</td>\n",
       "      <td>-2186415483827021020</td>\n",
       "      <td>-7554676640811857330</td>\n",
       "      <td>...</td>\n",
       "      <td>50</td>\n",
       "      <td>2545</td>\n",
       "      <td>0</td>\n",
       "      <td>167</td>\n",
       "      <td>-1</td>\n",
       "      <td>221</td>\n",
       "      <td>10</td>\n",
       "      <td>1</td>\n",
       "      <td>28</td>\n",
       "      <td>11</td>\n",
       "    </tr>\n",
       "    <tr>\n",
       "      <th>14297</th>\n",
       "      <td>1005</td>\n",
       "      <td>0</td>\n",
       "      <td>189047889348629022</td>\n",
       "      <td>1638991584857224953</td>\n",
       "      <td>6678749959606416243</td>\n",
       "      <td>-3780050433727759912</td>\n",
       "      <td>8079064386863757697</td>\n",
       "      <td>-6167972388852241393</td>\n",
       "      <td>-2186415483827021020</td>\n",
       "      <td>5952412965932304068</td>\n",
       "      <td>...</td>\n",
       "      <td>50</td>\n",
       "      <td>2478</td>\n",
       "      <td>3</td>\n",
       "      <td>167</td>\n",
       "      <td>100074</td>\n",
       "      <td>23</td>\n",
       "      <td>10</td>\n",
       "      <td>1</td>\n",
       "      <td>21</td>\n",
       "      <td>17</td>\n",
       "    </tr>\n",
       "    <tr>\n",
       "      <th>15664</th>\n",
       "      <td>1005</td>\n",
       "      <td>0</td>\n",
       "      <td>989506469747801740</td>\n",
       "      <td>2121195597695180412</td>\n",
       "      <td>-8035360725303477681</td>\n",
       "      <td>-1556651796373363111</td>\n",
       "      <td>-7455903038245905666</td>\n",
       "      <td>2670229662212279639</td>\n",
       "      <td>-2186415483827021020</td>\n",
       "      <td>639805245390836523</td>\n",
       "      <td>...</td>\n",
       "      <td>50</td>\n",
       "      <td>2683</td>\n",
       "      <td>1</td>\n",
       "      <td>163</td>\n",
       "      <td>-1</td>\n",
       "      <td>212</td>\n",
       "      <td>10</td>\n",
       "      <td>1</td>\n",
       "      <td>28</td>\n",
       "      <td>19</td>\n",
       "    </tr>\n",
       "  </tbody>\n",
       "</table>\n",
       "<p>5 rows × 25 columns</p>\n",
       "</div>"
      ],
      "text/plain": [
       "         C1  banner_pos              site_id          site_domain  \\\n",
       "27322  1005           0 -2814053845743343831 -6929715331500194067   \n",
       "31187  1005           1  2048932646292118921 -5565726343947980575   \n",
       "65409  1005           0 -2814053845743343831 -6929715331500194067   \n",
       "14297  1005           0   189047889348629022  1638991584857224953   \n",
       "15664  1005           0   989506469747801740  2121195597695180412   \n",
       "\n",
       "             site_category               app_id           app_domain  \\\n",
       "27322 -5739924142414539089 -1556651796373363111 -7455903038245905666   \n",
       "31187 -8035360725303477681 -1556651796373363111 -7455903038245905666   \n",
       "65409 -5739924142414539089 -1556651796373363111 -7455903038245905666   \n",
       "14297  6678749959606416243 -3780050433727759912  8079064386863757697   \n",
       "15664 -8035360725303477681 -1556651796373363111 -7455903038245905666   \n",
       "\n",
       "              app_category            device_id            device_ip  ...  \\\n",
       "27322  2670229662212279639 -2186415483827021020 -7735587214846965533  ...   \n",
       "31187  2670229662212279639 -2186415483827021020  2237450068629907611  ...   \n",
       "65409  2670229662212279639 -2186415483827021020 -7554676640811857330  ...   \n",
       "14297 -6167972388852241393 -2186415483827021020  5952412965932304068  ...   \n",
       "15664  2670229662212279639 -2186415483827021020   639805245390836523  ...   \n",
       "\n",
       "       C16   C17  C18  C19     C20  C21  month  dayofweek  day  hour  \n",
       "27322   50  1722    0   35      -1   79     10          0   27    19  \n",
       "31187   50  2707    3  937  100156   61     10          2   29    17  \n",
       "65409   50  2545    0  167      -1  221     10          1   28    11  \n",
       "14297   50  2478    3  167  100074   23     10          1   21    17  \n",
       "15664   50  2683    1  163      -1  212     10          1   28    19  \n",
       "\n",
       "[5 rows x 25 columns]"
      ]
     },
     "execution_count": 17,
     "metadata": {},
     "output_type": "execute_result"
    }
   ],
   "source": [
    "X_train.head()"
   ]
  },
  {
   "cell_type": "code",
   "execution_count": null,
   "id": "5afcce2f",
   "metadata": {},
   "outputs": [],
   "source": []
  },
  {
   "cell_type": "markdown",
   "id": "21bf0257",
   "metadata": {},
   "source": [
    "# Scaling the Numerical Values"
   ]
  },
  {
   "cell_type": "code",
   "execution_count": 18,
   "id": "1ec26edc",
   "metadata": {},
   "outputs": [],
   "source": [
    "std = StandardScaler()\n",
    "X_train[num_cols] = std.fit_transform(X_train[num_cols])\n",
    "X_test[num_cols] = std.transform(X_test[num_cols])"
   ]
  },
  {
   "cell_type": "code",
   "execution_count": 19,
   "id": "9a4b5ce0",
   "metadata": {},
   "outputs": [],
   "source": [
    "X_train['user_info'] = X_train.device_ip + X_train.device_model + X_train.device_id\n",
    "X_train = X_train.drop(['device_id','device_ip','device_model','hour'],axis=1)\n",
    "    \n",
    "X_train['device_info'] = X_train.device_type + X_train.banner_pos + X_train.device_conn_type\n",
    "X_train = X_train.drop(['banner_pos','device_conn_type','device_type'],axis=1)\n",
    "\n",
    "X_test['user_info'] = X_test.device_ip + X_test.device_model + X_test.device_id\n",
    "X_test = X_test.drop(['device_id','device_ip','device_model','hour'],axis=1)\n",
    "    \n",
    "X_test['device_info'] = X_test.device_type + X_test.banner_pos + X_test.device_conn_type\n",
    "X_test = X_test.drop(['banner_pos','device_conn_type','device_type'],axis=1)"
   ]
  },
  {
   "cell_type": "markdown",
   "id": "6e89f485",
   "metadata": {},
   "source": [
    "# Model - Decision Tree Classifier"
   ]
  },
  {
   "cell_type": "code",
   "execution_count": 20,
   "id": "b7855f30",
   "metadata": {},
   "outputs": [
    {
     "data": {
      "text/html": [
       "<div>\n",
       "<style scoped>\n",
       "    .dataframe tbody tr th:only-of-type {\n",
       "        vertical-align: middle;\n",
       "    }\n",
       "\n",
       "    .dataframe tbody tr th {\n",
       "        vertical-align: top;\n",
       "    }\n",
       "\n",
       "    .dataframe thead th {\n",
       "        text-align: right;\n",
       "    }\n",
       "</style>\n",
       "<table border=\"1\" class=\"dataframe\">\n",
       "  <thead>\n",
       "    <tr style=\"text-align: right;\">\n",
       "      <th></th>\n",
       "      <th>C1</th>\n",
       "      <th>site_id</th>\n",
       "      <th>site_domain</th>\n",
       "      <th>site_category</th>\n",
       "      <th>app_id</th>\n",
       "      <th>app_domain</th>\n",
       "      <th>app_category</th>\n",
       "      <th>C14</th>\n",
       "      <th>C15</th>\n",
       "      <th>C16</th>\n",
       "      <th>C17</th>\n",
       "      <th>C18</th>\n",
       "      <th>C19</th>\n",
       "      <th>C20</th>\n",
       "      <th>C21</th>\n",
       "      <th>month</th>\n",
       "      <th>dayofweek</th>\n",
       "      <th>day</th>\n",
       "      <th>user_info</th>\n",
       "      <th>device_info</th>\n",
       "    </tr>\n",
       "  </thead>\n",
       "  <tbody>\n",
       "    <tr>\n",
       "      <th>27322</th>\n",
       "      <td>0.030123</td>\n",
       "      <td>-2814053845743343831</td>\n",
       "      <td>-6929715331500194067</td>\n",
       "      <td>-5739924142414539089</td>\n",
       "      <td>-1556651796373363111</td>\n",
       "      <td>-7455903038245905666</td>\n",
       "      <td>2670229662212279639</td>\n",
       "      <td>-0.632827</td>\n",
       "      <td>0.049021</td>\n",
       "      <td>-0.214499</td>\n",
       "      <td>-0.640246</td>\n",
       "      <td>-1.087399</td>\n",
       "      <td>-0.544295</td>\n",
       "      <td>-1.067334</td>\n",
       "      <td>-0.060375</td>\n",
       "      <td>0.0</td>\n",
       "      <td>-1.504833</td>\n",
       "      <td>0.508938</td>\n",
       "      <td>-2136041645755828408</td>\n",
       "      <td>-0.993763</td>\n",
       "    </tr>\n",
       "    <tr>\n",
       "      <th>31187</th>\n",
       "      <td>0.030123</td>\n",
       "      <td>2048932646292118921</td>\n",
       "      <td>-5565726343947980575</td>\n",
       "      <td>-8035360725303477681</td>\n",
       "      <td>-1556651796373363111</td>\n",
       "      <td>-7455903038245905666</td>\n",
       "      <td>2670229662212279639</td>\n",
       "      <td>0.964509</td>\n",
       "      <td>0.049021</td>\n",
       "      <td>-0.214499</td>\n",
       "      <td>0.975355</td>\n",
       "      <td>1.172178</td>\n",
       "      <td>2.038489</td>\n",
       "      <td>0.937782</td>\n",
       "      <td>-0.316166</td>\n",
       "      <td>0.0</td>\n",
       "      <td>-0.344404</td>\n",
       "      <td>1.182725</td>\n",
       "      <td>611645090227455659</td>\n",
       "      <td>0.990366</td>\n",
       "    </tr>\n",
       "    <tr>\n",
       "      <th>65409</th>\n",
       "      <td>0.030123</td>\n",
       "      <td>-2814053845743343831</td>\n",
       "      <td>-6929715331500194067</td>\n",
       "      <td>-5739924142414539089</td>\n",
       "      <td>-1556651796373363111</td>\n",
       "      <td>-7455903038245905666</td>\n",
       "      <td>2670229662212279639</td>\n",
       "      <td>0.688140</td>\n",
       "      <td>0.049021</td>\n",
       "      <td>-0.214499</td>\n",
       "      <td>0.709642</td>\n",
       "      <td>-1.087399</td>\n",
       "      <td>-0.166327</td>\n",
       "      <td>-1.067334</td>\n",
       "      <td>1.957534</td>\n",
       "      <td>0.0</td>\n",
       "      <td>-0.924618</td>\n",
       "      <td>0.845832</td>\n",
       "      <td>-8570809222658782101</td>\n",
       "      <td>-0.993763</td>\n",
       "    </tr>\n",
       "    <tr>\n",
       "      <th>14297</th>\n",
       "      <td>0.030123</td>\n",
       "      <td>189047889348629022</td>\n",
       "      <td>1638991584857224953</td>\n",
       "      <td>6678749959606416243</td>\n",
       "      <td>-3780050433727759912</td>\n",
       "      <td>8079064386863757697</td>\n",
       "      <td>-6167972388852241393</td>\n",
       "      <td>0.554290</td>\n",
       "      <td>0.049021</td>\n",
       "      <td>-0.214499</td>\n",
       "      <td>0.599749</td>\n",
       "      <td>1.172178</td>\n",
       "      <td>-0.166327</td>\n",
       "      <td>0.936141</td>\n",
       "      <td>-0.856170</td>\n",
       "      <td>0.0</td>\n",
       "      <td>-0.924618</td>\n",
       "      <td>-1.512424</td>\n",
       "      <td>-476874434032109257</td>\n",
       "      <td>-0.993763</td>\n",
       "    </tr>\n",
       "    <tr>\n",
       "      <th>15664</th>\n",
       "      <td>0.030123</td>\n",
       "      <td>989506469747801740</td>\n",
       "      <td>2121195597695180412</td>\n",
       "      <td>-8035360725303477681</td>\n",
       "      <td>-1556651796373363111</td>\n",
       "      <td>-7455903038245905666</td>\n",
       "      <td>2670229662212279639</td>\n",
       "      <td>0.925806</td>\n",
       "      <td>0.049021</td>\n",
       "      <td>-0.214499</td>\n",
       "      <td>0.935991</td>\n",
       "      <td>-0.334207</td>\n",
       "      <td>-0.177781</td>\n",
       "      <td>-1.067334</td>\n",
       "      <td>1.829639</td>\n",
       "      <td>0.0</td>\n",
       "      <td>-0.924618</td>\n",
       "      <td>0.845832</td>\n",
       "      <td>-3308164634419488152</td>\n",
       "      <td>-0.993763</td>\n",
       "    </tr>\n",
       "  </tbody>\n",
       "</table>\n",
       "</div>"
      ],
      "text/plain": [
       "             C1              site_id          site_domain  \\\n",
       "27322  0.030123 -2814053845743343831 -6929715331500194067   \n",
       "31187  0.030123  2048932646292118921 -5565726343947980575   \n",
       "65409  0.030123 -2814053845743343831 -6929715331500194067   \n",
       "14297  0.030123   189047889348629022  1638991584857224953   \n",
       "15664  0.030123   989506469747801740  2121195597695180412   \n",
       "\n",
       "             site_category               app_id           app_domain  \\\n",
       "27322 -5739924142414539089 -1556651796373363111 -7455903038245905666   \n",
       "31187 -8035360725303477681 -1556651796373363111 -7455903038245905666   \n",
       "65409 -5739924142414539089 -1556651796373363111 -7455903038245905666   \n",
       "14297  6678749959606416243 -3780050433727759912  8079064386863757697   \n",
       "15664 -8035360725303477681 -1556651796373363111 -7455903038245905666   \n",
       "\n",
       "              app_category       C14       C15       C16       C17       C18  \\\n",
       "27322  2670229662212279639 -0.632827  0.049021 -0.214499 -0.640246 -1.087399   \n",
       "31187  2670229662212279639  0.964509  0.049021 -0.214499  0.975355  1.172178   \n",
       "65409  2670229662212279639  0.688140  0.049021 -0.214499  0.709642 -1.087399   \n",
       "14297 -6167972388852241393  0.554290  0.049021 -0.214499  0.599749  1.172178   \n",
       "15664  2670229662212279639  0.925806  0.049021 -0.214499  0.935991 -0.334207   \n",
       "\n",
       "            C19       C20       C21  month  dayofweek       day  \\\n",
       "27322 -0.544295 -1.067334 -0.060375    0.0  -1.504833  0.508938   \n",
       "31187  2.038489  0.937782 -0.316166    0.0  -0.344404  1.182725   \n",
       "65409 -0.166327 -1.067334  1.957534    0.0  -0.924618  0.845832   \n",
       "14297 -0.166327  0.936141 -0.856170    0.0  -0.924618 -1.512424   \n",
       "15664 -0.177781 -1.067334  1.829639    0.0  -0.924618  0.845832   \n",
       "\n",
       "                 user_info  device_info  \n",
       "27322 -2136041645755828408    -0.993763  \n",
       "31187   611645090227455659     0.990366  \n",
       "65409 -8570809222658782101    -0.993763  \n",
       "14297  -476874434032109257    -0.993763  \n",
       "15664 -3308164634419488152    -0.993763  "
      ]
     },
     "execution_count": 20,
     "metadata": {},
     "output_type": "execute_result"
    }
   ],
   "source": [
    "X_train.head()"
   ]
  },
  {
   "cell_type": "code",
   "execution_count": 21,
   "id": "d23d0d4f",
   "metadata": {},
   "outputs": [
    {
     "name": "stdout",
     "output_type": "stream",
     "text": [
      "Train Score: 0.8416405948656409\n",
      "Test Score: 0.8286\n"
     ]
    }
   ],
   "source": [
    "tree = DecisionTreeClassifier(max_depth = 10)\n",
    "tree.fit(X_train,y_train)\n",
    "print('Train Score:',tree.score(X_train,y_train))\n",
    "print('Test Score:',tree.score(X_test,y_test))"
   ]
  },
  {
   "cell_type": "code",
   "execution_count": 22,
   "id": "82e0a66d",
   "metadata": {},
   "outputs": [
    {
     "name": "stdout",
     "output_type": "stream",
     "text": [
      "0.6852287803349616\n"
     ]
    }
   ],
   "source": [
    "from sklearn.metrics import roc_curve,confusion_matrix,precision_score,recall_score,roc_auc_score\n",
    "y_score = tree.predict_proba(X_test)\n",
    "fpr, tpr, thresholds = roc_curve(y_test, y_score[:, 1])\n",
    "roc_auc_score = roc_auc_score(y_test,y_score[:,1])\n",
    "print(roc_auc_score)"
   ]
  },
  {
   "cell_type": "code",
   "execution_count": 23,
   "id": "756a7e56",
   "metadata": {},
   "outputs": [
    {
     "name": "stdout",
     "output_type": "stream",
     "text": [
      "Precision: 0.7797320234374608, Recall: 0.8286\n"
     ]
    }
   ],
   "source": [
    "y_pred = tree.predict(X_test)\n",
    "precision = precision_score(y_test, y_pred, average = 'weighted')\n",
    "recall = recall_score(y_test, y_pred, average = 'weighted')\n",
    "print(\"Precision: %s, Recall: %s\" %(precision, recall))"
   ]
  },
  {
   "cell_type": "code",
   "execution_count": 24,
   "id": "00230242",
   "metadata": {},
   "outputs": [
    {
     "name": "stdout",
     "output_type": "stream",
     "text": [
      "[[24379   509]\n",
      " [ 4633   479]]\n"
     ]
    }
   ],
   "source": [
    "matrix = confusion_matrix(y_test,y_pred)\n",
    "tn, fp, fn, tp = matrix.ravel()\n",
    "print(matrix)"
   ]
  },
  {
   "cell_type": "code",
   "execution_count": 25,
   "id": "3e22fe3e",
   "metadata": {},
   "outputs": [
    {
     "name": "stdout",
     "output_type": "stream",
     "text": [
      "Evaluating tree with max_depth = 2\n",
      "Confusion matrix: \n",
      "[[24379   509]\n",
      " [ 4636   476]]\n",
      "Precision: 0.7793925732445409, Recall: 0.8285\n",
      "Evaluating tree with max_depth = 3\n",
      "Confusion matrix: \n",
      "[[24384   504]\n",
      " [ 4634   478]]\n",
      "Precision: 0.7800620671852109, Recall: 0.8287333333333333\n",
      "Evaluating tree with max_depth = 5\n",
      "Confusion matrix: \n",
      "[[24374   514]\n",
      " [ 4640   472]]\n",
      "Precision: 0.7784988396033475, Recall: 0.8282\n",
      "Evaluating tree with max_depth = 10\n",
      "Confusion matrix: \n",
      "[[24376   512]\n",
      " [ 4641   471]]\n",
      "Precision: 0.7785595636416314, Recall: 0.8282333333333334\n",
      "Evaluating tree with max_depth = 15\n",
      "Confusion matrix: \n",
      "[[24376   512]\n",
      " [ 4639   473]]\n",
      "Precision: 0.7787878121503755, Recall: 0.8283\n",
      "Evaluating tree with max_depth = 20\n",
      "Confusion matrix: \n",
      "[[24386   502]\n",
      " [ 4636   476]]\n",
      "Precision: 0.7800139301135208, Recall: 0.8287333333333333\n"
     ]
    }
   ],
   "source": [
    "for max_depth_val in [2, 3, 5, 10, 15, 20]:\n",
    "    clf = DecisionTreeClassifier(max_depth = max_depth_val)\n",
    "    print(\"Evaluating tree with max_depth = %s\" %(max_depth_val))\n",
    "    y_pred = tree.fit(X_train,y_train).predict(X_test) \n",
    "    print(\"Confusion matrix: \")\n",
    "    print(confusion_matrix(y_test, y_pred))\n",
    "    prec = precision_score(y_test, y_pred, average = 'weighted')\n",
    "    recall = recall_score(y_test, y_pred, average = 'weighted')\n",
    "    print(\"Precision: %s, Recall: %s\" %(prec, recall))"
   ]
  },
  {
   "cell_type": "code",
   "execution_count": 26,
   "id": "174b80a6",
   "metadata": {},
   "outputs": [
    {
     "name": "stdout",
     "output_type": "stream",
     "text": [
      "Evaluating Decision Tree for max_depth = 3\n",
      "Cross validation Recall: 0.8304118806788958\n",
      "Test Recall: 0.8286666666666667\n",
      "Evaluating Decision Tree for max_depth = 5\n",
      "Cross validation Recall: 0.8307404431273624\n",
      "Test Recall: 0.8287333333333333\n",
      "Evaluating Decision Tree for max_depth = 10\n",
      "Cross validation Recall: 0.8270832659825459\n",
      "Test Recall: 0.8288\n"
     ]
    }
   ],
   "source": [
    "from sklearn.model_selection import KFold,cross_val_score\n",
    "for max_depth_val in [3, 5, 10]:\n",
    "    k_fold = KFold(n_splits = 4)\n",
    "    clf = DecisionTreeClassifier(max_depth = max_depth_val)\n",
    "    print(\"Evaluating Decision Tree for max_depth = %s\" %(max_depth_val))\n",
    "    pred_dtree = tree.fit(X_train, y_train).predict(X_test) \n",
    "  \n",
    "    cv_precision = cross_val_score(clf, X_train, y_train, cv = k_fold, scoring = 'recall_weighted')\n",
    "    precision = recall_score(y_test, pred_dtree, average = 'weighted')\n",
    "    print(\"Cross validation Recall: %s\" %(cv_precision.mean()))\n",
    "    print(\"Test Recall: %s\" %(precision.mean()))"
   ]
  },
  {
   "cell_type": "code",
   "execution_count": 27,
   "id": "5d8ae1b9",
   "metadata": {},
   "outputs": [
    {
     "name": "stdout",
     "output_type": "stream",
     "text": [
      "              precision    recall  f1-score   support\n",
      "\n",
      "           0       0.84      0.98      0.90     24888\n",
      "           1       0.49      0.09      0.16      5112\n",
      "\n",
      "    accuracy                           0.83     30000\n",
      "   macro avg       0.66      0.54      0.53     30000\n",
      "weighted avg       0.78      0.83      0.78     30000\n",
      "\n"
     ]
    }
   ],
   "source": [
    "print(classification_report(y_test,pred_dtree))"
   ]
  },
  {
   "cell_type": "markdown",
   "id": "73e6480f",
   "metadata": {},
   "source": [
    "# Random Forest Classifier"
   ]
  },
  {
   "cell_type": "code",
   "execution_count": 28,
   "id": "0bc31aee",
   "metadata": {},
   "outputs": [
    {
     "name": "stdout",
     "output_type": "stream",
     "text": [
      "Fitting 5 folds for each of 10 candidates, totalling 50 fits\n"
     ]
    }
   ],
   "source": [
    "from sklearn.ensemble import RandomForestClassifier\n",
    "from sklearn.model_selection import RandomizedSearchCV\n",
    "\n",
    "param_grid = {\n",
    "    'bootstrap': [True],\n",
    "    'max_depth': [10], \n",
    "    'n_estimators':[2,5,10,20,50],\n",
    "    'min_samples_split': [2, 3, 4],\n",
    "    'max_features' : ['log2']\n",
    "}\n",
    "\n",
    "rf = RandomForestClassifier(random_state=42)\n",
    "\n",
    "rf_search = RandomizedSearchCV(estimator = rf, param_distributions=param_grid, \n",
    "                          cv = 5, n_jobs = -1, verbose = 2, n_iter = 10)\n",
    "\n",
    "model = rf_search.fit(X_train,y_train)"
   ]
  },
  {
   "cell_type": "code",
   "execution_count": 29,
   "id": "998b01f1",
   "metadata": {},
   "outputs": [
    {
     "data": {
      "text/plain": [
       "{'n_estimators': 10,\n",
       " 'min_samples_split': 2,\n",
       " 'max_features': 'log2',\n",
       " 'max_depth': 10,\n",
       " 'bootstrap': True}"
      ]
     },
     "execution_count": 29,
     "metadata": {},
     "output_type": "execute_result"
    }
   ],
   "source": [
    "rf_search.best_params_"
   ]
  },
  {
   "cell_type": "code",
   "execution_count": 30,
   "id": "70f01c9f",
   "metadata": {},
   "outputs": [
    {
     "data": {
      "text/plain": [
       "RandomForestClassifier(max_depth=10, max_features='log2', n_estimators=20,\n",
       "                       random_state=42)"
      ]
     },
     "execution_count": 30,
     "metadata": {},
     "output_type": "execute_result"
    }
   ],
   "source": [
    "clf_rf = RandomForestClassifier(n_estimators= 20,\n",
    " min_samples_split= 2,\n",
    " max_features= 'log2',\n",
    " max_depth= 10,\n",
    " bootstrap= True,\n",
    " random_state=42)\n",
    "clf_rf.fit(X_train,y_train)"
   ]
  },
  {
   "cell_type": "code",
   "execution_count": 31,
   "id": "e93facaa",
   "metadata": {},
   "outputs": [
    {
     "name": "stdout",
     "output_type": "stream",
     "text": [
      "[[24656   232]\n",
      " [ 4820   292]]\n",
      "Precision: 0.7888971555070292, Recall: 0.8316\n"
     ]
    }
   ],
   "source": [
    "rf_predict = clf_rf.predict(X_test)\n",
    "\n",
    "print(confusion_matrix(y_test, rf_predict))\n",
    "prec = precision_score(y_test, rf_predict, average = 'weighted')\n",
    "recall = recall_score(y_test, rf_predict, average = 'weighted')\n",
    "print(\"Precision: %s, Recall: %s\" %(prec, recall))"
   ]
  },
  {
   "cell_type": "code",
   "execution_count": 32,
   "id": "d42a7ae8",
   "metadata": {},
   "outputs": [],
   "source": [
    "rf_prob = clf_rf.predict_proba(X_test)\n",
    "rf_fpr,rf_tpr,_ = roc_curve(y_test,rf_prob[:,1])"
   ]
  },
  {
   "cell_type": "code",
   "execution_count": 33,
   "id": "58a4080b",
   "metadata": {},
   "outputs": [
    {
     "name": "stdout",
     "output_type": "stream",
     "text": [
      "              precision    recall  f1-score   support\n",
      "\n",
      "           0       0.84      0.99      0.91     24888\n",
      "           1       0.56      0.06      0.10      5112\n",
      "\n",
      "    accuracy                           0.83     30000\n",
      "   macro avg       0.70      0.52      0.51     30000\n",
      "weighted avg       0.79      0.83      0.77     30000\n",
      "\n"
     ]
    }
   ],
   "source": [
    "print(classification_report(y_test,rf_predict))"
   ]
  },
  {
   "cell_type": "markdown",
   "id": "4ae871ee",
   "metadata": {},
   "source": [
    "# Boosting"
   ]
  },
  {
   "cell_type": "code",
   "execution_count": 34,
   "id": "e6fc65e9",
   "metadata": {},
   "outputs": [
    {
     "name": "stdout",
     "output_type": "stream",
     "text": [
      "Recall :\t 0.0395\n",
      "Precision :\t 0.6235:\n"
     ]
    }
   ],
   "source": [
    "from sklearn.ensemble import GradientBoostingClassifier\n",
    "gbc = GradientBoostingClassifier(random_state=42).fit(X_train, y_train)\n",
    "gbc_pred = gbc.predict(X_test)\n",
    "recall_gbc = round(recall_score(y_test, gbc_pred),4)\n",
    "precision_gbc = round(precision_score(y_test, gbc_pred),4)\n",
    "\n",
    "print('Recall :\\t {}'.format(recall_gbc))\n",
    "print('Precision :\\t {}:'.format(precision_gbc))"
   ]
  },
  {
   "cell_type": "code",
   "execution_count": 35,
   "id": "8befabb0",
   "metadata": {},
   "outputs": [
    {
     "name": "stdout",
     "output_type": "stream",
     "text": [
      "0.517306453097671\n",
      "0.8322666666666667\n"
     ]
    }
   ],
   "source": [
    "roc_auc_score = metrics.roc_auc_score(y_test,gbc_pred)\n",
    "print(roc_auc_score)\n",
    "print(gbc.score(X_test,y_test))\n",
    "gbc_fpr,gbc_tpr,_ = roc_curve(y_test,gbc_pred)"
   ]
  },
  {
   "cell_type": "code",
   "execution_count": 36,
   "id": "0ec3fa4d",
   "metadata": {},
   "outputs": [
    {
     "name": "stdout",
     "output_type": "stream",
     "text": [
      "Precision scores: 0.7983478181800743\n",
      "Recall scores: 0.8322547630953231\n",
      "KFold(n_splits=5, random_state=None, shuffle=False)\n"
     ]
    }
   ],
   "source": [
    "from sklearn.model_selection import KFold,cross_val_score\n",
    "# Set up k-fold\n",
    "k_fold = KFold(n_splits = 5)\n",
    "\n",
    "# Evaluate precision and recall for each fold\n",
    "precision = cross_val_score(\n",
    "  gbc, X_train, y_train, cv = k_fold, scoring = 'precision_weighted')\n",
    "recall = cross_val_score(\n",
    "  gbc, X_train, y_train, cv = k_fold, scoring = 'recall_weighted')\n",
    "print(\"Precision scores: %s\" %(precision.mean())) \n",
    "print(\"Recall scores: %s\" %(recall.mean()))\n",
    "print(k_fold)"
   ]
  },
  {
   "cell_type": "code",
   "execution_count": 37,
   "id": "820ff36f",
   "metadata": {},
   "outputs": [
    {
     "name": "stdout",
     "output_type": "stream",
     "text": [
      "              precision    recall  f1-score   support\n",
      "\n",
      "           0       0.83      1.00      0.91     24888\n",
      "           1       0.62      0.04      0.07      5112\n",
      "\n",
      "    accuracy                           0.83     30000\n",
      "   macro avg       0.73      0.52      0.49     30000\n",
      "weighted avg       0.80      0.83      0.77     30000\n",
      "\n"
     ]
    }
   ],
   "source": [
    "print(classification_report(y_test,gbc_pred))"
   ]
  },
  {
   "cell_type": "code",
   "execution_count": 38,
   "id": "eef38202",
   "metadata": {},
   "outputs": [],
   "source": [
    "random_probs = [0 for i in range(len(y_test))]\n",
    "p_fpr, p_tpr, _ = roc_curve(y_test, random_probs, pos_label=1)"
   ]
  },
  {
   "cell_type": "code",
   "execution_count": 39,
   "id": "0b7d9f00",
   "metadata": {},
   "outputs": [
    {
     "data": {
      "text/plain": [
       "Text(0.5, 1.0, 'AUC-ROC Curve')"
      ]
     },
     "execution_count": 39,
     "metadata": {},
     "output_type": "execute_result"
    },
    {
     "data": {
      "image/png": "[encoded data removed]",
      "text/plain": [
       "<Figure size 576x396 with 1 Axes>"
      ]
     },
     "metadata": {},
     "output_type": "display_data"
    }
   ],
   "source": [
    "plt.style.use('seaborn')\n",
    "plt.plot(fpr,tpr,linestyle = '--',color = 'green',label='Decision Tree')\n",
    "plt.plot(rf_fpr,rf_tpr,linestyle = '--',color = 'yellow',label='Random Forest')\n",
    "plt.plot(gbc_fpr,gbc_tpr,linestyle = '--',color = 'orange',label='Boosting')\n",
    "plt.plot(p_fpr,p_tpr,linestyle='--',color = 'blue')\n",
    "plt.legend()\n",
    "plt.xlabel('FPR')\n",
    "plt.ylabel('TPR')\n",
    "plt.title('AUC-ROC Curve')"
   ]
  },
  {
   "cell_type": "code",
   "execution_count": 40,
   "id": "4c2e3107",
   "metadata": {},
   "outputs": [
    {
     "name": "stdout",
     "output_type": "stream",
     "text": [
      "XGBOOST AUC-ROC 0.5238993696454954\n",
      "Decision Tree 0.5364343998201143\n",
      "Random Forest 0.517306453097671\n"
     ]
    }
   ],
   "source": [
    "print('XGBOOST AUC-ROC',metrics.roc_auc_score(y_test,rf_predict))\n",
    "print('Decision Tree',metrics.roc_auc_score(y_test,pred_dtree))\n",
    "print('Random Forest',metrics.roc_auc_score(y_test,gbc_pred))"
   ]
  },
  {
   "cell_type": "markdown",
   "id": "4f34be17",
   "metadata": {},
   "source": [
    "## Feature importance - Select KBest"
   ]
  },
  {
   "cell_type": "code",
   "execution_count": 41,
   "id": "26802ff3",
   "metadata": {},
   "outputs": [],
   "source": [
    "from sklearn.feature_selection import SelectKBest, f_classif\n",
    "# instantiate SelectKBest to determine 20 best features\n",
    "best_features = SelectKBest(score_func=f_classif, k=len(X_train.columns))\n",
    "fit = best_features.fit(X_train,y_train)\n",
    "df_scores = pd.DataFrame(fit.scores_)\n",
    "df_columns = pd.DataFrame(X_train.columns)\n",
    "# concatenate dataframes\n",
    "feature_scores = pd.concat([df_columns, df_scores],axis=1)\n",
    "feature_scores.columns = ['Feature_Name','Score']  # name output columns"
   ]
  },
  {
   "cell_type": "code",
   "execution_count": 42,
   "id": "02ece519",
   "metadata": {},
   "outputs": [
    {
     "name": "stdout",
     "output_type": "stream",
     "text": [
      "     Feature_Name        Score\n",
      "9             C16  1177.800317\n",
      "6    app_category   469.998882\n",
      "14            C21   348.961467\n",
      "5      app_domain   339.296398\n",
      "3   site_category   325.300439\n",
      "7             C14   250.305256\n",
      "10            C17   223.283114\n",
      "13            C20   223.026957\n",
      "2     site_domain   190.575015\n",
      "19    device_info   162.044518\n"
     ]
    }
   ],
   "source": [
    "# Top 20 Feature Selection\n",
    "print(feature_scores.nlargest(10,'Score')) "
   ]
  },
  {
   "cell_type": "code",
   "execution_count": 43,
   "id": "95640fa3",
   "metadata": {},
   "outputs": [],
   "source": [
    "selected_feature_df = feature_scores.nlargest(10,'Score')"
   ]
  },
  {
   "cell_type": "code",
   "execution_count": 44,
   "id": "9e52610d",
   "metadata": {},
   "outputs": [
    {
     "data": {
      "image/png": "[encoded data removed]",
      "text/plain": [
       "<Figure size 640x480 with 1 Axes>"
      ]
     },
     "metadata": {},
     "output_type": "display_data"
    }
   ],
   "source": [
    "plt.rcdefaults()\n",
    "plt.bar(selected_feature_df.Feature_Name,selected_feature_df.Score)\n",
    "plt.title(\"Feature Importance using SelectKBest\")\n",
    "plt.xlabel(\"Features\")\n",
    "plt.ylabel(\"Scores\")\n",
    "plt.xticks(rotation=90)\n",
    "plt.show()"
   ]
  },
  {
   "cell_type": "code",
   "execution_count": 45,
   "id": "880ac5ce",
   "metadata": {},
   "outputs": [],
   "source": [
    "features_selected = feature_scores.nlargest(10,'Score').Feature_Name.to_list()"
   ]
  },
  {
   "cell_type": "code",
   "execution_count": 46,
   "id": "0a48ab2b",
   "metadata": {},
   "outputs": [],
   "source": [
    "# dropping the unwanted features\n",
    "X_train = X_train[features_selected]\n",
    "X_test  = X_test[features_selected]"
   ]
  },
  {
   "cell_type": "markdown",
   "id": "1464c837",
   "metadata": {},
   "source": [
    "## Principal Component Analysis"
   ]
  },
  {
   "cell_type": "markdown",
   "id": "dfa0ac9d",
   "metadata": {},
   "source": [
    "<span class=\"mark\">Principal Component Analysis is a mathematical technique used for dimensionality reduction</span>. Its goal is to reduce the number of features whilst keeping most of the original information."
   ]
  },
  {
   "cell_type": "code",
   "execution_count": 47,
   "id": "d26eb9c1",
   "metadata": {},
   "outputs": [],
   "source": [
    "# initialize PCA components\n",
    "pca = PCA(n_components=2)\n",
    "pca.fit(X_train)\n",
    "pca_X_train = pca.transform(X_train)\n",
    "pca_X_test = pca.transform(X_test)"
   ]
  },
  {
   "cell_type": "code",
   "execution_count": 48,
   "id": "e1c91cb0",
   "metadata": {},
   "outputs": [],
   "source": [
    "df_pca_X_train = pd.DataFrame(pca_X_train, columns=['PCA1', 'PCA2'])\n",
    "df_pca_X_test = pd.DataFrame(pca_X_test, columns=['PCA1', 'PCA2'])"
   ]
  },
  {
   "cell_type": "code",
   "execution_count": 49,
   "id": "07530e1e",
   "metadata": {},
   "outputs": [
    {
     "data": {
      "text/plain": [
       "array([0.68246575, 0.13676194])"
      ]
     },
     "execution_count": 49,
     "metadata": {},
     "output_type": "execute_result"
    }
   ],
   "source": [
    "pca.explained_variance_ratio_"
   ]
  },
  {
   "cell_type": "markdown",
   "id": "d2de4cbc",
   "metadata": {},
   "source": [
    "<span class=\"burk\">The variance data shows most the data points are captured in PCA1 & PCA2 itself</span>"
   ]
  },
  {
   "cell_type": "markdown",
   "id": "40a74ea1",
   "metadata": {},
   "source": [
    "## K-Means Clustering"
   ]
  },
  {
   "cell_type": "markdown",
   "id": "63f16aaa",
   "metadata": {},
   "source": [
    "Use Elbow method to find no .of clusters to be selected"
   ]
  },
  {
   "cell_type": "code",
   "execution_count": 50,
   "id": "aa768e14",
   "metadata": {},
   "outputs": [
    {
     "data": {
      "image/png": "[encoded data removed]",
      "text/plain": [
       "<Figure size 640x480 with 1 Axes>"
      ]
     },
     "metadata": {},
     "output_type": "display_data"
    }
   ],
   "source": [
    "wcss=[]\n",
    "for i in range(1,7):\n",
    "    kmeans = KMeans(i)\n",
    "    kmeans.fit(pca_X_train)\n",
    "    wcss_iter = kmeans.inertia_\n",
    "    wcss.append(wcss_iter)\n",
    "\n",
    "number_clusters = range(1,7)\n",
    "plt.rcdefaults()\n",
    "plt.plot(number_clusters,wcss)\n",
    "plt.title('Elbow Curve')\n",
    "plt.xlabel('Number of clusters')\n",
    "plt.ylabel('WCSS')\n",
    "plt.show()"
   ]
  },
  {
   "cell_type": "markdown",
   "id": "6b7ba079",
   "metadata": {},
   "source": [
    "From the above graph, it is evident that <span class=\"mark\">number of clusters = 3 makes sense</span>"
   ]
  },
  {
   "cell_type": "code",
   "execution_count": 51,
   "id": "aa4e7e48",
   "metadata": {},
   "outputs": [],
   "source": [
    "kmeans = KMeans(3)\n",
    "kmeans.fit(pca_X_train, y_train)\n",
    "identified_clusters = kmeans.fit_predict(pca_X_test)\n",
    "identified_clusters = pd.DataFrame(identified_clusters, columns=['Cluster'])"
   ]
  },
  {
   "cell_type": "code",
   "execution_count": 52,
   "id": "ae2dea18",
   "metadata": {},
   "outputs": [
    {
     "data": {
      "text/html": [
       "<div>\n",
       "<style scoped>\n",
       "    .dataframe tbody tr th:only-of-type {\n",
       "        vertical-align: middle;\n",
       "    }\n",
       "\n",
       "    .dataframe tbody tr th {\n",
       "        vertical-align: top;\n",
       "    }\n",
       "\n",
       "    .dataframe thead th {\n",
       "        text-align: right;\n",
       "    }\n",
       "</style>\n",
       "<table border=\"1\" class=\"dataframe\">\n",
       "  <thead>\n",
       "    <tr style=\"text-align: right;\">\n",
       "      <th></th>\n",
       "      <th>Cluster</th>\n",
       "    </tr>\n",
       "  </thead>\n",
       "  <tbody>\n",
       "    <tr>\n",
       "      <th>0</th>\n",
       "      <td>0</td>\n",
       "    </tr>\n",
       "    <tr>\n",
       "      <th>1</th>\n",
       "      <td>1</td>\n",
       "    </tr>\n",
       "    <tr>\n",
       "      <th>2</th>\n",
       "      <td>0</td>\n",
       "    </tr>\n",
       "    <tr>\n",
       "      <th>3</th>\n",
       "      <td>2</td>\n",
       "    </tr>\n",
       "    <tr>\n",
       "      <th>4</th>\n",
       "      <td>2</td>\n",
       "    </tr>\n",
       "    <tr>\n",
       "      <th>...</th>\n",
       "      <td>...</td>\n",
       "    </tr>\n",
       "    <tr>\n",
       "      <th>29995</th>\n",
       "      <td>1</td>\n",
       "    </tr>\n",
       "    <tr>\n",
       "      <th>29996</th>\n",
       "      <td>2</td>\n",
       "    </tr>\n",
       "    <tr>\n",
       "      <th>29997</th>\n",
       "      <td>0</td>\n",
       "    </tr>\n",
       "    <tr>\n",
       "      <th>29998</th>\n",
       "      <td>1</td>\n",
       "    </tr>\n",
       "    <tr>\n",
       "      <th>29999</th>\n",
       "      <td>1</td>\n",
       "    </tr>\n",
       "  </tbody>\n",
       "</table>\n",
       "<p>30000 rows × 1 columns</p>\n",
       "</div>"
      ],
      "text/plain": [
       "       Cluster\n",
       "0            0\n",
       "1            1\n",
       "2            0\n",
       "3            2\n",
       "4            2\n",
       "...        ...\n",
       "29995        1\n",
       "29996        2\n",
       "29997        0\n",
       "29998        1\n",
       "29999        1\n",
       "\n",
       "[30000 rows x 1 columns]"
      ]
     },
     "execution_count": 52,
     "metadata": {},
     "output_type": "execute_result"
    }
   ],
   "source": [
    "identified_clusters"
   ]
  },
  {
   "cell_type": "code",
   "execution_count": 53,
   "id": "83135b44",
   "metadata": {},
   "outputs": [],
   "source": [
    "data_with_clusters = pca_X_test.copy()\n",
    "data_with_clusters = pd.DataFrame(data_with_clusters, columns=['PCA1', 'PCA2'])\n",
    "data_with_clusters['Cluster'] = identified_clusters['Cluster']"
   ]
  },
  {
   "cell_type": "code",
   "execution_count": 54,
   "id": "bf2c3300",
   "metadata": {},
   "outputs": [
    {
     "data": {
      "text/plain": [
       "array([[ 9.15952866e+18, -2.60841005e+17],\n",
       "       [-7.66322581e+18, -2.16728608e+18],\n",
       "       [-3.41088591e+18,  5.77791339e+18]])"
      ]
     },
     "execution_count": 54,
     "metadata": {},
     "output_type": "execute_result"
    }
   ],
   "source": [
    "# check the centroids of each cluster\n",
    "centroids = kmeans.cluster_centers_\n",
    "centroids"
   ]
  },
  {
   "cell_type": "code",
   "execution_count": 55,
   "id": "a4321692",
   "metadata": {},
   "outputs": [
    {
     "data": {
      "text/html": [
       "<div>\n",
       "<style scoped>\n",
       "    .dataframe tbody tr th:only-of-type {\n",
       "        vertical-align: middle;\n",
       "    }\n",
       "\n",
       "    .dataframe tbody tr th {\n",
       "        vertical-align: top;\n",
       "    }\n",
       "\n",
       "    .dataframe thead th {\n",
       "        text-align: right;\n",
       "    }\n",
       "</style>\n",
       "<table border=\"1\" class=\"dataframe\">\n",
       "  <thead>\n",
       "    <tr style=\"text-align: right;\">\n",
       "      <th></th>\n",
       "      <th>PCA1</th>\n",
       "      <th>PCA2</th>\n",
       "      <th>Cluster</th>\n",
       "    </tr>\n",
       "  </thead>\n",
       "  <tbody>\n",
       "    <tr>\n",
       "      <th>0</th>\n",
       "      <td>1.390433e+19</td>\n",
       "      <td>-4.197490e+18</td>\n",
       "      <td>0</td>\n",
       "    </tr>\n",
       "    <tr>\n",
       "      <th>1</th>\n",
       "      <td>-8.628685e+18</td>\n",
       "      <td>-2.096444e+18</td>\n",
       "      <td>1</td>\n",
       "    </tr>\n",
       "    <tr>\n",
       "      <th>2</th>\n",
       "      <td>8.638763e+18</td>\n",
       "      <td>2.253543e+18</td>\n",
       "      <td>0</td>\n",
       "    </tr>\n",
       "    <tr>\n",
       "      <th>3</th>\n",
       "      <td>7.094072e+15</td>\n",
       "      <td>7.234851e+18</td>\n",
       "      <td>2</td>\n",
       "    </tr>\n",
       "    <tr>\n",
       "      <th>4</th>\n",
       "      <td>-5.010247e+18</td>\n",
       "      <td>7.191730e+18</td>\n",
       "      <td>2</td>\n",
       "    </tr>\n",
       "    <tr>\n",
       "      <th>...</th>\n",
       "      <td>...</td>\n",
       "      <td>...</td>\n",
       "      <td>...</td>\n",
       "    </tr>\n",
       "    <tr>\n",
       "      <th>29995</th>\n",
       "      <td>-8.628685e+18</td>\n",
       "      <td>-2.096444e+18</td>\n",
       "      <td>1</td>\n",
       "    </tr>\n",
       "    <tr>\n",
       "      <th>29996</th>\n",
       "      <td>-5.396439e+18</td>\n",
       "      <td>6.200413e+18</td>\n",
       "      <td>2</td>\n",
       "    </tr>\n",
       "    <tr>\n",
       "      <th>29997</th>\n",
       "      <td>5.130822e+18</td>\n",
       "      <td>4.756159e+18</td>\n",
       "      <td>0</td>\n",
       "    </tr>\n",
       "    <tr>\n",
       "      <th>29998</th>\n",
       "      <td>-7.281520e+18</td>\n",
       "      <td>-3.372348e+18</td>\n",
       "      <td>1</td>\n",
       "    </tr>\n",
       "    <tr>\n",
       "      <th>29999</th>\n",
       "      <td>-7.281520e+18</td>\n",
       "      <td>-3.372348e+18</td>\n",
       "      <td>1</td>\n",
       "    </tr>\n",
       "  </tbody>\n",
       "</table>\n",
       "<p>30000 rows × 3 columns</p>\n",
       "</div>"
      ],
      "text/plain": [
       "               PCA1          PCA2  Cluster\n",
       "0      1.390433e+19 -4.197490e+18        0\n",
       "1     -8.628685e+18 -2.096444e+18        1\n",
       "2      8.638763e+18  2.253543e+18        0\n",
       "3      7.094072e+15  7.234851e+18        2\n",
       "4     -5.010247e+18  7.191730e+18        2\n",
       "...             ...           ...      ...\n",
       "29995 -8.628685e+18 -2.096444e+18        1\n",
       "29996 -5.396439e+18  6.200413e+18        2\n",
       "29997  5.130822e+18  4.756159e+18        0\n",
       "29998 -7.281520e+18 -3.372348e+18        1\n",
       "29999 -7.281520e+18 -3.372348e+18        1\n",
       "\n",
       "[30000 rows x 3 columns]"
      ]
     },
     "execution_count": 55,
     "metadata": {},
     "output_type": "execute_result"
    }
   ],
   "source": [
    "data_with_clusters"
   ]
  },
  {
   "cell_type": "code",
   "execution_count": 56,
   "id": "9fc84aea",
   "metadata": {},
   "outputs": [
    {
     "data": {
      "image/png": "[encoded data removed]",
      "text/plain": [
       "<Figure size 640x480 with 1 Axes>"
      ]
     },
     "metadata": {},
     "output_type": "display_data"
    }
   ],
   "source": [
    "# plot the KMeans cluster with the Health category that is calculated\n",
    "sns.scatterplot(x = 'PCA1', y='PCA2', data =data_with_clusters, hue='Cluster', palette=['blue', 'green', 'orange']).set(title=\"K-Means Clustering\")\n",
    "plt.scatter(kmeans.cluster_centers_[:,0] ,kmeans.cluster_centers_[:,1], color='black')\n",
    "plt.legend(title='Clusters', loc='upper left')\n",
    "plt.show()"
   ]
  },
  {
   "cell_type": "markdown",
   "id": "372b65c6",
   "metadata": {},
   "source": [
    "# Model Re-Evaluation After Top 10 Feature Selection"
   ]
  },
  {
   "cell_type": "markdown",
   "id": "1183b25f",
   "metadata": {},
   "source": [
    "# Model - Decision Tree Classifier"
   ]
  },
  {
   "cell_type": "code",
   "execution_count": 57,
   "id": "3c3593d9",
   "metadata": {},
   "outputs": [
    {
     "name": "stdout",
     "output_type": "stream",
     "text": [
      "Evaluating Decision Tree for max_depth = 3\n",
      "Cross validation Recall: 0.8304547402708726\n",
      "Test Recall: 0.8315333333333333\n",
      "Evaluating Decision Tree for max_depth = 5\n",
      "Cross validation Recall: 0.8306833019029659\n",
      "Test Recall: 0.8315666666666667\n",
      "Evaluating Decision Tree for max_depth = 10\n",
      "Cross validation Recall: 0.8310547410872458\n",
      "Test Recall: 0.8316\n"
     ]
    }
   ],
   "source": [
    "from sklearn.model_selection import KFold,cross_val_score\n",
    "for max_depth_val in [3, 5, 10]:\n",
    "    k_fold = KFold(n_splits = 4)\n",
    "    clf = DecisionTreeClassifier(max_depth = max_depth_val)\n",
    "    print(\"Evaluating Decision Tree for max_depth = %s\" %(max_depth_val))\n",
    "    y_pred_dtree = tree.fit(X_train, y_train).predict(X_test) \n",
    "  \n",
    "    cv_precision = cross_val_score(clf, X_train, y_train, cv = k_fold, scoring = 'recall_weighted')\n",
    "    precision = recall_score(y_test, y_pred_dtree, average = 'weighted')\n",
    "    print(\"Cross validation Recall: %s\" %(cv_precision.mean()))\n",
    "    print(\"Test Recall: %s\" %(precision.mean()))"
   ]
  },
  {
   "cell_type": "code",
   "execution_count": 58,
   "id": "7827eb00",
   "metadata": {},
   "outputs": [
    {
     "name": "stdout",
     "output_type": "stream",
     "text": [
      "              precision    recall  f1-score   support\n",
      "\n",
      "           0       0.84      0.99      0.91     24888\n",
      "           1       0.55      0.07      0.12      5112\n",
      "\n",
      "    accuracy                           0.83     30000\n",
      "   macro avg       0.69      0.53      0.51     30000\n",
      "weighted avg       0.79      0.83      0.77     30000\n",
      "\n"
     ]
    }
   ],
   "source": [
    "print(classification_report(y_test,y_pred_dtree))"
   ]
  },
  {
   "cell_type": "markdown",
   "id": "bf371a69",
   "metadata": {},
   "source": [
    "# Random Forest Classifier"
   ]
  },
  {
   "cell_type": "code",
   "execution_count": 59,
   "id": "06bb04e5",
   "metadata": {},
   "outputs": [
    {
     "name": "stdout",
     "output_type": "stream",
     "text": [
      "Fitting 5 folds for each of 10 candidates, totalling 50 fits\n"
     ]
    }
   ],
   "source": [
    "param_grid = {\n",
    "    'bootstrap': [True],\n",
    "    'max_depth': [10], \n",
    "    'n_estimators':[2,5,10,20,50],\n",
    "    'min_samples_split': [2, 3, 4],\n",
    "    'max_features' : ['log2']\n",
    "}\n",
    "\n",
    "rf = RandomForestClassifier(random_state=42)\n",
    "\n",
    "rf_search = RandomizedSearchCV(estimator = rf, param_distributions=param_grid, \n",
    "                          cv = 5, n_jobs = -1, verbose = 2, n_iter = 10)\n",
    "\n",
    "model = rf_search.fit(X_train,y_train)"
   ]
  },
  {
   "cell_type": "code",
   "execution_count": 60,
   "id": "e39f5863",
   "metadata": {},
   "outputs": [
    {
     "data": {
      "text/plain": [
       "{'n_estimators': 10,\n",
       " 'min_samples_split': 2,\n",
       " 'max_features': 'log2',\n",
       " 'max_depth': 10,\n",
       " 'bootstrap': True}"
      ]
     },
     "execution_count": 60,
     "metadata": {},
     "output_type": "execute_result"
    }
   ],
   "source": [
    "rf_search.best_params_"
   ]
  },
  {
   "cell_type": "code",
   "execution_count": 61,
   "id": "532c648c",
   "metadata": {},
   "outputs": [
    {
     "name": "stdout",
     "output_type": "stream",
     "text": [
      "[[24686   202]\n",
      " [ 4811   301]]\n",
      "Precision: 0.7962601207751625, Recall: 0.8329\n"
     ]
    }
   ],
   "source": [
    "clf_rf = RandomForestClassifier(n_estimators= 20,\n",
    " min_samples_split= 2,\n",
    " max_features= 'log2',\n",
    " max_depth= 10,\n",
    " bootstrap= True,\n",
    " random_state=42)\n",
    "clf_rf.fit(X_train,y_train)\n",
    "\n",
    "\n",
    "rf_predict = clf_rf.predict(X_test)\n",
    "\n",
    "print(confusion_matrix(y_test, rf_predict))\n",
    "prec = precision_score(y_test, rf_predict, average = 'weighted')\n",
    "recall = recall_score(y_test, rf_predict, average = 'weighted')\n",
    "print(\"Precision: %s, Recall: %s\" %(prec, recall))\n",
    "\n",
    "\n",
    "rf_prob = clf_rf.predict_proba(X_test)\n",
    "rf_fpr,rf_tpr,_ = roc_curve(y_test,rf_prob[:,1])\n"
   ]
  },
  {
   "cell_type": "code",
   "execution_count": 62,
   "id": "77e301e4",
   "metadata": {},
   "outputs": [
    {
     "name": "stdout",
     "output_type": "stream",
     "text": [
      "              precision    recall  f1-score   support\n",
      "\n",
      "           0       0.84      0.99      0.91     24888\n",
      "           1       0.60      0.06      0.11      5112\n",
      "\n",
      "    accuracy                           0.83     30000\n",
      "   macro avg       0.72      0.53      0.51     30000\n",
      "weighted avg       0.80      0.83      0.77     30000\n",
      "\n"
     ]
    }
   ],
   "source": [
    "print(classification_report(y_test,rf_predict))"
   ]
  },
  {
   "cell_type": "markdown",
   "id": "dbe5f81e",
   "metadata": {},
   "source": [
    "# Boosting"
   ]
  },
  {
   "cell_type": "code",
   "execution_count": 63,
   "id": "f8cc063e",
   "metadata": {},
   "outputs": [
    {
     "name": "stdout",
     "output_type": "stream",
     "text": [
      "Recall :\t 0.0554\n",
      "Precision :\t 0.597:\n",
      "0.523842778087145\n",
      "0.8326666666666667\n",
      "Precision scores: 0.792827441222714\n",
      "Recall scores: 0.8325404773810374\n",
      "KFold(n_splits=5, random_state=None, shuffle=False)\n"
     ]
    }
   ],
   "source": [
    "from sklearn.ensemble import GradientBoostingClassifier\n",
    "gbc = GradientBoostingClassifier(random_state=42).fit(X_train, y_train)\n",
    "gbc_pred = gbc.predict(X_test)\n",
    "recall_gbc = round(recall_score(y_test, gbc_pred),4)\n",
    "precision_gbc = round(precision_score(y_test, gbc_pred),4)\n",
    "\n",
    "print('Recall :\\t {}'.format(recall_gbc))\n",
    "print('Precision :\\t {}:'.format(precision_gbc))\n",
    "\n",
    "\n",
    "roc_auc_score = metrics.roc_auc_score(y_test,gbc_pred)\n",
    "print(roc_auc_score)\n",
    "print(gbc.score(X_test,y_test))\n",
    "gbc_fpr,gbc_tpr,_ = roc_curve(y_test,gbc_pred)\n",
    "\n",
    "\n",
    "from sklearn.model_selection import KFold,cross_val_score\n",
    "# Set up k-fold\n",
    "k_fold = KFold(n_splits = 5)\n",
    "\n",
    "# Evaluate precision and recall for each fold\n",
    "precision = cross_val_score(\n",
    "  gbc, X_train, y_train, cv = k_fold, scoring = 'precision_weighted')\n",
    "recall = cross_val_score(\n",
    "  gbc, X_train, y_train, cv = k_fold, scoring = 'recall_weighted')\n",
    "print(\"Precision scores: %s\" %(precision.mean())) \n",
    "print(\"Recall scores: %s\" %(recall.mean()))\n",
    "print(k_fold)\n"
   ]
  },
  {
   "cell_type": "code",
   "execution_count": 64,
   "id": "679643c3",
   "metadata": {},
   "outputs": [
    {
     "name": "stdout",
     "output_type": "stream",
     "text": [
      "              precision    recall  f1-score   support\n",
      "\n",
      "           0       0.84      0.99      0.91     24888\n",
      "           1       0.60      0.06      0.10      5112\n",
      "\n",
      "    accuracy                           0.83     30000\n",
      "   macro avg       0.72      0.52      0.50     30000\n",
      "weighted avg       0.80      0.83      0.77     30000\n",
      "\n"
     ]
    }
   ],
   "source": [
    "print(classification_report(y_test,gbc_pred))"
   ]
  },
  {
   "cell_type": "code",
   "execution_count": 65,
   "id": "fc1ecbd4",
   "metadata": {},
   "outputs": [],
   "source": [
    "random_probs = [0 for i in range(len(y_test))]\n",
    "p_fpr, p_tpr, _ = roc_curve(y_test, random_probs, pos_label=1)"
   ]
  },
  {
   "cell_type": "code",
   "execution_count": 66,
   "id": "1a7c0e87",
   "metadata": {},
   "outputs": [
    {
     "data": {
      "text/plain": [
       "Text(0.5, 1.0, 'AUC-ROC Curve')"
      ]
     },
     "execution_count": 66,
     "metadata": {},
     "output_type": "execute_result"
    },
    {
     "data": {
      "image/png": "[encoded data removed]",
      "text/plain": [
       "<Figure size 800x550 with 1 Axes>"
      ]
     },
     "metadata": {},
     "output_type": "display_data"
    }
   ],
   "source": [
    "plt.style.use('seaborn')\n",
    "plt.plot(fpr,tpr,linestyle = '--',color = 'green',label='Decision Tree')\n",
    "plt.plot(rf_fpr,rf_tpr,linestyle = '--',color = 'yellow',label='Random Forest')\n",
    "plt.plot(gbc_fpr,gbc_tpr,linestyle = '--',color = 'orange',label='Boosting')\n",
    "plt.plot(p_fpr,p_tpr,linestyle='--',color = 'blue')\n",
    "plt.legend()\n",
    "plt.xlabel('FPR')\n",
    "plt.ylabel('TPR')\n",
    "plt.title('AUC-ROC Curve')"
   ]
  },
  {
   "cell_type": "code",
   "execution_count": 67,
   "id": "516cd85b",
   "metadata": {},
   "outputs": [
    {
     "name": "stdout",
     "output_type": "stream",
     "text": [
      "XGBOOST AUC-ROC 0.5253823514320684\n",
      "Decision Tree 0.5284070759066345\n",
      "Random Forest 0.523842778087145\n"
     ]
    }
   ],
   "source": [
    "print('XGBOOST AUC-ROC',metrics.roc_auc_score(y_test,rf_predict))\n",
    "print('Decision Tree',metrics.roc_auc_score(y_test,y_pred_dtree))\n",
    "print('Random Forest',metrics.roc_auc_score(y_test,gbc_pred))"
   ]
  },
  {
   "cell_type": "code",
   "execution_count": null,
   "id": "5bdb7a97",
   "metadata": {},
   "outputs": [],
   "source": []
  }
 ],
 "metadata": {
  "kernelspec": {
   "display_name": "Python 3",
   "language": "python",
   "name": "python3"
  },
  "language_info": {
   "codemirror_mode": {
    "name": "ipython",
    "version": 3
   },
   "file_extension": ".py",
   "mimetype": "text/x-python",
   "name": "python",
   "nbconvert_exporter": "python",
   "pygments_lexer": "ipython3",
   "version": "3.6.8"
  },
  "toc": {
   "base_numbering": 1,
   "nav_menu": {},
   "number_sections": true,
   "sideBar": true,
   "skip_h1_title": false,
   "title_cell": "Table of Contents",
   "title_sidebar": "Contents",
   "toc_cell": false,
   "toc_position": {},
   "toc_section_display": true,
   "toc_window_display": false
  }
 },
 "nbformat": 4,
 "nbformat_minor": 5
}
