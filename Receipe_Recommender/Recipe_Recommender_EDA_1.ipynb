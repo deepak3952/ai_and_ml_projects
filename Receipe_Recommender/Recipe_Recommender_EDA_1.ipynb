{
 "cells": [
  {
   "cell_type": "markdown",
   "id": "084bbdd7",
   "metadata": {},
   "source": [
    "# Recipe Recommender EDA Assignment"
   ]
  },
  {
   "cell_type": "markdown",
   "id": "be7db92c",
   "metadata": {},
   "source": [
    "## Importing Libraries"
   ]
  },
  {
   "cell_type": "code",
   "execution_count": 1,
   "id": "5a87afc0",
   "metadata": {},
   "outputs": [
    {
     "data": {
      "application/vnd.jupyter.widget-view+json": {
       "model_id": "b95c252e5556478c85e409b85ae43dba",
       "version_major": 2,
       "version_minor": 0
      },
      "text/plain": [
       "VBox()"
      ]
     },
     "metadata": {},
     "output_type": "display_data"
    },
    {
     "name": "stdout",
     "output_type": "stream",
     "text": [
      "Starting Spark application\n"
     ]
    },
    {
     "data": {
      "text/html": [
       "<table>\n",
       "<tr><th>ID</th><th>YARN Application ID</th><th>Kind</th><th>State</th><th>Spark UI</th><th>Driver log</th><th>Current session?</th></tr><tr><td>2</td><td>application_1677319031518_0003</td><td>pyspark</td><td>idle</td><td><a target=\"_blank\" href=\"http://ip-172-31-2-238.ec2.internal:20888/proxy/application_1677319031518_0003/\" class=\"emr-proxy-link\" emr-resource=\"j-3M70R61D0ZD8X\n",
       "\" application-id=\"application_1677319031518_0003\">Link</a></td><td><a target=\"_blank\" href=\"http://ip-172-31-2-238.ec2.internal:8042/node/containerlogs/container_1677319031518_0003_01_000001/livy\" >Link</a></td><td>✔</td></tr></table>"
      ],
      "text/plain": [
       "<IPython.core.display.HTML object>"
      ]
     },
     "metadata": {},
     "output_type": "display_data"
    },
    {
     "data": {
      "application/vnd.jupyter.widget-view+json": {
       "model_id": "",
       "version_major": 2,
       "version_minor": 0
      },
      "text/plain": [
       "FloatProgress(value=0.0, bar_style='info', description='Progress:', layout=Layout(height='25px', width='50%'),…"
      ]
     },
     "metadata": {},
     "output_type": "display_data"
    },
    {
     "name": "stdout",
     "output_type": "stream",
     "text": [
      "SparkSession available as 'spark'.\n"
     ]
    },
    {
     "data": {
      "application/vnd.jupyter.widget-view+json": {
       "model_id": "",
       "version_major": 2,
       "version_minor": 0
      },
      "text/plain": [
       "FloatProgress(value=0.0, bar_style='info', description='Progress:', layout=Layout(height='25px', width='50%'),…"
      ]
     },
     "metadata": {},
     "output_type": "display_data"
    }
   ],
   "source": [
    "from pyspark.sql import SparkSession"
   ]
  },
  {
   "cell_type": "code",
   "execution_count": 2,
   "id": "16405be5",
   "metadata": {},
   "outputs": [
    {
     "data": {
      "application/vnd.jupyter.widget-view+json": {
       "model_id": "c6c66a48e0624143abd3a931dc3d9e88",
       "version_major": 2,
       "version_minor": 0
      },
      "text/plain": [
       "VBox()"
      ]
     },
     "metadata": {},
     "output_type": "display_data"
    },
    {
     "data": {
      "application/vnd.jupyter.widget-view+json": {
       "model_id": "",
       "version_major": 2,
       "version_minor": 0
      },
      "text/plain": [
       "FloatProgress(value=0.0, bar_style='info', description='Progress:', layout=Layout(height='25px', width='50%'),…"
      ]
     },
     "metadata": {},
     "output_type": "display_data"
    }
   ],
   "source": [
    "spark = SparkSession.builder.appName(\"Case_Study\").getOrCreate()"
   ]
  },
  {
   "cell_type": "code",
   "execution_count": 3,
   "id": "b7964730",
   "metadata": {},
   "outputs": [
    {
     "data": {
      "application/vnd.jupyter.widget-view+json": {
       "model_id": "84c0fc3584cc4f7fa4fb5d47d31cb6f9",
       "version_major": 2,
       "version_minor": 0
      },
      "text/plain": [
       "VBox()"
      ]
     },
     "metadata": {},
     "output_type": "display_data"
    },
    {
     "data": {
      "application/vnd.jupyter.widget-view+json": {
       "model_id": "",
       "version_major": 2,
       "version_minor": 0
      },
      "text/plain": [
       "FloatProgress(value=0.0, bar_style='info', description='Progress:', layout=Layout(height='25px', width='50%'),…"
      ]
     },
     "metadata": {},
     "output_type": "display_data"
    },
    {
     "name": "stdout",
     "output_type": "stream",
     "text": [
      "<pyspark.sql.session.SparkSession object at 0x7f8d283e1e90>"
     ]
    }
   ],
   "source": [
    "spark"
   ]
  },
  {
   "cell_type": "code",
   "execution_count": 4,
   "id": "a4f8dd73",
   "metadata": {},
   "outputs": [
    {
     "data": {
      "application/vnd.jupyter.widget-view+json": {
       "model_id": "e608c98749c241e4a81e8744ea93f78d",
       "version_major": 2,
       "version_minor": 0
      },
      "text/plain": [
       "VBox()"
      ]
     },
     "metadata": {},
     "output_type": "display_data"
    },
    {
     "data": {
      "application/vnd.jupyter.widget-view+json": {
       "model_id": "",
       "version_major": 2,
       "version_minor": 0
      },
      "text/plain": [
       "FloatProgress(value=0.0, bar_style='info', description='Progress:', layout=Layout(height='25px', width='50%'),…"
      ]
     },
     "metadata": {},
     "output_type": "display_data"
    },
    {
     "name": "stdout",
     "output_type": "stream",
     "text": [
      "Collecting plotly==5.5.0\n",
      "  Downloading https://files.pythonhosted.org/packages/b3/f4/23d4a698db9fe772f7fdf40ac17b743c4b0d80274732c59db5bd45acb3be/plotly-5.5.0-py2.py3-none-any.whl (26.5MB)\n",
      "Collecting tenacity>=6.2.0 (from plotly==5.5.0)\n",
      "  Downloading https://files.pythonhosted.org/packages/f9/ea/c8e727fc85a098d77462dbf124650d58290ce227d141ed86285648c894e6/tenacity-8.2.1-py3-none-any.whl\n",
      "Requirement already satisfied: six in /usr/local/lib/python3.7/site-packages (from plotly==5.5.0)\n",
      "Installing collected packages: tenacity, plotly\n",
      "Successfully installed plotly-5.5.0 tenacity-8.2.1\n",
      "\n",
      "Collecting pandas==0.25.1\n",
      "  Downloading https://files.pythonhosted.org/packages/7e/ab/ea76361f9d3e732e114adcd801d2820d5319c23d0ac5482fa3b412db217e/pandas-0.25.1-cp37-cp37m-manylinux1_x86_64.whl (10.4MB)\n",
      "Requirement already satisfied: numpy>=1.13.3 in /usr/local/lib64/python3.7/site-packages (from pandas==0.25.1)\n",
      "Collecting python-dateutil>=2.6.1 (from pandas==0.25.1)\n",
      "  Downloading https://files.pythonhosted.org/packages/36/7a/87837f39d0296e723bb9b62bbb257d0355c7f6128853c78955f57342a56d/python_dateutil-2.8.2-py2.py3-none-any.whl (247kB)\n",
      "Requirement already satisfied: pytz>=2017.2 in /usr/local/lib/python3.7/site-packages (from pandas==0.25.1)\n",
      "Requirement already satisfied: six>=1.5 in /usr/local/lib/python3.7/site-packages (from python-dateutil>=2.6.1->pandas==0.25.1)\n",
      "Installing collected packages: python-dateutil, pandas\n",
      "Successfully installed pandas-0.25.1 python-dateutil-2.8.2\n",
      "\n",
      "Collecting numpy==1.14.5\n",
      "  Downloading https://files.pythonhosted.org/packages/3f/e7/7f24ef402a5766c677683e313c5595137d754cb9eb1c99627803280e79d5/numpy-1.14.5-cp37-cp37m-manylinux1_x86_64.whl (12.2MB)\n",
      "Installing collected packages: numpy\n",
      "  Found existing installation: numpy 1.16.5\n",
      "    Not uninstalling numpy at /usr/local/lib64/python3.7/site-packages, outside environment /tmp/1677319381065-0\n",
      "Successfully installed numpy-1.14.5\n",
      "\n",
      "Collecting matplotlib==3.1.1\n",
      "  Downloading https://files.pythonhosted.org/packages/19/7a/60bd79c5d79559150f8bba866dd7d434f0a170312e4d15e8aefa5faba294/matplotlib-3.1.1-cp37-cp37m-manylinux1_x86_64.whl (13.1MB)\n",
      "Collecting pyparsing!=2.0.4,!=2.1.2,!=2.1.6,>=2.0.1 (from matplotlib==3.1.1)\n",
      "  Downloading https://files.pythonhosted.org/packages/6c/10/a7d0fa5baea8fe7b50f448ab742f26f52b80bfca85ac2be9d35cdd9a3246/pyparsing-3.0.9-py3-none-any.whl (98kB)\n",
      "Requirement already satisfied: python-dateutil>=2.1 in /mnt/tmp/1677319381065-0/lib/python3.7/site-packages (from matplotlib==3.1.1)\n",
      "Requirement already satisfied: numpy>=1.11 in /mnt/tmp/1677319381065-0/lib/python3.7/site-packages (from matplotlib==3.1.1)\n",
      "Collecting cycler>=0.10 (from matplotlib==3.1.1)\n",
      "  Downloading https://files.pythonhosted.org/packages/5c/f9/695d6bedebd747e5eb0fe8fad57b72fdf25411273a39791cde838d5a8f51/cycler-0.11.0-py3-none-any.whl\n",
      "Collecting kiwisolver>=1.0.1 (from matplotlib==3.1.1)\n",
      "  Downloading https://files.pythonhosted.org/packages/ab/8f/8dbe2d4efc4c0b08ec67d6efb7cc31fbfd688c80afad85f65980633b0d37/kiwisolver-1.4.4-cp37-cp37m-manylinux_2_5_x86_64.manylinux1_x86_64.whl (1.1MB)\n",
      "Requirement already satisfied: six>=1.5 in /usr/local/lib/python3.7/site-packages (from python-dateutil>=2.1->matplotlib==3.1.1)\n",
      "Collecting typing-extensions; python_version < \"3.8\" (from kiwisolver>=1.0.1->matplotlib==3.1.1)\n",
      "  Downloading https://files.pythonhosted.org/packages/31/25/5abcd82372d3d4a3932e1fa8c3dbf9efac10cc7c0d16e78467460571b404/typing_extensions-4.5.0-py3-none-any.whl\n",
      "Installing collected packages: pyparsing, cycler, typing-extensions, kiwisolver, matplotlib\n",
      "Successfully installed cycler-0.11.0 kiwisolver-1.4.4 matplotlib-3.1.1 pyparsing-3.0.9 typing-extensions-4.5.0\n",
      "\n",
      "You are using pip version 9.0.1, however version 23.0.1 is available.\n",
      "You should consider upgrading via the 'pip install --upgrade pip' command.\n",
      "\n",
      "You are using pip version 9.0.1, however version 23.0.1 is available.\n",
      "You should consider upgrading via the 'pip install --upgrade pip' command.\n",
      "\n",
      "You are using pip version 9.0.1, however version 23.0.1 is available.\n",
      "You should consider upgrading via the 'pip install --upgrade pip' command.\n",
      "\n",
      "You are using pip version 9.0.1, however version 23.0.1 is available.\n",
      "You should consider upgrading via the 'pip install --upgrade pip' command."
     ]
    }
   ],
   "source": [
    "# installing other required packages. \n",
    "spark.sparkContext.install_pypi_package(\"plotly==5.5.0\")\n",
    "spark.sparkContext.install_pypi_package(\"pandas==0.25.1\")\n",
    "spark.sparkContext.install_pypi_package(\"numpy==1.14.5\")\n",
    "spark.sparkContext.install_pypi_package(\"matplotlib==3.1.1\")"
   ]
  },
  {
   "cell_type": "code",
   "execution_count": 5,
   "id": "f22b322d",
   "metadata": {},
   "outputs": [
    {
     "data": {
      "application/vnd.jupyter.widget-view+json": {
       "model_id": "bd43af3c86ff495ea6a3a65986a41c9d",
       "version_major": 2,
       "version_minor": 0
      },
      "text/plain": [
       "VBox()"
      ]
     },
     "metadata": {},
     "output_type": "display_data"
    },
    {
     "data": {
      "application/vnd.jupyter.widget-view+json": {
       "model_id": "",
       "version_major": 2,
       "version_minor": 0
      },
      "text/plain": [
       "FloatProgress(value=0.0, bar_style='info', description='Progress:', layout=Layout(height='25px', width='50%'),…"
      ]
     },
     "metadata": {},
     "output_type": "display_data"
    }
   ],
   "source": [
    "from pyspark.sql import functions as F\n",
    "from pyspark.ml.feature import Bucketizer\n",
    "\n",
    "import matplotlib.pyplot as plt\n",
    "import pandas as pd\n",
    "import numpy as np\n",
    "\n",
    "from pyspark.sql.window import Window\n",
    "\n",
    "# Import for typecasting columns\n",
    "from pyspark.sql.types import IntegerType,BooleanType,DateType,FloatType,StringType\n",
    "from pyspark.sql.types import ArrayType"
   ]
  },
  {
   "cell_type": "markdown",
   "id": "81815fc6",
   "metadata": {},
   "source": [
    "## Reading the dataset"
   ]
  },
  {
   "cell_type": "markdown",
   "id": "1e8acb1d",
   "metadata": {},
   "source": [
    " ## <font color='blue'>Task 01: Read the data </font>"
   ]
  },
  {
   "cell_type": "code",
   "execution_count": 6,
   "id": "c24d6ce4",
   "metadata": {},
   "outputs": [
    {
     "data": {
      "application/vnd.jupyter.widget-view+json": {
       "model_id": "d28987af2f6f46d8977a10ea1dc2fd34",
       "version_major": 2,
       "version_minor": 0
      },
      "text/plain": [
       "VBox()"
      ]
     },
     "metadata": {},
     "output_type": "display_data"
    },
    {
     "data": {
      "application/vnd.jupyter.widget-view+json": {
       "model_id": "",
       "version_major": 2,
       "version_minor": 0
      },
      "text/plain": [
       "FloatProgress(value=0.0, bar_style='info', description='Progress:', layout=Layout(height='25px', width='50%'),…"
      ]
     },
     "metadata": {},
     "output_type": "display_data"
    }
   ],
   "source": [
    "# Reading raw_recipes dataset from s3 bucket\n",
    "raw_recipes_df = spark.read.csv(\"s3://deepaksinghpanwarassignmentonsparkbucket/RAW_recipes_cleaned.csv\", inferSchema=True, header=True)"
   ]
  },
  {
   "cell_type": "code",
   "execution_count": 7,
   "id": "359d8af5",
   "metadata": {},
   "outputs": [
    {
     "data": {
      "application/vnd.jupyter.widget-view+json": {
       "model_id": "9f46c1872ade4972b52167f3c7b20ed2",
       "version_major": 2,
       "version_minor": 0
      },
      "text/plain": [
       "VBox()"
      ]
     },
     "metadata": {},
     "output_type": "display_data"
    },
    {
     "data": {
      "application/vnd.jupyter.widget-view+json": {
       "model_id": "",
       "version_major": 2,
       "version_minor": 0
      },
      "text/plain": [
       "FloatProgress(value=0.0, bar_style='info', description='Progress:', layout=Layout(height='25px', width='50%'),…"
      ]
     },
     "metadata": {},
     "output_type": "display_data"
    },
    {
     "name": "stdout",
     "output_type": "stream",
     "text": [
      "+--------------------+------+-------+--------------+----------+--------------------+--------------------+-------+--------------------+--------------------+--------------------+-------------+\n",
      "|                name|    id|minutes|contributor_id| submitted|                tags|           nutrition|n_steps|               steps|         description|         ingredients|n_ingredients|\n",
      "+--------------------+------+-------+--------------+----------+--------------------+--------------------+-------+--------------------+--------------------+--------------------+-------------+\n",
      "|arriba   baked wi...|137739|     55|         47892|2005-09-16|['60-minutes-or-l...|[51.5, 0.0, 13.0,...|     11|['make a choice a...|autumn is my favo...|['winter squash',...|            7|\n",
      "|a bit different  ...| 31490|     30|         26278|2002-06-17|['30-minutes-or-l...|[173.4, 18.0, 0.0...|      9|['preheat oven to...|this recipe calls...|['prepared pizza ...|            6|\n",
      "|all in the kitche...|112140|    130|        196586|2005-02-25|['time-to-make', ...|[269.8, 22.0, 32....|      6|['brown ground be...|this modified ver...|['ground beef', '...|           13|\n",
      "|  alouette  potatoes| 59389|     45|         68585|2003-04-14|['60-minutes-or-l...|[368.1, 17.0, 10....|     11|['place potatoes ...|this is a super e...|['spreadable chee...|           11|\n",
      "|amish  tomato ket...| 44061|    190|         41706|2002-10-25|['weeknight', 'ti...|[352.9, 1.0, 337....|      5|['mix all ingredi...|my dh's amish mot...|['tomato juice', ...|            8|\n",
      "|apple a day  milk...|  5289|      0|          1533|1999-12-06|['15-minutes-or-l...|[160.2, 10.0, 55....|      4|['combine ingredi...|                    |['milk', 'vanilla...|            4|\n",
      "|aww  marinated ol...| 25274|     15|         21730|2002-04-14|['15-minutes-or-l...|[380.7, 53.0, 7.0...|      4|['toast the fenne...|my italian mil wa...|['fennel seeds', ...|            9|\n",
      "|backyard style  b...| 67888|    120|         10404|2003-07-30|['weeknight', 'ti...|[1109.5, 83.0, 37...|     10|['in a medium sau...|this recipe is po...|['pork spareribs'...|           22|\n",
      "|bananas 4 ice cre...| 70971|    180|        102353|2003-09-10|['weeknight', 'ti...|[4270.8, 254.0, 1...|      8|['crumble cookies...|                    |['chocolate sandw...|            6|\n",
      "|beat this  banana...| 75452|     70|         15892|2003-11-04|['weeknight', 'ti...|[2669.3, 160.0, 9...|     12|['preheat oven to...| from ann hodgman's |['sugar', 'unsalt...|            9|\n",
      "|berry  good sandw...|109439|      5|         49168|2005-01-25|['15-minutes-or-l...|[79.2, 3.0, 58.0,...|      2|['in medium size ...|horseradish is on...|['whole berry cra...|            3|\n",
      "|better than sex  ...| 42198|   1460|         41531|2002-10-03|['weeknight', 'ti...|[734.1, 66.0, 199...|      8|['crush vanilla w...|simple but sexy. ...|['vanilla wafers'...|            7|\n",
      "|better then bush ...| 67547|   2970|         85627|2003-07-26|['weeknight', 'ti...|[462.4, 28.0, 214...|      9|['in a very large...|i'd have to say t...|['great northern ...|           13|\n",
      "|boat house  colla...|107517|    525|        137696|2005-01-03|['time-to-make', ...|[315.8, 0.0, 202....|      7|['put prepared gr...|my boss gave me t...|['collard greens'...|            7|\n",
      "|calm your nerves ...| 39959|      5|         37449|2002-09-10|['15-minutes-or-l...|[8.2, 0.0, 0.0, 0...|      6|['combine herbs',...|this will prove a...|['gentian root', ...|            5|\n",
      "|chicken lickin  g...| 63986|    500|         14664|2003-06-06|['weeknight', 'ti...|[105.7, 8.0, 0.0,...|      5|['dredge pork cho...|here's and old st...|['lean pork chops...|            7|\n",
      "|      chile rellenos| 43026|     45|         52268|2002-10-14|['60-minutes-or-l...|[94.0, 10.0, 0.0,...|      9|['drain green chi...|a favorite from a...|['egg roll wrap',...|            5|\n",
      "|      chinese  candy| 23933|     15|         35268|2002-03-29|['15-minutes-or-l...|[232.7, 21.0, 77....|      4|['melt butterscot...|a little differen...|['butterscotch ch...|            3|\n",
      "|  chinese  chop suey|  8559|     70|          4481|2001-01-27|['weeknight', 'ti...|[395.4, 31.0, 20....|      8|['brown ground me...|easy one-pot dinn...|['celery', 'onion...|            7|\n",
      "|cream  of caulifl...| 23850|    110|          3288|2002-03-28|['lactose', 'week...|[174.2, 4.0, 24.0...|     10|['heat the oil or...|this is a dairy f...|['canola oil', 'o...|           16|\n",
      "+--------------------+------+-------+--------------+----------+--------------------+--------------------+-------+--------------------+--------------------+--------------------+-------------+\n",
      "only showing top 20 rows"
     ]
    }
   ],
   "source": [
    "raw_recipes_df.show()"
   ]
  },
  {
   "cell_type": "code",
   "execution_count": 8,
   "id": "7adf373d",
   "metadata": {},
   "outputs": [
    {
     "data": {
      "application/vnd.jupyter.widget-view+json": {
       "model_id": "29583482e69345acbc4f4c61b4e09d86",
       "version_major": 2,
       "version_minor": 0
      },
      "text/plain": [
       "VBox()"
      ]
     },
     "metadata": {},
     "output_type": "display_data"
    },
    {
     "data": {
      "application/vnd.jupyter.widget-view+json": {
       "model_id": "",
       "version_major": 2,
       "version_minor": 0
      },
      "text/plain": [
       "FloatProgress(value=0.0, bar_style='info', description='Progress:', layout=Layout(height='25px', width='50%'),…"
      ]
     },
     "metadata": {},
     "output_type": "display_data"
    },
    {
     "name": "stdout",
     "output_type": "stream",
     "text": [
      "231637"
     ]
    }
   ],
   "source": [
    "# Size of the dataset\n",
    "raw_recipes_df.count()"
   ]
  },
  {
   "cell_type": "code",
   "execution_count": 9,
   "id": "990427e4",
   "metadata": {},
   "outputs": [
    {
     "data": {
      "application/vnd.jupyter.widget-view+json": {
       "model_id": "b0112c21ed174d5e8e158be54a42e9cc",
       "version_major": 2,
       "version_minor": 0
      },
      "text/plain": [
       "VBox()"
      ]
     },
     "metadata": {},
     "output_type": "display_data"
    },
    {
     "data": {
      "application/vnd.jupyter.widget-view+json": {
       "model_id": "",
       "version_major": 2,
       "version_minor": 0
      },
      "text/plain": [
       "FloatProgress(value=0.0, bar_style='info', description='Progress:', layout=Layout(height='25px', width='50%'),…"
      ]
     },
     "metadata": {},
     "output_type": "display_data"
    },
    {
     "name": "stdout",
     "output_type": "stream",
     "text": [
      "12"
     ]
    }
   ],
   "source": [
    "# number of columns in dataset\n",
    "len(raw_recipes_df.columns)"
   ]
  },
  {
   "cell_type": "code",
   "execution_count": 10,
   "id": "cc71ac68",
   "metadata": {},
   "outputs": [
    {
     "data": {
      "application/vnd.jupyter.widget-view+json": {
       "model_id": "157975c40dbe427aaad0a838689a071b",
       "version_major": 2,
       "version_minor": 0
      },
      "text/plain": [
       "VBox()"
      ]
     },
     "metadata": {},
     "output_type": "display_data"
    },
    {
     "data": {
      "application/vnd.jupyter.widget-view+json": {
       "model_id": "",
       "version_major": 2,
       "version_minor": 0
      },
      "text/plain": [
       "FloatProgress(value=0.0, bar_style='info', description='Progress:', layout=Layout(height='25px', width='50%'),…"
      ]
     },
     "metadata": {},
     "output_type": "display_data"
    },
    {
     "name": "stdout",
     "output_type": "stream",
     "text": [
      "root\n",
      " |-- name: string (nullable = true)\n",
      " |-- id: integer (nullable = true)\n",
      " |-- minutes: integer (nullable = true)\n",
      " |-- contributor_id: integer (nullable = true)\n",
      " |-- submitted: string (nullable = true)\n",
      " |-- tags: string (nullable = true)\n",
      " |-- nutrition: string (nullable = true)\n",
      " |-- n_steps: integer (nullable = true)\n",
      " |-- steps: string (nullable = true)\n",
      " |-- description: string (nullable = true)\n",
      " |-- ingredients: string (nullable = true)\n",
      " |-- n_ingredients: integer (nullable = true)"
     ]
    }
   ],
   "source": [
    "raw_recipes_df.printSchema()"
   ]
  },
  {
   "cell_type": "code",
   "execution_count": 11,
   "id": "14bfdb7b",
   "metadata": {},
   "outputs": [
    {
     "data": {
      "application/vnd.jupyter.widget-view+json": {
       "model_id": "9ac7a4d0bcec461bbe4a08fcb2b58b0d",
       "version_major": 2,
       "version_minor": 0
      },
      "text/plain": [
       "VBox()"
      ]
     },
     "metadata": {},
     "output_type": "display_data"
    },
    {
     "data": {
      "application/vnd.jupyter.widget-view+json": {
       "model_id": "",
       "version_major": 2,
       "version_minor": 0
      },
      "text/plain": [
       "FloatProgress(value=0.0, bar_style='info', description='Progress:', layout=Layout(height='25px', width='50%'),…"
      ]
     },
     "metadata": {},
     "output_type": "display_data"
    },
    {
     "name": "stdout",
     "output_type": "stream",
     "text": [
      "+----+---+-------+--------------+---------+----+---------+-------+-----+-----------+-----------+-------------+\n",
      "|name| id|minutes|contributor_id|submitted|tags|nutrition|n_steps|steps|description|ingredients|n_ingredients|\n",
      "+----+---+-------+--------------+---------+----+---------+-------+-----+-----------+-----------+-------------+\n",
      "|   1|  0|      0|             0|        0|   0|        0|      0|    0|          0|          0|            0|\n",
      "+----+---+-------+--------------+---------+----+---------+-------+-----+-----------+-----------+-------------+"
     ]
    }
   ],
   "source": [
    "# checking null values in the dataset\n",
    "raw_recipes_df.select([F.count(F.when(F.isnan(c) | F.col(c).isNull(), c)).alias(c) for c in raw_recipes_df.columns]).show()"
   ]
  },
  {
   "cell_type": "code",
   "execution_count": 12,
   "id": "8bc51311",
   "metadata": {},
   "outputs": [
    {
     "data": {
      "application/vnd.jupyter.widget-view+json": {
       "model_id": "732228bafe0d4fbd994e3dd2c530a51f",
       "version_major": 2,
       "version_minor": 0
      },
      "text/plain": [
       "VBox()"
      ]
     },
     "metadata": {},
     "output_type": "display_data"
    },
    {
     "data": {
      "application/vnd.jupyter.widget-view+json": {
       "model_id": "",
       "version_major": 2,
       "version_minor": 0
      },
      "text/plain": [
       "FloatProgress(value=0.0, bar_style='info', description='Progress:', layout=Layout(height='25px', width='50%'),…"
      ]
     },
     "metadata": {},
     "output_type": "display_data"
    }
   ],
   "source": [
    "# List of nutrition columns\n",
    "\n",
    "nutrition_column_names = ['calories', 'total_fat_PDV', 'sugar_PDV', 'sodium_PDV', 'protein_PDV', 'saturated_fat_PDV',\n",
    "                          'carbohydrates_PDV']"
   ]
  },
  {
   "cell_type": "markdown",
   "id": "37ef8f09",
   "metadata": {},
   "source": [
    " ## <font color='blue'>Task 02: Removing single quotes and square brackets from nutrition values and assigning these values to different nutrition columns </font>"
   ]
  },
  {
   "cell_type": "code",
   "execution_count": 13,
   "id": "2fc0f53f",
   "metadata": {},
   "outputs": [
    {
     "data": {
      "application/vnd.jupyter.widget-view+json": {
       "model_id": "fc2b149de57042c99e224b0988ecb85e",
       "version_major": 2,
       "version_minor": 0
      },
      "text/plain": [
       "VBox()"
      ]
     },
     "metadata": {},
     "output_type": "display_data"
    },
    {
     "data": {
      "application/vnd.jupyter.widget-view+json": {
       "model_id": "",
       "version_major": 2,
       "version_minor": 0
      },
      "text/plain": [
       "FloatProgress(value=0.0, bar_style='info', description='Progress:', layout=Layout(height='25px', width='50%'),…"
      ]
     },
     "metadata": {},
     "output_type": "display_data"
    }
   ],
   "source": [
    "# Extracting individual values from nutrition column\n",
    "raw_recipes_df = (raw_recipes_df.withColumn('nutrition',(F.regexp_replace(\"nutrition\",\"[\\[\\]]\", \"\"))))"
   ]
  },
  {
   "cell_type": "code",
   "execution_count": 14,
   "id": "a2c110a2",
   "metadata": {},
   "outputs": [
    {
     "data": {
      "application/vnd.jupyter.widget-view+json": {
       "model_id": "f5ecbaf034184fdab860222fb4d8353a",
       "version_major": 2,
       "version_minor": 0
      },
      "text/plain": [
       "VBox()"
      ]
     },
     "metadata": {},
     "output_type": "display_data"
    },
    {
     "data": {
      "application/vnd.jupyter.widget-view+json": {
       "model_id": "",
       "version_major": 2,
       "version_minor": 0
      },
      "text/plain": [
       "FloatProgress(value=0.0, bar_style='info', description='Progress:', layout=Layout(height='25px', width='50%'),…"
      ]
     },
     "metadata": {},
     "output_type": "display_data"
    }
   ],
   "source": [
    "# now we need to split the values in nutrition columns and assign it to different nutritiocolumn_names\n",
    "nutrition_cols_split = F.split(raw_recipes_df['nutrition'], ',' )"
   ]
  },
  {
   "cell_type": "code",
   "execution_count": 15,
   "id": "f55ab36a",
   "metadata": {},
   "outputs": [
    {
     "data": {
      "application/vnd.jupyter.widget-view+json": {
       "model_id": "1a72ab933a414074a64793300e1efb76",
       "version_major": 2,
       "version_minor": 0
      },
      "text/plain": [
       "VBox()"
      ]
     },
     "metadata": {},
     "output_type": "display_data"
    },
    {
     "data": {
      "application/vnd.jupyter.widget-view+json": {
       "model_id": "",
       "version_major": 2,
       "version_minor": 0
      },
      "text/plain": [
       "FloatProgress(value=0.0, bar_style='info', description='Progress:', layout=Layout(height='25px', width='50%'),…"
      ]
     },
     "metadata": {},
     "output_type": "display_data"
    }
   ],
   "source": [
    "# assigning the values to nutrition columns and changing data type to float\n",
    "for col_index, col_name in enumerate(nutrition_column_names):\n",
    "    raw_recipes_df = (raw_recipes_df.withColumn(col_name, nutrition_cols_split.getItem(col_index).cast(\"float\")))"
   ]
  },
  {
   "cell_type": "code",
   "execution_count": 16,
   "id": "3e8100e4",
   "metadata": {},
   "outputs": [
    {
     "data": {
      "application/vnd.jupyter.widget-view+json": {
       "model_id": "74828188d4264a47aed8c4c75cb384ad",
       "version_major": 2,
       "version_minor": 0
      },
      "text/plain": [
       "VBox()"
      ]
     },
     "metadata": {},
     "output_type": "display_data"
    },
    {
     "data": {
      "application/vnd.jupyter.widget-view+json": {
       "model_id": "",
       "version_major": 2,
       "version_minor": 0
      },
      "text/plain": [
       "FloatProgress(value=0.0, bar_style='info', description='Progress:', layout=Layout(height='25px', width='50%'),…"
      ]
     },
     "metadata": {},
     "output_type": "display_data"
    },
    {
     "name": "stdout",
     "output_type": "stream",
     "text": [
      "+--------------------+------+-------+--------------+----------+--------------------+--------------------+-------+--------------------+--------------------+--------------------+-------------+--------+-------------+---------+----------+-----------+-----------------+-----------------+\n",
      "|                name|    id|minutes|contributor_id| submitted|                tags|           nutrition|n_steps|               steps|         description|         ingredients|n_ingredients|calories|total_fat_PDV|sugar_PDV|sodium_PDV|protein_PDV|saturated_fat_PDV|carbohydrates_PDV|\n",
      "+--------------------+------+-------+--------------+----------+--------------------+--------------------+-------+--------------------+--------------------+--------------------+-------------+--------+-------------+---------+----------+-----------+-----------------+-----------------+\n",
      "|arriba   baked wi...|137739|     55|         47892|2005-09-16|['60-minutes-or-l...|51.5, 0.0, 13.0, ...|     11|['make a choice a...|autumn is my favo...|['winter squash',...|            7|    51.5|          0.0|     13.0|       0.0|        2.0|              0.0|              4.0|\n",
      "|a bit different  ...| 31490|     30|         26278|2002-06-17|['30-minutes-or-l...|173.4, 18.0, 0.0,...|      9|['preheat oven to...|this recipe calls...|['prepared pizza ...|            6|   173.4|         18.0|      0.0|      17.0|       22.0|             35.0|              1.0|\n",
      "|all in the kitche...|112140|    130|        196586|2005-02-25|['time-to-make', ...|269.8, 22.0, 32.0...|      6|['brown ground be...|this modified ver...|['ground beef', '...|           13|   269.8|         22.0|     32.0|      48.0|       39.0|             27.0|              5.0|\n",
      "|  alouette  potatoes| 59389|     45|         68585|2003-04-14|['60-minutes-or-l...|368.1, 17.0, 10.0...|     11|['place potatoes ...|this is a super e...|['spreadable chee...|           11|   368.1|         17.0|     10.0|       2.0|       14.0|              8.0|             20.0|\n",
      "|amish  tomato ket...| 44061|    190|         41706|2002-10-25|['weeknight', 'ti...|352.9, 1.0, 337.0...|      5|['mix all ingredi...|my dh's amish mot...|['tomato juice', ...|            8|   352.9|          1.0|    337.0|      23.0|        3.0|              0.0|             28.0|\n",
      "|apple a day  milk...|  5289|      0|          1533|1999-12-06|['15-minutes-or-l...|160.2, 10.0, 55.0...|      4|['combine ingredi...|                    |['milk', 'vanilla...|            4|   160.2|         10.0|     55.0|       3.0|        9.0|             20.0|              7.0|\n",
      "|aww  marinated ol...| 25274|     15|         21730|2002-04-14|['15-minutes-or-l...|380.7, 53.0, 7.0,...|      4|['toast the fenne...|my italian mil wa...|['fennel seeds', ...|            9|   380.7|         53.0|      7.0|      24.0|        6.0|             24.0|              6.0|\n",
      "|backyard style  b...| 67888|    120|         10404|2003-07-30|['weeknight', 'ti...|1109.5, 83.0, 378...|     10|['in a medium sau...|this recipe is po...|['pork spareribs'...|           22|  1109.5|         83.0|    378.0|     275.0|       96.0|             86.0|             36.0|\n",
      "|bananas 4 ice cre...| 70971|    180|        102353|2003-09-10|['weeknight', 'ti...|4270.8, 254.0, 13...|      8|['crumble cookies...|                    |['chocolate sandw...|            6|  4270.8|        254.0|   1306.0|     111.0|      127.0|            431.0|            220.0|\n",
      "|beat this  banana...| 75452|     70|         15892|2003-11-04|['weeknight', 'ti...|2669.3, 160.0, 97...|     12|['preheat oven to...| from ann hodgman's |['sugar', 'unsalt...|            9|  2669.3|        160.0|    976.0|     107.0|       62.0|            310.0|            138.0|\n",
      "|berry  good sandw...|109439|      5|         49168|2005-01-25|['15-minutes-or-l...|79.2, 3.0, 58.0, ...|      2|['in medium size ...|horseradish is on...|['whole berry cra...|            3|    79.2|          3.0|     58.0|       0.0|        0.0|              6.0|              5.0|\n",
      "|better than sex  ...| 42198|   1460|         41531|2002-10-03|['weeknight', 'ti...|734.1, 66.0, 199....|      8|['crush vanilla w...|simple but sexy. ...|['vanilla wafers'...|            7|   734.1|         66.0|    199.0|      10.0|       10.0|            117.0|             28.0|\n",
      "|better then bush ...| 67547|   2970|         85627|2003-07-26|['weeknight', 'ti...|462.4, 28.0, 214....|      9|['in a very large...|i'd have to say t...|['great northern ...|           13|   462.4|         28.0|    214.0|      69.0|       14.0|             29.0|             23.0|\n",
      "|boat house  colla...|107517|    525|        137696|2005-01-03|['time-to-make', ...|315.8, 0.0, 202.0...|      7|['put prepared gr...|my boss gave me t...|['collard greens'...|            7|   315.8|          0.0|    202.0|       9.0|        6.0|              0.0|             21.0|\n",
      "|calm your nerves ...| 39959|      5|         37449|2002-09-10|['15-minutes-or-l...|8.2, 0.0, 0.0, 0....|      6|['combine herbs',...|this will prove a...|['gentian root', ...|            5|     8.2|          0.0|      0.0|       0.0|        1.0|              0.0|              0.0|\n",
      "|chicken lickin  g...| 63986|    500|         14664|2003-06-06|['weeknight', 'ti...|105.7, 8.0, 0.0, ...|      5|['dredge pork cho...|here's and old st...|['lean pork chops...|            7|   105.7|          8.0|      0.0|      26.0|        5.0|              4.0|              3.0|\n",
      "|      chile rellenos| 43026|     45|         52268|2002-10-14|['60-minutes-or-l...|94.0, 10.0, 0.0, ...|      9|['drain green chi...|a favorite from a...|['egg roll wrap',...|            5|    94.0|         10.0|      0.0|      11.0|       11.0|             21.0|              0.0|\n",
      "|      chinese  candy| 23933|     15|         35268|2002-03-29|['15-minutes-or-l...|232.7, 21.0, 77.0...|      4|['melt butterscot...|a little differen...|['butterscotch ch...|            3|   232.7|         21.0|     77.0|       4.0|        6.0|             38.0|              8.0|\n",
      "|  chinese  chop suey|  8559|     70|          4481|2001-01-27|['weeknight', 'ti...|395.4, 31.0, 20.0...|      8|['brown ground me...|easy one-pot dinn...|['celery', 'onion...|            7|   395.4|         31.0|     20.0|      29.0|       51.0|             33.0|              8.0|\n",
      "|cream  of caulifl...| 23850|    110|          3288|2002-03-28|['lactose', 'week...|174.2, 4.0, 24.0,...|     10|['heat the oil or...|this is a dairy f...|['canola oil', 'o...|           16|   174.2|          4.0|     24.0|       1.0|       15.0|              1.0|             10.0|\n",
      "+--------------------+------+-------+--------------+----------+--------------------+--------------------+-------+--------------------+--------------------+--------------------+-------------+--------+-------------+---------+----------+-----------+-----------------+-----------------+\n",
      "only showing top 20 rows"
     ]
    }
   ],
   "source": [
    "raw_recipes_df.show()"
   ]
  },
  {
   "cell_type": "code",
   "execution_count": 17,
   "id": "749d690c",
   "metadata": {},
   "outputs": [
    {
     "data": {
      "application/vnd.jupyter.widget-view+json": {
       "model_id": "56364fe29aa24871aa3e90a25e49f925",
       "version_major": 2,
       "version_minor": 0
      },
      "text/plain": [
       "VBox()"
      ]
     },
     "metadata": {},
     "output_type": "display_data"
    },
    {
     "data": {
      "application/vnd.jupyter.widget-view+json": {
       "model_id": "",
       "version_major": 2,
       "version_minor": 0
      },
      "text/plain": [
       "FloatProgress(value=0.0, bar_style='info', description='Progress:', layout=Layout(height='25px', width='50%'),…"
      ]
     },
     "metadata": {},
     "output_type": "display_data"
    }
   ],
   "source": [
    "# using assert commands checking the code \n",
    "assert raw_recipes_df.schema[\"protein_PDV\"].dataType == FloatType(), \"Recheck your typecasting\"\n",
    "assert raw_recipes_df.collect()[123432][14] == 62.0, \"The columns have not been split correctly.\"\n",
    "assert raw_recipes_df.collect()[10000][12] == 60.400001525878906, \"The columns have not been split correctly.\""
   ]
  },
  {
   "cell_type": "markdown",
   "id": "8f423db6",
   "metadata": {},
   "source": [
    " ## <font color='blue'>Task 03: Standardising the nutrition values </font>"
   ]
  },
  {
   "cell_type": "code",
   "execution_count": 18,
   "id": "be2b787b",
   "metadata": {},
   "outputs": [
    {
     "data": {
      "application/vnd.jupyter.widget-view+json": {
       "model_id": "05289a2eed8f4ff5a6df1ccba2355aaf",
       "version_major": 2,
       "version_minor": 0
      },
      "text/plain": [
       "VBox()"
      ]
     },
     "metadata": {},
     "output_type": "display_data"
    },
    {
     "data": {
      "application/vnd.jupyter.widget-view+json": {
       "model_id": "",
       "version_major": 2,
       "version_minor": 0
      },
      "text/plain": [
       "FloatProgress(value=0.0, bar_style='info', description='Progress:', layout=Layout(height='25px', width='50%'),…"
      ]
     },
     "metadata": {},
     "output_type": "display_data"
    }
   ],
   "source": [
    "# Standardising the nutrition values using calories as base of standardisation and filling null values\n",
    "\n",
    "col_name_list = []\n",
    "for nutrition_col in nutrition_column_names:# loop over each of the newly created nutrition columns    \n",
    "    if nutrition_col != 'calories': # the calories column should not be a part of the transformation exercise\n",
    "        # following code will name the new columns \n",
    "        nutrition_per_100_cal_col = (nutrition_col.replace('_PDV','')+'_per_100_cal')\n",
    "        col_name_list.append(nutrition_per_100_cal_col)\n",
    "        raw_recipes_df = raw_recipes_df.withColumn(nutrition_per_100_cal_col,F.col(nutrition_col)*100/ F.col('calories'))\n",
    "        raw_recipes_df = raw_recipes_df.na.fill(value=0,subset= col_name_list)  "
   ]
  },
  {
   "cell_type": "code",
   "execution_count": 19,
   "id": "21a545a0",
   "metadata": {},
   "outputs": [
    {
     "data": {
      "application/vnd.jupyter.widget-view+json": {
       "model_id": "14b0116c9108451398bc08c831fa7100",
       "version_major": 2,
       "version_minor": 0
      },
      "text/plain": [
       "VBox()"
      ]
     },
     "metadata": {},
     "output_type": "display_data"
    },
    {
     "data": {
      "application/vnd.jupyter.widget-view+json": {
       "model_id": "",
       "version_major": 2,
       "version_minor": 0
      },
      "text/plain": [
       "FloatProgress(value=0.0, bar_style='info', description='Progress:', layout=Layout(height='25px', width='50%'),…"
      ]
     },
     "metadata": {},
     "output_type": "display_data"
    },
    {
     "name": "stdout",
     "output_type": "stream",
     "text": [
      "+--------------------+------+-------+--------------+----------+--------------------+--------------------+-------+--------------------+--------------------+--------------------+-------------+--------+-------------+---------+----------+-----------+-----------------+-----------------+---------------------+------------------+------------------+-------------------+-------------------------+-------------------------+\n",
      "|                name|    id|minutes|contributor_id| submitted|                tags|           nutrition|n_steps|               steps|         description|         ingredients|n_ingredients|calories|total_fat_PDV|sugar_PDV|sodium_PDV|protein_PDV|saturated_fat_PDV|carbohydrates_PDV|total_fat_per_100_cal| sugar_per_100_cal|sodium_per_100_cal|protein_per_100_cal|saturated_fat_per_100_cal|carbohydrates_per_100_cal|\n",
      "+--------------------+------+-------+--------------+----------+--------------------+--------------------+-------+--------------------+--------------------+--------------------+-------------+--------+-------------+---------+----------+-----------+-----------------+-----------------+---------------------+------------------+------------------+-------------------+-------------------------+-------------------------+\n",
      "|arriba   baked wi...|137739|     55|         47892|2005-09-16|['60-minutes-or-l...|51.5, 0.0, 13.0, ...|     11|['make a choice a...|autumn is my favo...|['winter squash',...|            7|    51.5|          0.0|     13.0|       0.0|        2.0|              0.0|              4.0|                  0.0| 25.24271844660194|               0.0|  3.883495145631068|                      0.0|        7.766990291262136|\n",
      "|a bit different  ...| 31490|     30|         26278|2002-06-17|['30-minutes-or-l...|173.4, 18.0, 0.0,...|      9|['preheat oven to...|this recipe calls...|['prepared pizza ...|            6|   173.4|         18.0|      0.0|      17.0|       22.0|             35.0|              1.0|   10.380623202758338|               0.0|  9.80392191371621| 12.687428358926859|        20.18454511647455|       0.5767012890421299|\n",
      "|all in the kitche...|112140|    130|        196586|2005-02-25|['time-to-make', ...|269.8, 22.0, 32.0...|      6|['brown ground be...|this modified ver...|['ground beef', '...|           13|   269.8|         22.0|     32.0|      48.0|       39.0|             27.0|              5.0|    8.154188656554616|11.860638045897625| 17.79095706884644| 14.455152618437731|       10.007413351226122|       1.8532246946715039|\n",
      "|  alouette  potatoes| 59389|     45|         68585|2003-04-14|['60-minutes-or-l...|368.1, 17.0, 10.0...|     11|['place potatoes ...|this is a super e...|['spreadable chee...|           11|   368.1|         17.0|     10.0|       2.0|       14.0|              8.0|             20.0|    4.618310165205302|  2.71665303835606| 0.543330607671212| 3.8033142536984843|        2.173322430684848|         5.43330607671212|\n",
      "|amish  tomato ket...| 44061|    190|         41706|2002-10-25|['weeknight', 'ti...|352.9, 1.0, 337.0...|      5|['mix all ingredi...|my dh's amish mot...|['tomato juice', ...|            8|   352.9|          1.0|    337.0|      23.0|        3.0|              0.0|             28.0|   0.2833663976467306| 95.49447600694822| 6.517427145874804| 0.8500991929401919|                      0.0|        7.934259134108458|\n",
      "|apple a day  milk...|  5289|      0|          1533|1999-12-06|['15-minutes-or-l...|160.2, 10.0, 55.0...|      4|['combine ingredi...|                    |['milk', 'vanilla...|            4|   160.2|         10.0|     55.0|       3.0|        9.0|             20.0|              7.0|    6.242197372345035| 34.33208554789769|1.8726592117035106|  5.617977635110531|        12.48439474469007|       4.3695381606415244|\n",
      "|aww  marinated ol...| 25274|     15|         21730|2002-04-14|['15-minutes-or-l...|380.7, 53.0, 7.0,...|      4|['toast the fenne...|my italian mil wa...|['fennel seeds', ...|            9|   380.7|         53.0|      7.0|      24.0|        6.0|             24.0|              6.0|   13.921722695185437|1.8387180918169446| 6.304176314800952|  1.576044078700238|        6.304176314800952|        1.576044078700238|\n",
      "|backyard style  b...| 67888|    120|         10404|2003-07-30|['weeknight', 'ti...|1109.5, 83.0, 378...|     10|['in a medium sau...|this recipe is po...|['pork spareribs'...|           22|  1109.5|         83.0|    378.0|     275.0|       96.0|             86.0|             36.0|    7.480847228481298| 34.06940063091483|24.785939612438035|  8.652546191978368|        7.751239296980622|       3.2447048219918884|\n",
      "|bananas 4 ice cre...| 70971|    180|        102353|2003-09-10|['weeknight', 'ti...|4270.8, 254.0, 13...|      8|['crumble cookies...|                    |['chocolate sandw...|            6|  4270.8|        254.0|   1306.0|     111.0|      127.0|            431.0|            220.0|    5.947363763602717| 30.57975226482342| 2.599044794330321| 2.9736818818013586|       10.091786543751068|        5.151259952726763|\n",
      "|beat this  banana...| 75452|     70|         15892|2003-11-04|['weeknight', 'ti...|2669.3, 160.0, 97...|     12|['preheat oven to...| from ann hodgman's |['sugar', 'unsalt...|            9|  2669.3|        160.0|    976.0|     107.0|       62.0|            310.0|            138.0|    5.994080735518779| 36.56389248666455| 4.008541491878184| 2.3227062850135267|       11.613531425067634|        5.169894634384947|\n",
      "+--------------------+------+-------+--------------+----------+--------------------+--------------------+-------+--------------------+--------------------+--------------------+-------------+--------+-------------+---------+----------+-----------+-----------------+-----------------+---------------------+------------------+------------------+-------------------+-------------------------+-------------------------+\n",
      "only showing top 10 rows"
     ]
    }
   ],
   "source": [
    "raw_recipes_df.show(10)"
   ]
  },
  {
   "cell_type": "code",
   "execution_count": 20,
   "id": "8d085095",
   "metadata": {},
   "outputs": [
    {
     "data": {
      "application/vnd.jupyter.widget-view+json": {
       "model_id": "71380163eb614a7cb9d918531e26a9e5",
       "version_major": 2,
       "version_minor": 0
      },
      "text/plain": [
       "VBox()"
      ]
     },
     "metadata": {},
     "output_type": "display_data"
    },
    {
     "data": {
      "application/vnd.jupyter.widget-view+json": {
       "model_id": "",
       "version_major": 2,
       "version_minor": 0
      },
      "text/plain": [
       "FloatProgress(value=0.0, bar_style='info', description='Progress:', layout=Layout(height='25px', width='50%'),…"
      ]
     },
     "metadata": {},
     "output_type": "display_data"
    }
   ],
   "source": [
    "# Using same assert commands provided in the sample template\n",
    "\n",
    "# total fat check for id 28881\n",
    "assert raw_recipes_df.filter(\"id == 28881\").select('total_fat_per_100_cal').first()[0] == 0, \"total_fat_per_100_cal for recipe 28881 should be 0\"\n",
    "\n",
    "# total fat check for id 112140\n",
    "assert round(raw_recipes_df.filter(\"id == 112140\").select('total_fat_per_100_cal').first()[0]) == 8, \"total_fat_per_100_cal for recipe 112140 should be 8\"\n",
    "\n",
    "# checking for nulls\n",
    "for c in ['total_fat_per_100_cal','sugar_per_100_cal','sodium_per_100_cal','protein_per_100_cal',\n",
    "                          'saturated_fat_per_100_cal','carbohydrates_per_100_cal']:\n",
    "    assert raw_recipes_df.select(F.count(F.when(F.isnan(c) | F.col(c).isNull(), c)).alias(c)).collect()[0][0] == 0, \"There are Nulls in the data\""
   ]
  },
  {
   "cell_type": "markdown",
   "id": "b6cfb6f9",
   "metadata": {},
   "source": [
    " ## <font color='blue'>Task 04: Converting the tags column from string to array of strings </font>"
   ]
  },
  {
   "cell_type": "code",
   "execution_count": 21,
   "id": "077084b1",
   "metadata": {},
   "outputs": [
    {
     "data": {
      "application/vnd.jupyter.widget-view+json": {
       "model_id": "882637b6e64e499a85804da6a57a91c3",
       "version_major": 2,
       "version_minor": 0
      },
      "text/plain": [
       "VBox()"
      ]
     },
     "metadata": {},
     "output_type": "display_data"
    },
    {
     "data": {
      "application/vnd.jupyter.widget-view+json": {
       "model_id": "",
       "version_major": 2,
       "version_minor": 0
      },
      "text/plain": [
       "FloatProgress(value=0.0, bar_style='info', description='Progress:', layout=Layout(height='25px', width='50%'),…"
      ]
     },
     "metadata": {},
     "output_type": "display_data"
    }
   ],
   "source": [
    "# typecasting the tags feature from string to Array of strings and removing single quotes & square brackets\n",
    "# If necessary we can use same type casting for ingredients feature\n",
    "raw_recipes_df = (raw_recipes_df.withColumn('tags', (F.regexp_replace(\"tags\",\"[\\[\\]'']\", \"\")))\n",
    "                  .withColumn('tags', F.split(F.col(\"tags\"), \", \").cast(ArrayType(StringType())).alias(\"tags\")))"
   ]
  },
  {
   "cell_type": "code",
   "execution_count": 22,
   "id": "9b172e3c",
   "metadata": {},
   "outputs": [
    {
     "data": {
      "application/vnd.jupyter.widget-view+json": {
       "model_id": "68a9fd1b59014640923174ee1688e4e8",
       "version_major": 2,
       "version_minor": 0
      },
      "text/plain": [
       "VBox()"
      ]
     },
     "metadata": {},
     "output_type": "display_data"
    },
    {
     "data": {
      "application/vnd.jupyter.widget-view+json": {
       "model_id": "",
       "version_major": 2,
       "version_minor": 0
      },
      "text/plain": [
       "FloatProgress(value=0.0, bar_style='info', description='Progress:', layout=Layout(height='25px', width='50%'),…"
      ]
     },
     "metadata": {},
     "output_type": "display_data"
    }
   ],
   "source": [
    "# typecasting the ingredients feature from string to Array of strings and removing single quotes & square brackets\n",
    "raw_recipes_df = (raw_recipes_df.withColumn('ingredients', (F.regexp_replace(\"ingredients\",\"[\\[\\]'']\", \"\")))\n",
    "                  .withColumn('ingredients', F.split(F.col(\"ingredients\"), \", \").cast(ArrayType(StringType())).alias(\"ingredients\")))"
   ]
  },
  {
   "cell_type": "code",
   "execution_count": 23,
   "id": "59ca64b6",
   "metadata": {},
   "outputs": [
    {
     "data": {
      "application/vnd.jupyter.widget-view+json": {
       "model_id": "834be5d30e884cdf8fd48dbb6c5e1e3c",
       "version_major": 2,
       "version_minor": 0
      },
      "text/plain": [
       "VBox()"
      ]
     },
     "metadata": {},
     "output_type": "display_data"
    },
    {
     "data": {
      "application/vnd.jupyter.widget-view+json": {
       "model_id": "",
       "version_major": 2,
       "version_minor": 0
      },
      "text/plain": [
       "FloatProgress(value=0.0, bar_style='info', description='Progress:', layout=Layout(height='25px', width='50%'),…"
      ]
     },
     "metadata": {},
     "output_type": "display_data"
    },
    {
     "name": "stdout",
     "output_type": "stream",
     "text": [
      "Row(name='a bit different  breakfast pizza', id=31490, minutes=30, contributor_id=26278, submitted='2002-06-17', tags=['30-minutes-or-less', 'time-to-make', 'course', 'main-ingredient', 'cuisine', 'preparation', 'occasion', 'north-american', 'breakfast', 'main-dish', 'pork', 'american', 'oven', 'easy', 'kid-friendly', 'pizza', 'dietary', 'northeastern-united-states', 'meat', 'equipment'], nutrition='173.4, 18.0, 0.0, 17.0, 22.0, 35.0, 1.0', n_steps=9, steps=\"['preheat oven to 425 degrees f', 'press dough into the bottom and sides of a 12 inch pizza pan', 'bake for 5 minutes until set but not browned', 'cut sausage into small pieces', 'whisk eggs and milk in a bowl until frothy', 'spoon sausage over baked crust and sprinkle with cheese', 'pour egg mixture slowly over sausage and cheese', 's& p to taste', 'bake 15-20 minutes or until eggs are set and crust is brown']\", description='this recipe calls for the crust to be prebaked a bit before adding ingredients. feel free to change sausage to ham or bacon. this warms well in the microwave for those late risers.', ingredients=['prepared pizza crust', 'sausage patty', 'eggs', 'milk', 'salt and pepper', 'cheese'], n_ingredients=6, calories=173.39999389648438, total_fat_PDV=18.0, sugar_PDV=0.0, sodium_PDV=17.0, protein_PDV=22.0, saturated_fat_PDV=35.0, carbohydrates_PDV=1.0, total_fat_per_100_cal=10.380623202758338, sugar_per_100_cal=0.0, sodium_per_100_cal=9.80392191371621, protein_per_100_cal=12.687428358926859, saturated_fat_per_100_cal=20.18454511647455, carbohydrates_per_100_cal=0.5767012890421299)"
     ]
    }
   ],
   "source": [
    "raw_recipes_df.collect()[1]"
   ]
  },
  {
   "cell_type": "code",
   "execution_count": 24,
   "id": "1b47ce91",
   "metadata": {},
   "outputs": [
    {
     "data": {
      "application/vnd.jupyter.widget-view+json": {
       "model_id": "f761b4692b7e429d80b603c4dc7c97ec",
       "version_major": 2,
       "version_minor": 0
      },
      "text/plain": [
       "VBox()"
      ]
     },
     "metadata": {},
     "output_type": "display_data"
    },
    {
     "data": {
      "application/vnd.jupyter.widget-view+json": {
       "model_id": "",
       "version_major": 2,
       "version_minor": 0
      },
      "text/plain": [
       "FloatProgress(value=0.0, bar_style='info', description='Progress:', layout=Layout(height='25px', width='50%'),…"
      ]
     },
     "metadata": {},
     "output_type": "display_data"
    }
   ],
   "source": [
    "# using assert commands checking the code (assert commands are taken from sample template)  \n",
    "\n",
    "assert raw_recipes_df.schema[\"tags\"].dataType == ArrayType(StringType(), True), \"You have not split the string into an array.\"\n",
    "assert raw_recipes_df.collect()[2][5] == ['time-to-make','course', 'preparation', 'main-dish', 'chili', 'crock-pot-slow-cooker', 'dietary', 'equipment', '4-hours-or-less'], \"Recheck your string cleaning and splitting operations.\""
   ]
  },
  {
   "cell_type": "code",
   "execution_count": 25,
   "id": "d342cd75",
   "metadata": {},
   "outputs": [
    {
     "data": {
      "application/vnd.jupyter.widget-view+json": {
       "model_id": "287bb9cbcbed49f3a84df8276a6e0f7c",
       "version_major": 2,
       "version_minor": 0
      },
      "text/plain": [
       "VBox()"
      ]
     },
     "metadata": {},
     "output_type": "display_data"
    },
    {
     "data": {
      "application/vnd.jupyter.widget-view+json": {
       "model_id": "",
       "version_major": 2,
       "version_minor": 0
      },
      "text/plain": [
       "FloatProgress(value=0.0, bar_style='info', description='Progress:', layout=Layout(height='25px', width='50%'),…"
      ]
     },
     "metadata": {},
     "output_type": "display_data"
    },
    {
     "name": "stdout",
     "output_type": "stream",
     "text": [
      "25"
     ]
    }
   ],
   "source": [
    "# number of columns in finalised dataframe\n",
    "len(raw_recipes_df.columns)"
   ]
  },
  {
   "cell_type": "code",
   "execution_count": 26,
   "id": "9dbe0d2c",
   "metadata": {},
   "outputs": [
    {
     "data": {
      "application/vnd.jupyter.widget-view+json": {
       "model_id": "c091f0f62d0a46acb77444c9319f8801",
       "version_major": 2,
       "version_minor": 0
      },
      "text/plain": [
       "VBox()"
      ]
     },
     "metadata": {},
     "output_type": "display_data"
    },
    {
     "data": {
      "application/vnd.jupyter.widget-view+json": {
       "model_id": "",
       "version_major": 2,
       "version_minor": 0
      },
      "text/plain": [
       "FloatProgress(value=0.0, bar_style='info', description='Progress:', layout=Layout(height='25px', width='50%'),…"
      ]
     },
     "metadata": {},
     "output_type": "display_data"
    },
    {
     "name": "stdout",
     "output_type": "stream",
     "text": [
      "root\n",
      " |-- name: string (nullable = true)\n",
      " |-- id: integer (nullable = true)\n",
      " |-- minutes: integer (nullable = true)\n",
      " |-- contributor_id: integer (nullable = true)\n",
      " |-- submitted: string (nullable = true)\n",
      " |-- tags: array (nullable = true)\n",
      " |    |-- element: string (containsNull = true)\n",
      " |-- nutrition: string (nullable = true)\n",
      " |-- n_steps: integer (nullable = true)\n",
      " |-- steps: string (nullable = true)\n",
      " |-- description: string (nullable = true)\n",
      " |-- ingredients: array (nullable = true)\n",
      " |    |-- element: string (containsNull = true)\n",
      " |-- n_ingredients: integer (nullable = true)\n",
      " |-- calories: float (nullable = true)\n",
      " |-- total_fat_PDV: float (nullable = true)\n",
      " |-- sugar_PDV: float (nullable = true)\n",
      " |-- sodium_PDV: float (nullable = true)\n",
      " |-- protein_PDV: float (nullable = true)\n",
      " |-- saturated_fat_PDV: float (nullable = true)\n",
      " |-- carbohydrates_PDV: float (nullable = true)\n",
      " |-- total_fat_per_100_cal: double (nullable = false)\n",
      " |-- sugar_per_100_cal: double (nullable = false)\n",
      " |-- sodium_per_100_cal: double (nullable = false)\n",
      " |-- protein_per_100_cal: double (nullable = false)\n",
      " |-- saturated_fat_per_100_cal: double (nullable = false)\n",
      " |-- carbohydrates_per_100_cal: double (nullable = false)"
     ]
    }
   ],
   "source": [
    "raw_recipes_df.printSchema()"
   ]
  },
  {
   "cell_type": "markdown",
   "id": "51748892",
   "metadata": {},
   "source": [
    "## Reading second dataset as RAW_ratings_df"
   ]
  },
  {
   "cell_type": "markdown",
   "id": "d71a2c92",
   "metadata": {},
   "source": [
    " ## <font color='blue'>Task 05: Reading Rating dataset and joining it with recipes dataset </font>"
   ]
  },
  {
   "cell_type": "code",
   "execution_count": 27,
   "id": "df2f6a79",
   "metadata": {},
   "outputs": [
    {
     "data": {
      "application/vnd.jupyter.widget-view+json": {
       "model_id": "064c182d93044bee95d972f5285975bb",
       "version_major": 2,
       "version_minor": 0
      },
      "text/plain": [
       "VBox()"
      ]
     },
     "metadata": {},
     "output_type": "display_data"
    },
    {
     "data": {
      "application/vnd.jupyter.widget-view+json": {
       "model_id": "",
       "version_major": 2,
       "version_minor": 0
      },
      "text/plain": [
       "FloatProgress(value=0.0, bar_style='info', description='Progress:', layout=Layout(height='25px', width='50%'),…"
      ]
     },
     "metadata": {},
     "output_type": "display_data"
    }
   ],
   "source": [
    "# reading the second dataset\n",
    "raw_ratings_df = spark.read.csv(\"s3://deepaksinghpanwarassignmentonsparkbucket/RAW_interactions_cleaned.csv\", inferSchema=True, header=True)"
   ]
  },
  {
   "cell_type": "code",
   "execution_count": 28,
   "id": "d8c165ce",
   "metadata": {},
   "outputs": [
    {
     "data": {
      "application/vnd.jupyter.widget-view+json": {
       "model_id": "c4d8973d53514027992400681a30a782",
       "version_major": 2,
       "version_minor": 0
      },
      "text/plain": [
       "VBox()"
      ]
     },
     "metadata": {},
     "output_type": "display_data"
    },
    {
     "data": {
      "application/vnd.jupyter.widget-view+json": {
       "model_id": "",
       "version_major": 2,
       "version_minor": 0
      },
      "text/plain": [
       "FloatProgress(value=0.0, bar_style='info', description='Progress:', layout=Layout(height='25px', width='50%'),…"
      ]
     },
     "metadata": {},
     "output_type": "display_data"
    },
    {
     "name": "stdout",
     "output_type": "stream",
     "text": [
      "+----------+---------+----------+------+--------------------+\n",
      "|   user_id|recipe_id|      date|rating|              review|\n",
      "+----------+---------+----------+------+--------------------+\n",
      "|     38094|    40893|2003-02-17|     4|Great with a sala...|\n",
      "|   1293707|    40893|2011-12-21|     5|So simple  so del...|\n",
      "|      8937|    44394|2002-12-01|     4|This worked very ...|\n",
      "|    126440|    85009|2010-02-27|     5|I made the Mexica...|\n",
      "|     57222|    85009|2011-10-01|     5|Made the cheddar ...|\n",
      "|     52282|   120345|2005-05-21|     4|very very sweet. ...|\n",
      "|    124416|   120345|2011-08-06|     0|Just an observati...|\n",
      "|2000192946|   120345|2015-05-10|     2|This recipe was O...|\n",
      "|     76535|   134728|2005-09-02|     4|          Very good!|\n",
      "|    273745|   134728|2005-12-22|     5|Better than the r...|\n",
      "|    353911|   134728|2006-09-26|     5|Absolutely AWESOM...|\n",
      "|    190375|   134728|2007-03-09|     5|These taste absol...|\n",
      "|    468945|   134728|2008-02-20|     0|Made my own butte...|\n",
      "|    255338|   134728|2008-04-11|     5|First time using ...|\n",
      "|   1171894|   134728|2009-04-21|     5|MMMMM! This is so...|\n",
      "|    136726|   197160|2006-11-25|     5|I used this mix t...|\n",
      "|     68960|   200236|2006-12-19|     4|We really enjoyed...|\n",
      "|    618928|   200236|2007-10-17|     4|this is an excell...|\n",
      "|    217118|   200236|2008-04-18|     5|This was a lovely...|\n",
      "|2000049093|   200236|2015-03-08|     5|I love lamb stew ...|\n",
      "+----------+---------+----------+------+--------------------+\n",
      "only showing top 20 rows"
     ]
    }
   ],
   "source": [
    "# Checking Ratings dataframe\n",
    "raw_ratings_df.show()"
   ]
  },
  {
   "cell_type": "code",
   "execution_count": 29,
   "id": "37f7837c",
   "metadata": {},
   "outputs": [
    {
     "data": {
      "application/vnd.jupyter.widget-view+json": {
       "model_id": "7b6e3aff72d24e56ab3f49cfc6f1aa9a",
       "version_major": 2,
       "version_minor": 0
      },
      "text/plain": [
       "VBox()"
      ]
     },
     "metadata": {},
     "output_type": "display_data"
    },
    {
     "data": {
      "application/vnd.jupyter.widget-view+json": {
       "model_id": "",
       "version_major": 2,
       "version_minor": 0
      },
      "text/plain": [
       "FloatProgress(value=0.0, bar_style='info', description='Progress:', layout=Layout(height='25px', width='50%'),…"
      ]
     },
     "metadata": {},
     "output_type": "display_data"
    }
   ],
   "source": [
    "# creating newcolumn with \"review_date\" name which is same as \"date\" and drop \"date\" column\n",
    "raw_ratings_df = raw_ratings_df.withColumn('review_date',F.col('date')).drop(F.col('date'))"
   ]
  },
  {
   "cell_type": "code",
   "execution_count": 30,
   "id": "6a8bafb4",
   "metadata": {},
   "outputs": [
    {
     "data": {
      "application/vnd.jupyter.widget-view+json": {
       "model_id": "9a7c877ec25a4adaa443ebf9c67a6add",
       "version_major": 2,
       "version_minor": 0
      },
      "text/plain": [
       "VBox()"
      ]
     },
     "metadata": {},
     "output_type": "display_data"
    },
    {
     "data": {
      "application/vnd.jupyter.widget-view+json": {
       "model_id": "",
       "version_major": 2,
       "version_minor": 0
      },
      "text/plain": [
       "FloatProgress(value=0.0, bar_style='info', description='Progress:', layout=Layout(height='25px', width='50%'),…"
      ]
     },
     "metadata": {},
     "output_type": "display_data"
    },
    {
     "name": "stdout",
     "output_type": "stream",
     "text": [
      "+----------+---------+------+--------------------+-----------+\n",
      "|   user_id|recipe_id|rating|              review|review_date|\n",
      "+----------+---------+------+--------------------+-----------+\n",
      "|     38094|    40893|     4|Great with a sala...| 2003-02-17|\n",
      "|   1293707|    40893|     5|So simple  so del...| 2011-12-21|\n",
      "|      8937|    44394|     4|This worked very ...| 2002-12-01|\n",
      "|    126440|    85009|     5|I made the Mexica...| 2010-02-27|\n",
      "|     57222|    85009|     5|Made the cheddar ...| 2011-10-01|\n",
      "|     52282|   120345|     4|very very sweet. ...| 2005-05-21|\n",
      "|    124416|   120345|     0|Just an observati...| 2011-08-06|\n",
      "|2000192946|   120345|     2|This recipe was O...| 2015-05-10|\n",
      "|     76535|   134728|     4|          Very good!| 2005-09-02|\n",
      "|    273745|   134728|     5|Better than the r...| 2005-12-22|\n",
      "|    353911|   134728|     5|Absolutely AWESOM...| 2006-09-26|\n",
      "|    190375|   134728|     5|These taste absol...| 2007-03-09|\n",
      "|    468945|   134728|     0|Made my own butte...| 2008-02-20|\n",
      "|    255338|   134728|     5|First time using ...| 2008-04-11|\n",
      "|   1171894|   134728|     5|MMMMM! This is so...| 2009-04-21|\n",
      "|    136726|   197160|     5|I used this mix t...| 2006-11-25|\n",
      "|     68960|   200236|     4|We really enjoyed...| 2006-12-19|\n",
      "|    618928|   200236|     4|this is an excell...| 2007-10-17|\n",
      "|    217118|   200236|     5|This was a lovely...| 2008-04-18|\n",
      "|2000049093|   200236|     5|I love lamb stew ...| 2015-03-08|\n",
      "+----------+---------+------+--------------------+-----------+\n",
      "only showing top 20 rows"
     ]
    }
   ],
   "source": [
    "raw_ratings_df.show()"
   ]
  },
  {
   "cell_type": "code",
   "execution_count": 31,
   "id": "235c9ff9",
   "metadata": {},
   "outputs": [
    {
     "data": {
      "application/vnd.jupyter.widget-view+json": {
       "model_id": "5198a79edcfd48e59d09e21e86f5a3d3",
       "version_major": 2,
       "version_minor": 0
      },
      "text/plain": [
       "VBox()"
      ]
     },
     "metadata": {},
     "output_type": "display_data"
    },
    {
     "data": {
      "application/vnd.jupyter.widget-view+json": {
       "model_id": "",
       "version_major": 2,
       "version_minor": 0
      },
      "text/plain": [
       "FloatProgress(value=0.0, bar_style='info', description='Progress:', layout=Layout(height='25px', width='50%'),…"
      ]
     },
     "metadata": {},
     "output_type": "display_data"
    },
    {
     "name": "stdout",
     "output_type": "stream",
     "text": [
      "root\n",
      " |-- user_id: integer (nullable = true)\n",
      " |-- recipe_id: integer (nullable = true)\n",
      " |-- rating: integer (nullable = true)\n",
      " |-- review: string (nullable = true)\n",
      " |-- review_date: string (nullable = true)"
     ]
    }
   ],
   "source": [
    "raw_ratings_df.printSchema()"
   ]
  },
  {
   "cell_type": "code",
   "execution_count": 32,
   "id": "b37469b3",
   "metadata": {},
   "outputs": [
    {
     "data": {
      "application/vnd.jupyter.widget-view+json": {
       "model_id": "05ebb46dc51b4d0c96903f1378b640dd",
       "version_major": 2,
       "version_minor": 0
      },
      "text/plain": [
       "VBox()"
      ]
     },
     "metadata": {},
     "output_type": "display_data"
    },
    {
     "data": {
      "application/vnd.jupyter.widget-view+json": {
       "model_id": "",
       "version_major": 2,
       "version_minor": 0
      },
      "text/plain": [
       "FloatProgress(value=0.0, bar_style='info', description='Progress:', layout=Layout(height='25px', width='50%'),…"
      ]
     },
     "metadata": {},
     "output_type": "display_data"
    },
    {
     "name": "stdout",
     "output_type": "stream",
     "text": [
      "size of the Ratings dataset: 1132367\n",
      "Number of columns in Ratings dataset: 5"
     ]
    }
   ],
   "source": [
    "# Shape of the Ratings dataset\n",
    "print(\"size of the Ratings dataset:\",raw_ratings_df.count())\n",
    "print(\"Number of columns in Ratings dataset:\",len(raw_ratings_df.columns))"
   ]
  },
  {
   "cell_type": "code",
   "execution_count": 33,
   "id": "d0254f89",
   "metadata": {},
   "outputs": [
    {
     "data": {
      "application/vnd.jupyter.widget-view+json": {
       "model_id": "62ffdfd93e5b43ec9040ac98ba0cb2c2",
       "version_major": 2,
       "version_minor": 0
      },
      "text/plain": [
       "VBox()"
      ]
     },
     "metadata": {},
     "output_type": "display_data"
    },
    {
     "data": {
      "application/vnd.jupyter.widget-view+json": {
       "model_id": "",
       "version_major": 2,
       "version_minor": 0
      },
      "text/plain": [
       "FloatProgress(value=0.0, bar_style='info', description='Progress:', layout=Layout(height='25px', width='50%'),…"
      ]
     },
     "metadata": {},
     "output_type": "display_data"
    }
   ],
   "source": [
    "## Joining the RAW_ratings_df and RAW_recipes_df\n",
    "interaction_level_df = raw_ratings_df.join(raw_recipes_df, raw_ratings_df.recipe_id==raw_recipes_df.id,'outer')"
   ]
  },
  {
   "cell_type": "code",
   "execution_count": 34,
   "id": "1f5b91f8",
   "metadata": {},
   "outputs": [
    {
     "data": {
      "application/vnd.jupyter.widget-view+json": {
       "model_id": "8625b2531cc344629d13db7a0f6621de",
       "version_major": 2,
       "version_minor": 0
      },
      "text/plain": [
       "VBox()"
      ]
     },
     "metadata": {},
     "output_type": "display_data"
    },
    {
     "data": {
      "application/vnd.jupyter.widget-view+json": {
       "model_id": "",
       "version_major": 2,
       "version_minor": 0
      },
      "text/plain": [
       "FloatProgress(value=0.0, bar_style='info', description='Progress:', layout=Layout(height='25px', width='50%'),…"
      ]
     },
     "metadata": {},
     "output_type": "display_data"
    },
    {
     "name": "stdout",
     "output_type": "stream",
     "text": [
      "Size of final dataset: 1132367\n",
      "Number of columns in final dataset: 30"
     ]
    }
   ],
   "source": [
    "# Shape of the overall dataframe\n",
    "print(\"Size of final dataset:\",interaction_level_df.count())\n",
    "print(\"Number of columns in final dataset:\",len(interaction_level_df.columns))"
   ]
  },
  {
   "cell_type": "code",
   "execution_count": 35,
   "id": "152e591a",
   "metadata": {},
   "outputs": [
    {
     "data": {
      "application/vnd.jupyter.widget-view+json": {
       "model_id": "cea5d603282d4782a3106e0e18c9efa5",
       "version_major": 2,
       "version_minor": 0
      },
      "text/plain": [
       "VBox()"
      ]
     },
     "metadata": {},
     "output_type": "display_data"
    },
    {
     "data": {
      "application/vnd.jupyter.widget-view+json": {
       "model_id": "",
       "version_major": 2,
       "version_minor": 0
      },
      "text/plain": [
       "FloatProgress(value=0.0, bar_style='info', description='Progress:', layout=Layout(height='25px', width='50%'),…"
      ]
     },
     "metadata": {},
     "output_type": "display_data"
    },
    {
     "name": "stdout",
     "output_type": "stream",
     "text": [
      "+-------+---------+------+--------------------+-----------+--------------------+---+-------+--------------+----------+--------------------+--------------------+-------+--------------------+--------------------+--------------------+-------------+--------+-------------+---------+----------+-----------+-----------------+-----------------+---------------------+-------------------+------------------+-------------------+-------------------------+-------------------------+\n",
      "|user_id|recipe_id|rating|              review|review_date|                name| id|minutes|contributor_id| submitted|                tags|           nutrition|n_steps|               steps|         description|         ingredients|n_ingredients|calories|total_fat_PDV|sugar_PDV|sodium_PDV|protein_PDV|saturated_fat_PDV|carbohydrates_PDV|total_fat_per_100_cal|  sugar_per_100_cal|sodium_per_100_cal|protein_per_100_cal|saturated_fat_per_100_cal|carbohydrates_per_100_cal|\n",
      "+-------+---------+------+--------------------+-----------+--------------------+---+-------+--------------+----------+--------------------+--------------------+-------+--------------------+--------------------+--------------------+-------------+--------+-------------+---------+----------+-----------+-----------------+-----------------+---------------------+-------------------+------------------+-------------------+-------------------------+-------------------------+\n",
      "| 269153|       81|     5|This is FANTASTIC...| 2006-03-09|all purpose quick...| 81|     40|        125579|1999-09-10|[60-minutes-or-le...|529.3, 37.0, 1.0,...|     36|['blend flours , ...|--adopted recipe-...|[whole wheat flou...|            5|   529.3|         37.0|      1.0|      36.0|       22.0|             73.0|             23.0|   6.9903647937494835|0.18892877820944548|6.8014360155400375|  4.156433120607801|       13.791800809289521|        4.345361898817246|\n",
      "| 985729|       81|     5|I have made sever...| 2010-05-23|all purpose quick...| 81|     40|        125579|1999-09-10|[60-minutes-or-le...|529.3, 37.0, 1.0,...|     36|['blend flours , ...|--adopted recipe-...|[whole wheat flou...|            5|   529.3|         37.0|      1.0|      36.0|       22.0|             73.0|             23.0|   6.9903647937494835|0.18892877820944548|6.8014360155400375|  4.156433120607801|       13.791800809289521|        4.345361898817246|\n",
      "| 985823|      122|     5|Awesome is what c...| 2010-05-25|commissary carrot...|122|    240|          1589|1999-09-09|[weeknight, time-...|1011.8, 103.0, 32...|     34|['in a heavy sauc...|best in the world...|[sugar, flour, sa...|           18|  1011.8|        103.0|    320.0|      16.0|       14.0|            141.0|             33.0|   10.179877568952445| 31.626804097716334|1.5813402048858167| 1.3836726792750895|        13.93556055555626|       3.2615141725769967|\n",
      "|1294602|      122|     5|I use this recipe...| 2010-07-12|commissary carrot...|122|    240|          1589|1999-09-09|[weeknight, time-...|1011.8, 103.0, 32...|     34|['in a heavy sauc...|best in the world...|[sugar, flour, sa...|           18|  1011.8|        103.0|    320.0|      16.0|       14.0|            141.0|             33.0|   10.179877568952445| 31.626804097716334|1.5813402048858167| 1.3836726792750895|        13.93556055555626|       3.2615141725769967|\n",
      "| 851190|      126|     5|Dinner was extra ...| 2010-05-25|carnation lean fe...|126|     40|          1556|1999-08-14|[60-minutes-or-le...|535.7, 24.0, 9.0,...|      9|['in a large pot ...|                    |[fettuccine, oliv...|           13|   535.7|         24.0|      9.0|      24.0|       57.0|             37.0|             23.0|    4.480119367763754| 1.6800447629114077| 4.480119367763754| 10.640283498438915|        6.906850691969121|        4.293447727440264|\n",
      "| 152729|      133|     4|this was wonderfu...| 2004-07-17|blueberry pancake...|133|     86|          1571|1999-08-06|[weeknight, time-...|1329.7, 1.0, 1315...|     17|['pour the bluebe...|i've made this bl...|[blueberries, wat...|            5|  1329.7|          1.0|   1315.0|       0.0|        4.0|              0.0|            114.0|  0.07520493620524632|  98.89449110989891|               0.0| 0.3008197448209853|                      0.0|         8.57336272739808|\n",
      "| 983863|      133|     5|I halved the reci...| 2010-05-27|blueberry pancake...|133|     86|          1571|1999-08-06|[weeknight, time-...|1329.7, 1.0, 1315...|     17|['pour the bluebe...|i've made this bl...|[blueberries, wat...|            5|  1329.7|          1.0|   1315.0|       0.0|        4.0|              0.0|            114.0|  0.07520493620524632|  98.89449110989891|               0.0| 0.3008197448209853|                      0.0|         8.57336272739808|\n",
      "|  91690|      133|     5|Thanks for a wond...| 2010-12-11|blueberry pancake...|133|     86|          1571|1999-08-06|[weeknight, time-...|1329.7, 1.0, 1315...|     17|['pour the bluebe...|i've made this bl...|[blueberries, wat...|            5|  1329.7|          1.0|   1315.0|       0.0|        4.0|              0.0|            114.0|  0.07520493620524632|  98.89449110989891|               0.0| 0.3008197448209853|                      0.0|         8.57336272739808|\n",
      "| 593431|      133|     5|My DS and DD love...| 2011-02-25|blueberry pancake...|133|     86|          1571|1999-08-06|[weeknight, time-...|1329.7, 1.0, 1315...|     17|['pour the bluebe...|i've made this bl...|[blueberries, wat...|            5|  1329.7|          1.0|   1315.0|       0.0|        4.0|              0.0|            114.0|  0.07520493620524632|  98.89449110989891|               0.0| 0.3008197448209853|                      0.0|         8.57336272739808|\n",
      "|   2156|      148|     0|Would someone ple...| 2000-06-02|           bugwiches|148|     40|          1579|1999-08-11|[60-minutes-or-le...|84.0, 3.0, 2.0, 6...|      8|['how to assemble...|a little bit of f...|[dinner roll, car...|           11|    84.0|          3.0|      2.0|       6.0|        4.0|              2.0|              4.0|   3.5714285714285716|  2.380952380952381| 7.142857142857143|  4.761904761904762|        2.380952380952381|        4.761904761904762|\n",
      "|  27381|      192|     5|Ah  my friends  t...| 2002-10-23|classic cream scones|192|     85|          1609|1999-08-13|[weeknight, time-...|168.2, 12.0, 28.0...|     20|['preheat oven to...|you're best off d...|[all-purpose flou...|            9|   168.2|         12.0|     28.0|       3.0|        5.0|             24.0|              7.0|    7.134363981999709| 16.646849291332654|1.7835909954999272| 2.9726516591665453|       14.268727963999417|        4.161712322833163|\n",
      "| 126469|      192|     5|Easy and Deliciou...| 2004-02-23|classic cream scones|192|     85|          1609|1999-08-13|[weeknight, time-...|168.2, 12.0, 28.0...|     20|['preheat oven to...|you're best off d...|[all-purpose flou...|            9|   168.2|         12.0|     28.0|       3.0|        5.0|             24.0|              7.0|    7.134363981999709| 16.646849291332654|1.7835909954999272| 2.9726516591665453|       14.268727963999417|        4.161712322833163|\n",
      "| 140028|      192|     5|Wow! This is the ...| 2004-06-07|classic cream scones|192|     85|          1609|1999-08-13|[weeknight, time-...|168.2, 12.0, 28.0...|     20|['preheat oven to...|you're best off d...|[all-purpose flou...|            9|   168.2|         12.0|     28.0|       3.0|        5.0|             24.0|              7.0|    7.134363981999709| 16.646849291332654|1.7835909954999272| 2.9726516591665453|       14.268727963999417|        4.161712322833163|\n",
      "| 145599|      192|     5|These are really ...| 2005-01-16|classic cream scones|192|     85|          1609|1999-08-13|[weeknight, time-...|168.2, 12.0, 28.0...|     20|['preheat oven to...|you're best off d...|[all-purpose flou...|            9|   168.2|         12.0|     28.0|       3.0|        5.0|             24.0|              7.0|    7.134363981999709| 16.646849291332654|1.7835909954999272| 2.9726516591665453|       14.268727963999417|        4.161712322833163|\n",
      "| 151679|      192|     5|We all loved this...| 2005-02-20|classic cream scones|192|     85|          1609|1999-08-13|[weeknight, time-...|168.2, 12.0, 28.0...|     20|['preheat oven to...|you're best off d...|[all-purpose flou...|            9|   168.2|         12.0|     28.0|       3.0|        5.0|             24.0|              7.0|    7.134363981999709| 16.646849291332654|1.7835909954999272| 2.9726516591665453|       14.268727963999417|        4.161712322833163|\n",
      "|  67656|      192|     5|Wow these were go...| 2005-05-03|classic cream scones|192|     85|          1609|1999-08-13|[weeknight, time-...|168.2, 12.0, 28.0...|     20|['preheat oven to...|you're best off d...|[all-purpose flou...|            9|   168.2|         12.0|     28.0|       3.0|        5.0|             24.0|              7.0|    7.134363981999709| 16.646849291332654|1.7835909954999272| 2.9726516591665453|       14.268727963999417|        4.161712322833163|\n",
      "| 268313|      192|     0|Great scones! The...| 2006-03-15|classic cream scones|192|     85|          1609|1999-08-13|[weeknight, time-...|168.2, 12.0, 28.0...|     20|['preheat oven to...|you're best off d...|[all-purpose flou...|            9|   168.2|         12.0|     28.0|       3.0|        5.0|             24.0|              7.0|    7.134363981999709| 16.646849291332654|1.7835909954999272| 2.9726516591665453|       14.268727963999417|        4.161712322833163|\n",
      "| 143387|      192|     5|Very light and ta...| 2006-03-18|classic cream scones|192|     85|          1609|1999-08-13|[weeknight, time-...|168.2, 12.0, 28.0...|     20|['preheat oven to...|you're best off d...|[all-purpose flou...|            9|   168.2|         12.0|     28.0|       3.0|        5.0|             24.0|              7.0|    7.134363981999709| 16.646849291332654|1.7835909954999272| 2.9726516591665453|       14.268727963999417|        4.161712322833163|\n",
      "| 165263|      192|     5|These came out pe...| 2007-01-27|classic cream scones|192|     85|          1609|1999-08-13|[weeknight, time-...|168.2, 12.0, 28.0...|     20|['preheat oven to...|you're best off d...|[all-purpose flou...|            9|   168.2|         12.0|     28.0|       3.0|        5.0|             24.0|              7.0|    7.134363981999709| 16.646849291332654|1.7835909954999272| 2.9726516591665453|       14.268727963999417|        4.161712322833163|\n",
      "| 527350|      192|     5|Absolutely delici...| 2014-11-13|classic cream scones|192|     85|          1609|1999-08-13|[weeknight, time-...|168.2, 12.0, 28.0...|     20|['preheat oven to...|you're best off d...|[all-purpose flou...|            9|   168.2|         12.0|     28.0|       3.0|        5.0|             24.0|              7.0|    7.134363981999709| 16.646849291332654|1.7835909954999272| 2.9726516591665453|       14.268727963999417|        4.161712322833163|\n",
      "+-------+---------+------+--------------------+-----------+--------------------+---+-------+--------------+----------+--------------------+--------------------+-------+--------------------+--------------------+--------------------+-------------+--------+-------------+---------+----------+-----------+-----------------+-----------------+---------------------+-------------------+------------------+-------------------+-------------------------+-------------------------+\n",
      "only showing top 20 rows"
     ]
    }
   ],
   "source": [
    "interaction_level_df.show()"
   ]
  },
  {
   "cell_type": "code",
   "execution_count": 36,
   "id": "14975c98",
   "metadata": {},
   "outputs": [
    {
     "data": {
      "application/vnd.jupyter.widget-view+json": {
       "model_id": "58d3cad36d6342998a4babc3cb2871a7",
       "version_major": 2,
       "version_minor": 0
      },
      "text/plain": [
       "VBox()"
      ]
     },
     "metadata": {},
     "output_type": "display_data"
    },
    {
     "data": {
      "application/vnd.jupyter.widget-view+json": {
       "model_id": "",
       "version_major": 2,
       "version_minor": 0
      },
      "text/plain": [
       "FloatProgress(value=0.0, bar_style='info', description='Progress:', layout=Layout(height='25px', width='50%'),…"
      ]
     },
     "metadata": {},
     "output_type": "display_data"
    },
    {
     "name": "stdout",
     "output_type": "stream",
     "text": [
      "root\n",
      " |-- user_id: integer (nullable = true)\n",
      " |-- recipe_id: integer (nullable = true)\n",
      " |-- rating: integer (nullable = true)\n",
      " |-- review: string (nullable = true)\n",
      " |-- review_date: string (nullable = true)\n",
      " |-- name: string (nullable = true)\n",
      " |-- id: integer (nullable = true)\n",
      " |-- minutes: integer (nullable = true)\n",
      " |-- contributor_id: integer (nullable = true)\n",
      " |-- submitted: string (nullable = true)\n",
      " |-- tags: array (nullable = true)\n",
      " |    |-- element: string (containsNull = true)\n",
      " |-- nutrition: string (nullable = true)\n",
      " |-- n_steps: integer (nullable = true)\n",
      " |-- steps: string (nullable = true)\n",
      " |-- description: string (nullable = true)\n",
      " |-- ingredients: array (nullable = true)\n",
      " |    |-- element: string (containsNull = true)\n",
      " |-- n_ingredients: integer (nullable = true)\n",
      " |-- calories: float (nullable = true)\n",
      " |-- total_fat_PDV: float (nullable = true)\n",
      " |-- sugar_PDV: float (nullable = true)\n",
      " |-- sodium_PDV: float (nullable = true)\n",
      " |-- protein_PDV: float (nullable = true)\n",
      " |-- saturated_fat_PDV: float (nullable = true)\n",
      " |-- carbohydrates_PDV: float (nullable = true)\n",
      " |-- total_fat_per_100_cal: double (nullable = true)\n",
      " |-- sugar_per_100_cal: double (nullable = true)\n",
      " |-- sodium_per_100_cal: double (nullable = true)\n",
      " |-- protein_per_100_cal: double (nullable = true)\n",
      " |-- saturated_fat_per_100_cal: double (nullable = true)\n",
      " |-- carbohydrates_per_100_cal: double (nullable = true)"
     ]
    }
   ],
   "source": [
    "interaction_level_df.printSchema()"
   ]
  },
  {
   "cell_type": "code",
   "execution_count": 37,
   "id": "33155cfc",
   "metadata": {},
   "outputs": [
    {
     "data": {
      "application/vnd.jupyter.widget-view+json": {
       "model_id": "a992deb18617478e80f3581b66d7d745",
       "version_major": 2,
       "version_minor": 0
      },
      "text/plain": [
       "VBox()"
      ]
     },
     "metadata": {},
     "output_type": "display_data"
    },
    {
     "data": {
      "application/vnd.jupyter.widget-view+json": {
       "model_id": "",
       "version_major": 2,
       "version_minor": 0
      },
      "text/plain": [
       "FloatProgress(value=0.0, bar_style='info', description='Progress:', layout=Layout(height='25px', width='50%'),…"
      ]
     },
     "metadata": {},
     "output_type": "display_data"
    }
   ],
   "source": [
    "# using same assert commands given in template\n",
    "\n",
    "assert (interaction_level_df.count() ,len(interaction_level_df.columns)) == (1132367, 30), \"The type of join is incorrect\"\n",
    "\n",
    "list1 = raw_ratings_df.select('recipe_id').collect()\n",
    "list2 = raw_recipes_df.select('id').collect()\n",
    "exclusive_set = set(list1)-set(list2)\n",
    "\n",
    "assert len(exclusive_set) == 0, \"There is a mistake in reading one of the two data files.\""
   ]
  },
  {
   "cell_type": "markdown",
   "id": "ca4df259",
   "metadata": {},
   "source": [
    "* **From the schema we know that submitted and review_date are of String datatypes but we need to convert or type cast it into date datatype.**"
   ]
  },
  {
   "cell_type": "markdown",
   "id": "2d44f736",
   "metadata": {},
   "source": [
    " ## <font color='blue'>Task 06:  Converting columns to correct datatype and creating time based features </font>"
   ]
  },
  {
   "cell_type": "code",
   "execution_count": 38,
   "id": "b1533556",
   "metadata": {},
   "outputs": [
    {
     "data": {
      "application/vnd.jupyter.widget-view+json": {
       "model_id": "7cca4b6ccaaa4d909f21a26df4da9790",
       "version_major": 2,
       "version_minor": 0
      },
      "text/plain": [
       "VBox()"
      ]
     },
     "metadata": {},
     "output_type": "display_data"
    },
    {
     "data": {
      "application/vnd.jupyter.widget-view+json": {
       "model_id": "",
       "version_major": 2,
       "version_minor": 0
      },
      "text/plain": [
       "FloatProgress(value=0.0, bar_style='info', description='Progress:', layout=Layout(height='25px', width='50%'),…"
      ]
     },
     "metadata": {},
     "output_type": "display_data"
    }
   ],
   "source": [
    "# type casting submitted and review_date features into date type and creating other time based\n",
    "interaction_level_df = (interaction_level_df.withColumn('submitted',F.col(\"submitted\").cast(\"date\"))\n",
    "                        .withColumn('review_date',F.col(\"review_date\").cast(\"date\")))"
   ]
  },
  {
   "cell_type": "code",
   "execution_count": 39,
   "id": "c2359a64",
   "metadata": {},
   "outputs": [
    {
     "data": {
      "application/vnd.jupyter.widget-view+json": {
       "model_id": "9b55b2e13a5b4fdfa1e1dc6ede38a3e1",
       "version_major": 2,
       "version_minor": 0
      },
      "text/plain": [
       "VBox()"
      ]
     },
     "metadata": {},
     "output_type": "display_data"
    },
    {
     "data": {
      "application/vnd.jupyter.widget-view+json": {
       "model_id": "",
       "version_major": 2,
       "version_minor": 0
      },
      "text/plain": [
       "FloatProgress(value=0.0, bar_style='info', description='Progress:', layout=Layout(height='25px', width='50%'),…"
      ]
     },
     "metadata": {},
     "output_type": "display_data"
    }
   ],
   "source": [
    "interaction_level_df = (interaction_level_df.withColumn('days_since_submission_on_review_date',F.datediff(\"review_date\",\"submitted\"))\n",
    "                        .withColumn('months_since_submission_on_review_date',F.months_between(\"review_date\",\"submitted\"))\n",
    "                        .withColumn('years_since_submission_on_review_date',F.months_between(\"review_date\",\"submitted\")/12))"
   ]
  },
  {
   "cell_type": "code",
   "execution_count": 40,
   "id": "c0bd1ccd",
   "metadata": {},
   "outputs": [
    {
     "data": {
      "application/vnd.jupyter.widget-view+json": {
       "model_id": "ded2ab0da29f496ab95423587e63f6db",
       "version_major": 2,
       "version_minor": 0
      },
      "text/plain": [
       "VBox()"
      ]
     },
     "metadata": {},
     "output_type": "display_data"
    },
    {
     "data": {
      "application/vnd.jupyter.widget-view+json": {
       "model_id": "",
       "version_major": 2,
       "version_minor": 0
      },
      "text/plain": [
       "FloatProgress(value=0.0, bar_style='info', description='Progress:', layout=Layout(height='25px', width='50%'),…"
      ]
     },
     "metadata": {},
     "output_type": "display_data"
    },
    {
     "name": "stdout",
     "output_type": "stream",
     "text": [
      "1132367 33"
     ]
    }
   ],
   "source": [
    "print(interaction_level_df.count(),  len(interaction_level_df.columns))"
   ]
  },
  {
   "cell_type": "code",
   "execution_count": 41,
   "id": "125b7aa2",
   "metadata": {},
   "outputs": [
    {
     "data": {
      "application/vnd.jupyter.widget-view+json": {
       "model_id": "78589567862b49a49849e4ec8c0d3f77",
       "version_major": 2,
       "version_minor": 0
      },
      "text/plain": [
       "VBox()"
      ]
     },
     "metadata": {},
     "output_type": "display_data"
    },
    {
     "data": {
      "application/vnd.jupyter.widget-view+json": {
       "model_id": "",
       "version_major": 2,
       "version_minor": 0
      },
      "text/plain": [
       "FloatProgress(value=0.0, bar_style='info', description='Progress:', layout=Layout(height='25px', width='50%'),…"
      ]
     },
     "metadata": {},
     "output_type": "display_data"
    }
   ],
   "source": [
    "# Using same assert commands from Sample template\n",
    "\n",
    "assert interaction_level_df.schema[\"days_since_submission_on_review_date\"].dataType == IntegerType()\n",
    "\n",
    "assert (interaction_level_df.filter((interaction_level_df.user_id == 428885) & (interaction_level_df.recipe_id == 335241))\n",
    "                            .select('days_since_submission_on_review_date').collect()[0][0]) == 77\n",
    "assert (interaction_level_df.filter((interaction_level_df.user_id == 2025676) & (interaction_level_df.recipe_id == 94265))\n",
    "                            .select('months_since_submission_on_review_date').collect()[0][0]) == 153.22580645\n",
    "assert (interaction_level_df.filter((interaction_level_df.user_id == 338588) & (interaction_level_df.recipe_id == 21859))\n",
    "                            .select('years_since_submission_on_review_date').collect()[0][0]) == 4.564516129166667"
   ]
  },
  {
   "cell_type": "code",
   "execution_count": 42,
   "id": "c8d840db",
   "metadata": {},
   "outputs": [
    {
     "data": {
      "application/vnd.jupyter.widget-view+json": {
       "model_id": "7e66db15ad0c4d3292e00dd72680edb5",
       "version_major": 2,
       "version_minor": 0
      },
      "text/plain": [
       "VBox()"
      ]
     },
     "metadata": {},
     "output_type": "display_data"
    },
    {
     "data": {
      "application/vnd.jupyter.widget-view+json": {
       "model_id": "",
       "version_major": 2,
       "version_minor": 0
      },
      "text/plain": [
       "FloatProgress(value=0.0, bar_style='info', description='Progress:', layout=Layout(height='25px', width='50%'),…"
      ]
     },
     "metadata": {},
     "output_type": "display_data"
    },
    {
     "name": "stdout",
     "output_type": "stream",
     "text": [
      "root\n",
      " |-- user_id: integer (nullable = true)\n",
      " |-- recipe_id: integer (nullable = true)\n",
      " |-- rating: integer (nullable = true)\n",
      " |-- review: string (nullable = true)\n",
      " |-- review_date: date (nullable = true)\n",
      " |-- name: string (nullable = true)\n",
      " |-- id: integer (nullable = true)\n",
      " |-- minutes: integer (nullable = true)\n",
      " |-- contributor_id: integer (nullable = true)\n",
      " |-- submitted: date (nullable = true)\n",
      " |-- tags: array (nullable = true)\n",
      " |    |-- element: string (containsNull = true)\n",
      " |-- nutrition: string (nullable = true)\n",
      " |-- n_steps: integer (nullable = true)\n",
      " |-- steps: string (nullable = true)\n",
      " |-- description: string (nullable = true)\n",
      " |-- ingredients: array (nullable = true)\n",
      " |    |-- element: string (containsNull = true)\n",
      " |-- n_ingredients: integer (nullable = true)\n",
      " |-- calories: float (nullable = true)\n",
      " |-- total_fat_PDV: float (nullable = true)\n",
      " |-- sugar_PDV: float (nullable = true)\n",
      " |-- sodium_PDV: float (nullable = true)\n",
      " |-- protein_PDV: float (nullable = true)\n",
      " |-- saturated_fat_PDV: float (nullable = true)\n",
      " |-- carbohydrates_PDV: float (nullable = true)\n",
      " |-- total_fat_per_100_cal: double (nullable = true)\n",
      " |-- sugar_per_100_cal: double (nullable = true)\n",
      " |-- sodium_per_100_cal: double (nullable = true)\n",
      " |-- protein_per_100_cal: double (nullable = true)\n",
      " |-- saturated_fat_per_100_cal: double (nullable = true)\n",
      " |-- carbohydrates_per_100_cal: double (nullable = true)\n",
      " |-- days_since_submission_on_review_date: integer (nullable = true)\n",
      " |-- months_since_submission_on_review_date: double (nullable = true)\n",
      " |-- years_since_submission_on_review_date: double (nullable = true)"
     ]
    }
   ],
   "source": [
    "# Schema of Overall dataframe\n",
    "interaction_level_df.printSchema()"
   ]
  },
  {
   "cell_type": "code",
   "execution_count": 43,
   "id": "988a75ba",
   "metadata": {},
   "outputs": [
    {
     "data": {
      "application/vnd.jupyter.widget-view+json": {
       "model_id": "f9ab3f54e8394d98b45f2cf038cce4d8",
       "version_major": 2,
       "version_minor": 0
      },
      "text/plain": [
       "VBox()"
      ]
     },
     "metadata": {},
     "output_type": "display_data"
    },
    {
     "data": {
      "application/vnd.jupyter.widget-view+json": {
       "model_id": "",
       "version_major": 2,
       "version_minor": 0
      },
      "text/plain": [
       "FloatProgress(value=0.0, bar_style='info', description='Progress:', layout=Layout(height='25px', width='50%'),…"
      ]
     },
     "metadata": {},
     "output_type": "display_data"
    },
    {
     "name": "stdout",
     "output_type": "stream",
     "text": [
      "+-------+---------+------+------+-----------+----+---+-------+--------------+---------+----+---------+-------+-----+-----------+-----------+-------------+--------+-------------+---------+----------+-----------+-----------------+-----------------+---------------------+-----------------+------------------+-------------------+-------------------------+-------------------------+------------------------------------+--------------------------------------+-------------------------------------+\n",
      "|user_id|recipe_id|rating|review|review_date|name| id|minutes|contributor_id|submitted|tags|nutrition|n_steps|steps|description|ingredients|n_ingredients|calories|total_fat_PDV|sugar_PDV|sodium_PDV|protein_PDV|saturated_fat_PDV|carbohydrates_PDV|total_fat_per_100_cal|sugar_per_100_cal|sodium_per_100_cal|protein_per_100_cal|saturated_fat_per_100_cal|carbohydrates_per_100_cal|days_since_submission_on_review_date|months_since_submission_on_review_date|years_since_submission_on_review_date|\n",
      "+-------+---------+------+------+-----------+----+---+-------+--------------+---------+----+---------+-------+-----+-----------+-----------+-------------+--------+-------------+---------+----------+-----------+-----------------+-----------------+---------------------+-----------------+------------------+-------------------+-------------------------+-------------------------+------------------------------------+--------------------------------------+-------------------------------------+\n",
      "|      0|        0|     0|     0|          0|   1|  0|      0|             0|        0|   0|        0|      0|    0|          0|          0|            0|       0|            0|        0|         0|          0|                0|                0|                    0|                0|                 0|                  0|                        0|                        0|                                   0|                                     0|                                    0|\n",
      "+-------+---------+------+------+-----------+----+---+-------+--------------+---------+----+---------+-------+-----+-----------+-----------+-------------+--------+-------------+---------+----------+-----------+-----------------+-----------------+---------------------+-----------------+------------------+-------------------+-------------------------+-------------------------+------------------------------------+--------------------------------------+-------------------------------------+"
     ]
    }
   ],
   "source": [
    "# Checking for Null values present in overall_df\n",
    "interaction_level_df.select([F.count(F.when(F.col(c).isNull(), c)).alias(c) for c in interaction_level_df.columns]).show()\n",
    "\n",
    "# There are no null values apart from name feature which has 1 null value in it."
   ]
  },
  {
   "cell_type": "code",
   "execution_count": 44,
   "id": "66d903d0",
   "metadata": {},
   "outputs": [
    {
     "data": {
      "application/vnd.jupyter.widget-view+json": {
       "model_id": "0b3025359da3474eba3559288fb57562",
       "version_major": 2,
       "version_minor": 0
      },
      "text/plain": [
       "VBox()"
      ]
     },
     "metadata": {},
     "output_type": "display_data"
    },
    {
     "data": {
      "application/vnd.jupyter.widget-view+json": {
       "model_id": "",
       "version_major": 2,
       "version_minor": 0
      },
      "text/plain": [
       "FloatProgress(value=0.0, bar_style='info', description='Progress:', layout=Layout(height='25px', width='50%'),…"
      ]
     },
     "metadata": {},
     "output_type": "display_data"
    },
    {
     "name": "stdout",
     "output_type": "stream",
     "text": [
      "+-------+------------------------------------+--------------------------------------+-------------------------------------+\n",
      "|summary|days_since_submission_on_review_date|months_since_submission_on_review_date|years_since_submission_on_review_date|\n",
      "+-------+------------------------------------+--------------------------------------+-------------------------------------+\n",
      "|  count|                             1132367|                               1132367|                              1132367|\n",
      "|   mean|                  1389.9705952222203|                    45.664506750994036|                   3.8053755625830123|\n",
      "| stddev|                  1282.3787264985822|                    42.130406040453565|                   3.5108671700378014|\n",
      "|    min|                               -1765|                                 -58.0|                   -4.833333333333333|\n",
      "|    max|                                7044|                          231.41935484|                   19.284946236666666|\n",
      "+-------+------------------------------------+--------------------------------------+-------------------------------------+"
     ]
    }
   ],
   "source": [
    "## checking statistical values for newly created time based feaures\n",
    "interaction_level_df.select(['days_since_submission_on_review_date','months_since_submission_on_review_date',\n",
    "                   'years_since_submission_on_review_date']).describe().show()\n",
    "\n",
    "# least value is -1765 days (days cannot be in negative values) & max value is 7044 days."
   ]
  },
  {
   "cell_type": "code",
   "execution_count": 45,
   "id": "177fc891",
   "metadata": {},
   "outputs": [
    {
     "data": {
      "application/vnd.jupyter.widget-view+json": {
       "model_id": "8408660d900e452990f0988bbf40c475",
       "version_major": 2,
       "version_minor": 0
      },
      "text/plain": [
       "VBox()"
      ]
     },
     "metadata": {},
     "output_type": "display_data"
    },
    {
     "data": {
      "application/vnd.jupyter.widget-view+json": {
       "model_id": "",
       "version_major": 2,
       "version_minor": 0
      },
      "text/plain": [
       "FloatProgress(value=0.0, bar_style='info', description='Progress:', layout=Layout(height='25px', width='50%'),…"
      ]
     },
     "metadata": {},
     "output_type": "display_data"
    }
   ],
   "source": [
    "interaction_level_df.write.mode('overwrite').parquet('s3://deepaksinghpanwarassignmentonsparkbucket/interaction_level_df_final_Processed_data.parquet')"
   ]
  },
  {
   "cell_type": "code",
   "execution_count": null,
   "id": "37b493f1",
   "metadata": {},
   "outputs": [],
   "source": []
  }
 ],
 "metadata": {
  "kernelspec": {
   "display_name": "PySpark",
   "language": "",
   "name": "pysparkkernel"
  },
  "language_info": {
   "codemirror_mode": {
    "name": "python",
    "version": 3
   },
   "mimetype": "text/x-python",
   "name": "pyspark",
   "pygments_lexer": "python3"
  }
 },
 "nbformat": 4,
 "nbformat_minor": 5
}
